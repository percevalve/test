{
 "cells": [
  {
   "cell_type": "code",
   "execution_count": 1,
   "metadata": {},
   "outputs": [],
   "source": [
    "%matplotlib inline\n",
    "import numpy as np\n",
    "import pandas as pd\n",
    "import scipy\n",
    "import sklearn\n",
    "import matplotlib.pyplot as plt\n",
    "import seaborn as sns\n",
    "import os\n"
   ]
  },
  {
   "cell_type": "code",
   "execution_count": 2,
   "metadata": {},
   "outputs": [
    {
     "data": {
      "text/plain": [
       "['Naive Bayes sentiment analysis.ipynb',\n",
       " 'my_screenshot.png',\n",
       " 'Table_8_Offenses_Known_to_Law_Enforcement_by_State_by_City_2013.xls',\n",
       " 'credit',\n",
       " 'NY_city_offense_2013.ipynb',\n",
       " 'Visualisation churn.ipynb',\n",
       " '.DS_Store',\n",
       " 'Airbnb.ipynb',\n",
       " 'LICENSE',\n",
       " 'plane_crashes_data.csv',\n",
       " 'rezscore',\n",
       " 'Unit 3 - Lesson 3 - Chapter 4.ipynb',\n",
       " 'Untitled.ipynb',\n",
       " 'Iris.ipynb',\n",
       " 'KaggleV2-May-2016.csv',\n",
       " 'DRILL - Exploring the Central Limit Theorem.ipynb',\n",
       " 'food_data',\n",
       " 'kernel_final.ipynb',\n",
       " 'first_linear.ipynb',\n",
       " 'my_screenshot_0.png',\n",
       " 'WELLCOME_APCspend2013_forThinkful.csv',\n",
       " 'my_screenshot_1.png',\n",
       " 'README.md',\n",
       " 'forest_cover-PCA.ipynb',\n",
       " 'forest_cover.ipynb',\n",
       " '.gitignore',\n",
       " 'forest_cover.csv',\n",
       " '.env',\n",
       " 'kernel_final-Copy1.ipynb',\n",
       " 'Airplace crash.ipynb',\n",
       " 'NY_city_offense_2013-Copy1.ipynb',\n",
       " 'winemag-data-130k-v2.csv',\n",
       " '.ipynb_checkpoints',\n",
       " '.git',\n",
       " 'sentiment',\n",
       " 'Data cleaning.ipynb',\n",
       " 'no_show_rate.ipynb',\n",
       " 'WA_Fn-UseC_-Telco-Customer-Churn.csv',\n",
       " 'pm_hack',\n",
       " 'OneDrive_1_05-10-2018',\n",
       " 'table_8_offenses_known_to_law_enforcement_new_york_by_city_2013.xls',\n",
       " 'winemag-data_first150k.csv']"
      ]
     },
     "execution_count": 2,
     "metadata": {},
     "output_type": "execute_result"
    }
   ],
   "source": [
    "os.listdir(\".\")"
   ]
  },
  {
   "cell_type": "code",
   "execution_count": 3,
   "metadata": {},
   "outputs": [],
   "source": [
    "review_raw = pd.read_csv(\"sentiment/imdb_labelled.txt\", delimiter= '\\t', header=None)\n",
    "review_raw.columns = ['review', 'classif']\n",
    "second_raw = pd.read_csv(\"sentiment/yelp_labelled.txt\", delimiter= '\\t', header=None)\n",
    "second_raw.columns = ['review', 'classif']"
   ]
  },
  {
   "cell_type": "markdown",
   "metadata": {},
   "source": [
    "# Data\n",
    "\n",
    "There are 748 reviews.\n",
    "We have 2 types of classification : 0 or 1."
   ]
  },
  {
   "cell_type": "code",
   "execution_count": 4,
   "metadata": {},
   "outputs": [
    {
     "data": {
      "text/plain": [
       "array([0, 1])"
      ]
     },
     "execution_count": 4,
     "metadata": {},
     "output_type": "execute_result"
    }
   ],
   "source": [
    "review_raw.classif.unique()"
   ]
  },
  {
   "cell_type": "code",
   "execution_count": 5,
   "metadata": {},
   "outputs": [
    {
     "data": {
      "text/plain": [
       "(748, 2)"
      ]
     },
     "execution_count": 5,
     "metadata": {},
     "output_type": "execute_result"
    }
   ],
   "source": [
    "review_raw.shape"
   ]
  },
  {
   "cell_type": "code",
   "execution_count": 6,
   "metadata": {},
   "outputs": [
    {
     "data": {
      "text/html": [
       "<div>\n",
       "<style scoped>\n",
       "    .dataframe tbody tr th:only-of-type {\n",
       "        vertical-align: middle;\n",
       "    }\n",
       "\n",
       "    .dataframe tbody tr th {\n",
       "        vertical-align: top;\n",
       "    }\n",
       "\n",
       "    .dataframe thead th {\n",
       "        text-align: right;\n",
       "    }\n",
       "</style>\n",
       "<table border=\"1\" class=\"dataframe\">\n",
       "  <thead>\n",
       "    <tr style=\"text-align: right;\">\n",
       "      <th></th>\n",
       "      <th>review</th>\n",
       "      <th>classif</th>\n",
       "    </tr>\n",
       "  </thead>\n",
       "  <tbody>\n",
       "    <tr>\n",
       "      <th>702</th>\n",
       "      <td>It's too bad that everyone else involved didn'...</td>\n",
       "      <td>0</td>\n",
       "    </tr>\n",
       "    <tr>\n",
       "      <th>746</th>\n",
       "      <td>Exceptionally bad!</td>\n",
       "      <td>0</td>\n",
       "    </tr>\n",
       "    <tr>\n",
       "      <th>436</th>\n",
       "      <td>He really didn't seem to want to be hosting; h...</td>\n",
       "      <td>0</td>\n",
       "    </tr>\n",
       "    <tr>\n",
       "      <th>321</th>\n",
       "      <td>Final Word: This Show is a real torture!!</td>\n",
       "      <td>0</td>\n",
       "    </tr>\n",
       "    <tr>\n",
       "      <th>307</th>\n",
       "      <td>About ten minutes into this film I started hav...</td>\n",
       "      <td>0</td>\n",
       "    </tr>\n",
       "    <tr>\n",
       "      <th>341</th>\n",
       "      <td>i wouldnt see this movie again for free.</td>\n",
       "      <td>0</td>\n",
       "    </tr>\n",
       "    <tr>\n",
       "      <th>279</th>\n",
       "      <td>The directing is sloppy at best.</td>\n",
       "      <td>0</td>\n",
       "    </tr>\n",
       "    <tr>\n",
       "      <th>744</th>\n",
       "      <td>Unfortunately, any virtue in this film's produ...</td>\n",
       "      <td>0</td>\n",
       "    </tr>\n",
       "    <tr>\n",
       "      <th>114</th>\n",
       "      <td>Everything is appalling.</td>\n",
       "      <td>0</td>\n",
       "    </tr>\n",
       "    <tr>\n",
       "      <th>317</th>\n",
       "      <td>Everything about it is just bad.</td>\n",
       "      <td>0</td>\n",
       "    </tr>\n",
       "  </tbody>\n",
       "</table>\n",
       "</div>"
      ],
      "text/plain": [
       "                                                review  classif\n",
       "702  It's too bad that everyone else involved didn'...        0\n",
       "746                               Exceptionally bad!          0\n",
       "436  He really didn't seem to want to be hosting; h...        0\n",
       "321        Final Word: This Show is a real torture!!          0\n",
       "307  About ten minutes into this film I started hav...        0\n",
       "341         i wouldnt see this movie again for free.          0\n",
       "279                 The directing is sloppy at best.          0\n",
       "744  Unfortunately, any virtue in this film's produ...        0\n",
       "114                         Everything is appalling.          0\n",
       "317                 Everything about it is just bad.          0"
      ]
     },
     "execution_count": 6,
     "metadata": {},
     "output_type": "execute_result"
    }
   ],
   "source": [
    "review_raw[review_raw.classif==0].sample(10)"
   ]
  },
  {
   "cell_type": "code",
   "execution_count": 7,
   "metadata": {},
   "outputs": [
    {
     "data": {
      "text/html": [
       "<div>\n",
       "<style scoped>\n",
       "    .dataframe tbody tr th:only-of-type {\n",
       "        vertical-align: middle;\n",
       "    }\n",
       "\n",
       "    .dataframe tbody tr th {\n",
       "        vertical-align: top;\n",
       "    }\n",
       "\n",
       "    .dataframe thead th {\n",
       "        text-align: right;\n",
       "    }\n",
       "</style>\n",
       "<table border=\"1\" class=\"dataframe\">\n",
       "  <thead>\n",
       "    <tr style=\"text-align: right;\">\n",
       "      <th></th>\n",
       "      <th>review</th>\n",
       "      <th>classif</th>\n",
       "    </tr>\n",
       "  </thead>\n",
       "  <tbody>\n",
       "    <tr>\n",
       "      <th>733</th>\n",
       "      <td>Still it's quite interesting and entertaining ...</td>\n",
       "      <td>1</td>\n",
       "    </tr>\n",
       "    <tr>\n",
       "      <th>294</th>\n",
       "      <td>But this movie really got to me.</td>\n",
       "      <td>1</td>\n",
       "    </tr>\n",
       "    <tr>\n",
       "      <th>157</th>\n",
       "      <td>I must say I have taped most of the episodes a...</td>\n",
       "      <td>1</td>\n",
       "    </tr>\n",
       "    <tr>\n",
       "      <th>700</th>\n",
       "      <td>It presents a idyllic yet serious portrayal of...</td>\n",
       "      <td>1</td>\n",
       "    </tr>\n",
       "    <tr>\n",
       "      <th>415</th>\n",
       "      <td>Go watch it!</td>\n",
       "      <td>1</td>\n",
       "    </tr>\n",
       "    <tr>\n",
       "      <th>287</th>\n",
       "      <td>This movie was kind of long in length, but I e...</td>\n",
       "      <td>1</td>\n",
       "    </tr>\n",
       "    <tr>\n",
       "      <th>142</th>\n",
       "      <td>So for our enjoyment we get to see them run ar...</td>\n",
       "      <td>1</td>\n",
       "    </tr>\n",
       "    <tr>\n",
       "      <th>665</th>\n",
       "      <td>Hopefully, the director James Cox can turn the...</td>\n",
       "      <td>1</td>\n",
       "    </tr>\n",
       "    <tr>\n",
       "      <th>468</th>\n",
       "      <td>If you do watch it, however, there are small c...</td>\n",
       "      <td>1</td>\n",
       "    </tr>\n",
       "    <tr>\n",
       "      <th>689</th>\n",
       "      <td>People who like European films and \"art movies...</td>\n",
       "      <td>1</td>\n",
       "    </tr>\n",
       "  </tbody>\n",
       "</table>\n",
       "</div>"
      ],
      "text/plain": [
       "                                                review  classif\n",
       "733  Still it's quite interesting and entertaining ...        1\n",
       "294                 But this movie really got to me.          1\n",
       "157  I must say I have taped most of the episodes a...        1\n",
       "700  It presents a idyllic yet serious portrayal of...        1\n",
       "415                                     Go watch it!          1\n",
       "287  This movie was kind of long in length, but I e...        1\n",
       "142  So for our enjoyment we get to see them run ar...        1\n",
       "665  Hopefully, the director James Cox can turn the...        1\n",
       "468  If you do watch it, however, there are small c...        1\n",
       "689  People who like European films and \"art movies...        1"
      ]
     },
     "execution_count": 7,
     "metadata": {},
     "output_type": "execute_result"
    }
   ],
   "source": [
    "review_raw[review_raw.classif==1].sample(10)"
   ]
  },
  {
   "cell_type": "markdown",
   "metadata": {},
   "source": [
    "# Brut force!\n",
    "\n",
    "Let see at the word that are used in one type fo review and not the other...."
   ]
  },
  {
   "cell_type": "code",
   "execution_count": 8,
   "metadata": {},
   "outputs": [],
   "source": [
    "import re"
   ]
  },
  {
   "cell_type": "code",
   "execution_count": 9,
   "metadata": {},
   "outputs": [],
   "source": [
    "words_bad = set()\n",
    "regex_pat = re.compile(r\"\\W\", flags=re.IGNORECASE)\n",
    "for i in review_raw[(review_raw.classif==0)].review.str.replace(regex_pat,\" \",regex=True):\n",
    "    words_bad = words_bad.union(set(i.lower().split(\" \")))\n",
    "words_good = set()\n",
    "for i in review_raw[(review_raw.classif==1)].review.str.replace(regex_pat,\" \",regex=True):\n",
    "    words_good = words_good.union(set(i.lower().split(\" \")))\n",
    "    \n",
    "keywords= set(str(k) for k in words_good.union(words_bad) - words_bad.intersection(words_good))"
   ]
  },
  {
   "cell_type": "code",
   "execution_count": 10,
   "metadata": {
    "scrolled": false
   },
   "outputs": [
    {
     "data": {
      "text/plain": [
       "2298"
      ]
     },
     "execution_count": 10,
     "metadata": {},
     "output_type": "execute_result"
    }
   ],
   "source": [
    "len(keywords)"
   ]
  },
  {
   "cell_type": "code",
   "execution_count": 11,
   "metadata": {},
   "outputs": [],
   "source": [
    "for key in keywords:\n",
    "    regex_pat = re.compile(r\"\\W\"+str(key) + '\\W', flags=re.IGNORECASE)\n",
    "    review_raw[str(key)] = review_raw.review.str.contains(\n",
    "        regex_pat\n",
    "    )\n",
    "    second_raw[str(key)] = second_raw.review.str.contains(\n",
    "        regex_pat\n",
    "    )"
   ]
  },
  {
   "cell_type": "code",
   "execution_count": 142,
   "metadata": {},
   "outputs": [],
   "source": [
    "review_raw[\"question\"] = review_raw.review.str.contains(\"\\?\")\n",
    "review_raw[\"love\"] = review_raw.review.str.contains(\"love*\")\n",
    "\n"
   ]
  },
  {
   "cell_type": "code",
   "execution_count": 143,
   "metadata": {},
   "outputs": [],
   "source": [
    "review_raw[\"the_length\"] = review_raw.review.str.len()"
   ]
  },
  {
   "cell_type": "code",
   "execution_count": 144,
   "metadata": {},
   "outputs": [],
   "source": [
    "review_raw[\"the_length_class\"]=pd.cut(review_raw.the_length,[0,50,150,200,max(review_raw.the_length)])"
   ]
  },
  {
   "cell_type": "code",
   "execution_count": 145,
   "metadata": {},
   "outputs": [
    {
     "data": {
      "text/plain": [
       "<matplotlib.axes._subplots.AxesSubplot at 0x1137e11d0>"
      ]
     },
     "execution_count": 145,
     "metadata": {},
     "output_type": "execute_result"
    },
    {
     "data": {
      "image/png": "[encoded data removed]",
      "text/plain": [
       "<Figure size 432x288 with 1 Axes>"
      ]
     },
     "metadata": {
      "needs_background": "light"
     },
     "output_type": "display_data"
    }
   ],
   "source": [
    "sns.countplot(data=review_raw,x=\"the_length_class\",hue=\"classif\")\n"
   ]
  },
  {
   "cell_type": "code",
   "execution_count": 96,
   "metadata": {},
   "outputs": [
    {
     "data": {
      "text/plain": [
       "<matplotlib.axes._subplots.AxesSubplot at 0x1137e1f60>"
      ]
     },
     "execution_count": 96,
     "metadata": {},
     "output_type": "execute_result"
    },
    {
     "data": {
      "image/png": "[encoded data removed]",
      "text/plain": [
       "<Figure size 432x288 with 2 Axes>"
      ]
     },
     "metadata": {
      "needs_background": "light"
     },
     "output_type": "display_data"
    }
   ],
   "source": [
    "sns.heatmap(review_raw.corr())"
   ]
  },
  {
   "cell_type": "code",
   "execution_count": 12,
   "metadata": {},
   "outputs": [],
   "source": [
    "data = review_raw[list(keywords)]\n",
    "target = review_raw.classif"
   ]
  },
  {
   "cell_type": "code",
   "execution_count": 13,
   "metadata": {},
   "outputs": [
    {
     "name": "stdout",
     "output_type": "stream",
     "text": [
      "Number of mislabeled points out of a total 748 points : 62\n"
     ]
    }
   ],
   "source": [
    "# Our data is binary / boolean, so we're importing the Bernoulli classifier.\n",
    "from sklearn.naive_bayes import BernoulliNB\n",
    "\n",
    "# Instantiate our model and store it in a new variable.\n",
    "bnb = BernoulliNB()\n",
    "\n",
    "# Fit our model to the data.\n",
    "bnb.fit(data, target)\n",
    "\n",
    "# Classify, storing the result in a new variable.\n",
    "y_pred = bnb.predict(data)\n",
    "\n",
    "# Display our results.\n",
    "print(\"Number of mislabeled points out of a total {} points : {}\".format(\n",
    "    data.shape[0],\n",
    "    (target != y_pred).sum()\n",
    "))\n",
    "review_raw[\"result\"] = True\n",
    "review_raw.loc[(target != y_pred),\"result\"] = False"
   ]
  },
  {
   "cell_type": "code",
   "execution_count": 14,
   "metadata": {},
   "outputs": [
    {
     "data": {
      "text/plain": [
       "(748, 2301)"
      ]
     },
     "execution_count": 14,
     "metadata": {},
     "output_type": "execute_result"
    }
   ],
   "source": [
    "review_raw.shape"
   ]
  },
  {
   "cell_type": "markdown",
   "metadata": {},
   "source": [
    "# Results\n",
    "\n",
    "The result seems to be very impressive, only 60 mystakes... but is it real?"
   ]
  },
  {
   "cell_type": "code",
   "execution_count": 15,
   "metadata": {
    "scrolled": true
   },
   "outputs": [
    {
     "data": {
      "text/html": [
       "<div>\n",
       "<style scoped>\n",
       "    .dataframe tbody tr th:only-of-type {\n",
       "        vertical-align: middle;\n",
       "    }\n",
       "\n",
       "    .dataframe tbody tr th {\n",
       "        vertical-align: top;\n",
       "    }\n",
       "\n",
       "    .dataframe thead th {\n",
       "        text-align: right;\n",
       "    }\n",
       "</style>\n",
       "<table border=\"1\" class=\"dataframe\">\n",
       "  <thead>\n",
       "    <tr style=\"text-align: right;\">\n",
       "      <th>result</th>\n",
       "      <th>False</th>\n",
       "      <th>True</th>\n",
       "    </tr>\n",
       "    <tr>\n",
       "      <th>classif</th>\n",
       "      <th></th>\n",
       "      <th></th>\n",
       "    </tr>\n",
       "  </thead>\n",
       "  <tbody>\n",
       "    <tr>\n",
       "      <th>0</th>\n",
       "      <td>62</td>\n",
       "      <td>300</td>\n",
       "    </tr>\n",
       "    <tr>\n",
       "      <th>1</th>\n",
       "      <td>0</td>\n",
       "      <td>386</td>\n",
       "    </tr>\n",
       "  </tbody>\n",
       "</table>\n",
       "</div>"
      ],
      "text/plain": [
       "result   False  True \n",
       "classif              \n",
       "0           62    300\n",
       "1            0    386"
      ]
     },
     "execution_count": 15,
     "metadata": {},
     "output_type": "execute_result"
    }
   ],
   "source": [
    "pd.crosstab(review_raw.classif,review_raw.result)"
   ]
  },
  {
   "cell_type": "code",
   "execution_count": 16,
   "metadata": {},
   "outputs": [
    {
     "data": {
      "text/plain": [
       "array([0.84210526, 0.82894737, 0.65333333, 0.78666667, 0.77333333,\n",
       "       0.78666667, 0.82432432, 0.83783784, 0.67567568, 0.74324324])"
      ]
     },
     "execution_count": 16,
     "metadata": {},
     "output_type": "execute_result"
    }
   ],
   "source": [
    "from sklearn.model_selection import cross_val_score\n",
    "cross_val_score(bnb, data, target, cv=10)"
   ]
  },
  {
   "cell_type": "markdown",
   "metadata": {},
   "source": [
    "# Hypothesis\n",
    "\n",
    "As we are using every single words in that is in one kind of review and not the other, we might be doing our classification of word that are only use in a limited number of reviews.\n",
    "\n",
    "If our hypothesis is right, we should get less variation by removing the words that are only used in a few reviews.\n",
    "\n",
    "Doing a histrogramme of the number of occurence, we notice we have a majority of keyword that only occures once or twice: those are good candidate for \"overfitting\"."
   ]
  },
  {
   "cell_type": "code",
   "execution_count": 17,
   "metadata": {},
   "outputs": [
    {
     "data": {
      "text/plain": [
       "(array([1.914e+03, 2.680e+02, 7.400e+01, 2.800e+01, 7.000e+00, 4.000e+00,\n",
       "        0.000e+00, 1.000e+00, 0.000e+00, 2.000e+00]),\n",
       " array([ 0. ,  1.2,  2.4,  3.6,  4.8,  6. ,  7.2,  8.4,  9.6, 10.8, 12. ]),\n",
       " <a list of 10 Patch objects>)"
      ]
     },
     "execution_count": 17,
     "metadata": {},
     "output_type": "execute_result"
    },
    {
     "data": {
      "image/png": "[encoded data removed]",
      "text/plain": [
       "<Figure size 432x288 with 1 Axes>"
      ]
     },
     "metadata": {
      "needs_background": "light"
     },
     "output_type": "display_data"
    }
   ],
   "source": [
    "numbers_of_occurence = []\n",
    "for key in keywords:\n",
    "    numbers_of_occurence.append(np.sum(review_raw[key]))\n",
    "    if np.sum(review_raw[key])> 748:\n",
    "        print(key,np.sum(review_raw[key]))\n",
    "plt.hist(numbers_of_occurence)\n"
   ]
  },
  {
   "cell_type": "markdown",
   "metadata": {},
   "source": [
    "# Cleaning up\n",
    "\n",
    "Let's remove the occurence that only appear a limited number of time, let's say less than 3 times.."
   ]
  },
  {
   "cell_type": "code",
   "execution_count": 18,
   "metadata": {},
   "outputs": [
    {
     "name": "stdout",
     "output_type": "stream",
     "text": [
      "12\n"
     ]
    },
    {
     "data": {
      "image/png": "[encoded data removed]",
      "text/plain": [
       "<Figure size 432x288 with 1 Axes>"
      ]
     },
     "metadata": {
      "needs_background": "light"
     },
     "output_type": "display_data"
    }
   ],
   "source": [
    "keywords_2 = []\n",
    "numbers_of_occurence = []\n",
    "\n",
    "for key in keywords:\n",
    "    if np.sum(review_raw[key])> 2:\n",
    "        keywords_2.append(key)\n",
    "        numbers_of_occurence.append(np.sum(review_raw[key]))\n",
    "plt.hist(numbers_of_occurence)\n",
    "print(max(numbers_of_occurence))"
   ]
  },
  {
   "cell_type": "code",
   "execution_count": 19,
   "metadata": {},
   "outputs": [
    {
     "name": "stdout",
     "output_type": "stream",
     "text": [
      "Number of mislabeled points out of a total 748 points : 228\n",
      "[0.69736842 0.67105263 0.72       0.72       0.64       0.68\n",
      " 0.71621622 0.71621622 0.66216216 0.7027027 ]\n"
     ]
    }
   ],
   "source": [
    "data_less = review_raw[list(keywords_2)]\n",
    "target = review_raw.classif\n",
    "# Fit our model to the data.\n",
    "bnb.fit(data_less, target)\n",
    "\n",
    "# Classify, storing the result in a new variable.\n",
    "y_pred = bnb.predict(data_less)\n",
    "\n",
    "# Display our results.\n",
    "print(\"Number of mislabeled points out of a total {} points : {}\".format(\n",
    "    data_less.shape[0],\n",
    "    (target != y_pred).sum()\n",
    "))\n",
    "review_raw[\"result\"] = True\n",
    "review_raw.loc[(target != y_pred),\"result\"] = False\n",
    "print(cross_val_score(bnb, data_less, target, cv=10))"
   ]
  },
  {
   "cell_type": "code",
   "execution_count": 20,
   "metadata": {},
   "outputs": [],
   "source": [
    "data_2 = second_raw[list(keywords_2)]\n",
    "target_2 = second_raw.classif"
   ]
  },
  {
   "cell_type": "code",
   "execution_count": 22,
   "metadata": {
    "scrolled": false
   },
   "outputs": [
    {
     "name": "stdout",
     "output_type": "stream",
     "text": [
      "Number of mislabeled points out of a total 1000 points : 450\n"
     ]
    },
    {
     "data": {
      "text/html": [
       "<div>\n",
       "<style scoped>\n",
       "    .dataframe tbody tr th:only-of-type {\n",
       "        vertical-align: middle;\n",
       "    }\n",
       "\n",
       "    .dataframe tbody tr th {\n",
       "        vertical-align: top;\n",
       "    }\n",
       "\n",
       "    .dataframe thead th {\n",
       "        text-align: right;\n",
       "    }\n",
       "</style>\n",
       "<table border=\"1\" class=\"dataframe\">\n",
       "  <thead>\n",
       "    <tr style=\"text-align: right;\">\n",
       "      <th>result</th>\n",
       "      <th>False</th>\n",
       "      <th>True</th>\n",
       "    </tr>\n",
       "    <tr>\n",
       "      <th>classif</th>\n",
       "      <th></th>\n",
       "      <th></th>\n",
       "    </tr>\n",
       "  </thead>\n",
       "  <tbody>\n",
       "    <tr>\n",
       "      <th>0</th>\n",
       "      <td>387</td>\n",
       "      <td>113</td>\n",
       "    </tr>\n",
       "    <tr>\n",
       "      <th>1</th>\n",
       "      <td>63</td>\n",
       "      <td>437</td>\n",
       "    </tr>\n",
       "  </tbody>\n",
       "</table>\n",
       "</div>"
      ],
      "text/plain": [
       "result   False  True \n",
       "classif              \n",
       "0          387    113\n",
       "1           63    437"
      ]
     },
     "execution_count": 22,
     "metadata": {},
     "output_type": "execute_result"
    }
   ],
   "source": [
    "y_pred_2 = bnb.predict(data_2)\n",
    "\n",
    "# Display our results.\n",
    "print(\"Number of mislabeled points out of a total {} points : {}\".format(\n",
    "    data_2.shape[0],\n",
    "    (target_2 != y_pred_2).sum()\n",
    "))\n",
    "second_raw[\"result\"] = True\n",
    "second_raw.loc[(target_2 != y_pred_2),\"result\"] = False\n",
    "pd.crosstab(second_raw.classif,second_raw.result)"
   ]
  },
  {
   "cell_type": "code",
   "execution_count": 24,
   "metadata": {},
   "outputs": [
    {
     "data": {
      "text/plain": [
       "['writer',\n",
       " 'wouldn',\n",
       " 'etc',\n",
       " 'cheap',\n",
       " 'occasionally',\n",
       " 'involved',\n",
       " 'picture',\n",
       " 'tale',\n",
       " 'possible',\n",
       " 'set',\n",
       " 'shots',\n",
       " 'looking',\n",
       " 'couldn',\n",
       " 'joy',\n",
       " 'exactly',\n",
       " 'place',\n",
       " 'entertaining',\n",
       " 'fantastic',\n",
       " 'recent',\n",
       " 'ed',\n",
       " 'silent',\n",
       " 'wind',\n",
       " 'enjoyable',\n",
       " 'feel',\n",
       " 'effective',\n",
       " 'south',\n",
       " 'storyline',\n",
       " 'giallo',\n",
       " 'wilkinson',\n",
       " 'imagination',\n",
       " 'trash',\n",
       " 'unconvincing',\n",
       " 'remake',\n",
       " 'ridiculous',\n",
       " 'role',\n",
       " 'brilliant',\n",
       " 'actresses',\n",
       " 'awful',\n",
       " 'worst',\n",
       " 'beginning',\n",
       " 'intelligence',\n",
       " 'roles',\n",
       " 'miyazaki',\n",
       " 'adorable',\n",
       " 'lion',\n",
       " 'although',\n",
       " 'embarrassing',\n",
       " 'checking',\n",
       " 'space',\n",
       " 'mediocre',\n",
       " 'true',\n",
       " 'superb',\n",
       " 'hilarious',\n",
       " 'become',\n",
       " 'free',\n",
       " 'sure',\n",
       " 'sea',\n",
       " 'touching',\n",
       " 'pathetic',\n",
       " 'average',\n",
       " 'faux',\n",
       " 'score',\n",
       " 'bore',\n",
       " 'learn',\n",
       " 'money',\n",
       " 'due',\n",
       " 'rating',\n",
       " 'gem',\n",
       " 'photography',\n",
       " 'appreciate',\n",
       " 'nonsense',\n",
       " 'paced',\n",
       " 'directed',\n",
       " 'genuine',\n",
       " 'along',\n",
       " 'interesting',\n",
       " 'rate',\n",
       " 'heart',\n",
       " 'annoying',\n",
       " 'mean',\n",
       " 'appearance',\n",
       " 'wasted',\n",
       " 'provoking',\n",
       " 'example',\n",
       " 'charming',\n",
       " 'clichés',\n",
       " 'mickey',\n",
       " 'pretentious',\n",
       " 'whatever',\n",
       " 'parts',\n",
       " 'huston',\n",
       " 'scenery',\n",
       " 'ability',\n",
       " 'oh',\n",
       " 'poor',\n",
       " 'fine',\n",
       " 'glad',\n",
       " 'hard',\n",
       " 'under',\n",
       " 'unbelievable',\n",
       " 'terrific',\n",
       " 'showed',\n",
       " 'song',\n",
       " 'hours',\n",
       " 'indulgent',\n",
       " 'whatsoever',\n",
       " 'reason',\n",
       " 'pure',\n",
       " 'seemed',\n",
       " 'idea',\n",
       " 'including',\n",
       " 'sucked',\n",
       " 'negative',\n",
       " 'war',\n",
       " 'torture',\n",
       " 'depth']"
      ]
     },
     "execution_count": 24,
     "metadata": {},
     "output_type": "execute_result"
    }
   ],
   "source": [
    "keywords_2"
   ]
  },
  {
   "cell_type": "markdown",
   "metadata": {},
   "source": [
    "We are basically over-fitting the Imdb reviews, but an only get 60% of the labelling correct for Yelp: this is not very good..."
   ]
  },
  {
   "cell_type": "markdown",
   "metadata": {},
   "source": [
    "# A more subtle way ?\n",
    "\n",
    "Let see if we can do better by selecting keywords that will make more sense.. and some feather engineering."
   ]
  },
  {
   "cell_type": "code",
   "execution_count": 25,
   "metadata": {},
   "outputs": [],
   "source": [
    "review_raw = pd.read_csv(\"sentiment/imdb_labelled.txt\", delimiter= '\\t', header=None)\n",
    "review_raw.columns = ['review', 'classif']\n",
    "second_raw = pd.read_csv(\"sentiment/yelp_labelled.txt\", delimiter= '\\t', header=None)\n",
    "second_raw.columns = ['review', 'classif']"
   ]
  },
  {
   "cell_type": "code",
   "execution_count": 26,
   "metadata": {},
   "outputs": [],
   "source": [
    "keywords = ['awful', 'bad', 'worst', 'barely','predictable','boring', 'irritating', 'good', 'wonderful',\"trash\",\"pointless\",\"waste\",\"but\"\n",
    "           ,'disappointing',\"cheap\",\"poor\",'DO NOT RENT','aimless','nonetheless','horrendous',\"avoid\",\"terrible\",\"shameful\",\"best\"]\n"
   ]
  },
  {
   "cell_type": "code",
   "execution_count": null,
   "metadata": {},
   "outputs": [],
   "source": []
  },
  {
   "cell_type": "code",
   "execution_count": 27,
   "metadata": {},
   "outputs": [],
   "source": [
    "for key in keywords:\n",
    "    regex_pat = re.compile(r\"\\W\"+str(key) + '\\W', flags=re.IGNORECASE)\n",
    "    review_raw[str(key)] = review_raw.review.str.contains(\n",
    "        regex_pat\n",
    "    )\n",
    "    second_raw[str(key)] = second_raw.review.str.contains(\n",
    "        regex_pat\n",
    "    )"
   ]
  },
  {
   "cell_type": "code",
   "execution_count": 28,
   "metadata": {},
   "outputs": [
    {
     "name": "stdout",
     "output_type": "stream",
     "text": [
      "55\n"
     ]
    },
    {
     "data": {
      "image/png": "[encoded data removed]",
      "text/plain": [
       "<Figure size 432x288 with 1 Axes>"
      ]
     },
     "metadata": {
      "needs_background": "light"
     },
     "output_type": "display_data"
    }
   ],
   "source": [
    "keywords_2 = []\n",
    "numbers_of_occurence = []\n",
    "\n",
    "for key in keywords:\n",
    "    if np.sum(review_raw[key])> 1:\n",
    "        keywords_2.append(key)\n",
    "        numbers_of_occurence.append(np.sum(review_raw[key]))\n",
    "plt.hist(numbers_of_occurence)\n",
    "print(max(numbers_of_occurence))"
   ]
  },
  {
   "cell_type": "markdown",
   "metadata": {},
   "source": [
    "By looking at the reviews, it seems that negative reviews often finish with a question mark, let's see if this is indeed true:"
   ]
  },
  {
   "cell_type": "code",
   "execution_count": 29,
   "metadata": {},
   "outputs": [
    {
     "data": {
      "text/plain": [
       "<matplotlib.axes._subplots.AxesSubplot at 0x111e5f438>"
      ]
     },
     "execution_count": 29,
     "metadata": {},
     "output_type": "execute_result"
    },
    {
     "data": {
      "image/png": "[encoded data removed]",
      "text/plain": [
       "<Figure size 432x288 with 1 Axes>"
      ]
     },
     "metadata": {
      "needs_background": "light"
     },
     "output_type": "display_data"
    }
   ],
   "source": [
    "review_raw[\"question\"] = review_raw.review.str.contains(\"\\?\")\n",
    "review_raw[\"love\"] = review_raw.review.str.contains(\"love*\")\n",
    "\n",
    "second_raw[\"question\"] = second_raw.review.str.contains(\"\\?\")\n",
    "second_raw[\"love\"] = second_raw.review.str.contains(\"love*\")\n",
    "\n",
    "sns.countplot(data=review_raw,x=\"question\",hue=\"classif\")\n",
    "\n"
   ]
  },
  {
   "cell_type": "markdown",
   "metadata": {},
   "source": [
    "Indeed it seems that review with a question mark are more likely to be negative, and positive when they do not have one."
   ]
  },
  {
   "cell_type": "markdown",
   "metadata": {},
   "source": [
    "# Review length : can it help?\n",
    "\n",
    "Assumtion here is that when you like a film, you are more likely to give a longer review...\n",
    "\n",
    "We can test this hypothesis."
   ]
  },
  {
   "cell_type": "code",
   "execution_count": 33,
   "metadata": {},
   "outputs": [],
   "source": [
    "review_raw[\"length\"] = review_raw.review.str.len()\n",
    "second_raw[\"length\"] = second_raw.review.str.len()\n"
   ]
  },
  {
   "cell_type": "code",
   "execution_count": 34,
   "metadata": {},
   "outputs": [
    {
     "data": {
      "text/plain": [
       "<matplotlib.legend.Legend at 0x111f03080>"
      ]
     },
     "execution_count": 34,
     "metadata": {},
     "output_type": "execute_result"
    },
    {
     "data": {
      "image/png": "[encoded data removed]",
      "text/plain": [
       "<Figure size 432x288 with 1 Axes>"
      ]
     },
     "metadata": {
      "needs_background": "light"
     },
     "output_type": "display_data"
    }
   ],
   "source": [
    "_,bins,_  = plt.hist(np.log10(review_raw[review_raw.classif==1].length),bins=10,color=\"red\",label=\"Positive reviews\",alpha=0.3)\n",
    "plt.hist(np.log10(review_raw[review_raw.classif==0].length),bins=bins,color=\"blue\",label=\"Negatif reviews\",alpha=0.3)\n",
    "plt.legend()"
   ]
  },
  {
   "cell_type": "markdown",
   "metadata": {},
   "source": [
    "Here again the difference seems to be subtle, but there is still one, so we can see if it helps with the classification by binning the length variable."
   ]
  },
  {
   "cell_type": "code",
   "execution_count": 35,
   "metadata": {},
   "outputs": [],
   "source": [
    "review_raw[\"length_class\"]= review_raw.length>60\n",
    "second_raw[\"length_class\"]= second_raw.length>60"
   ]
  },
  {
   "cell_type": "code",
   "execution_count": 36,
   "metadata": {},
   "outputs": [
    {
     "data": {
      "text/plain": [
       "<matplotlib.axes._subplots.AxesSubplot at 0x112b71978>"
      ]
     },
     "execution_count": 36,
     "metadata": {},
     "output_type": "execute_result"
    },
    {
     "data": {
      "image/png": "[encoded data removed]",
      "text/plain": [
       "<Figure size 432x288 with 1 Axes>"
      ]
     },
     "metadata": {
      "needs_background": "light"
     },
     "output_type": "display_data"
    }
   ],
   "source": [
    "sns.countplot(data=review_raw,x=\"length_class\",hue=\"classif\")\n"
   ]
  },
  {
   "cell_type": "code",
   "execution_count": 37,
   "metadata": {},
   "outputs": [
    {
     "data": {
      "text/plain": [
       "<matplotlib.axes._subplots.AxesSubplot at 0x112f96470>"
      ]
     },
     "execution_count": 37,
     "metadata": {},
     "output_type": "execute_result"
    },
    {
     "data": {
      "image/png": "[encoded data removed]",
      "text/plain": [
       "<Figure size 432x288 with 2 Axes>"
      ]
     },
     "metadata": {
      "needs_background": "light"
     },
     "output_type": "display_data"
    }
   ],
   "source": [
    "sns.heatmap(review_raw.corr(),cmap=plt.get_cmap(\"Paired\"))"
   ]
  },
  {
   "cell_type": "code",
   "execution_count": 38,
   "metadata": {},
   "outputs": [],
   "source": [
    "data = review_raw[list(keywords)+[\"question\",\"length_class\",\"love\"]]\n",
    "target = review_raw.classif"
   ]
  },
  {
   "cell_type": "code",
   "execution_count": 39,
   "metadata": {},
   "outputs": [
    {
     "name": "stdout",
     "output_type": "stream",
     "text": [
      "Number of mislabeled points out of a total 748 points : 251\n"
     ]
    }
   ],
   "source": [
    "# Our data is binary / boolean, so we're importing the Bernoulli classifier.\n",
    "from sklearn.naive_bayes import BernoulliNB\n",
    "\n",
    "# Instantiate our model and store it in a new variable.\n",
    "bnb = BernoulliNB()\n",
    "\n",
    "# Fit our model to the data.\n",
    "bnb.fit(data, target)\n",
    "\n",
    "# Classify, storing the result in a new variable.\n",
    "y_pred = bnb.predict(data)\n",
    "\n",
    "# Display our results.\n",
    "print(\"Number of mislabeled points out of a total {} points : {}\".format(\n",
    "    data.shape[0],\n",
    "    (target != y_pred).sum()\n",
    "))\n",
    "review_raw[\"result\"] = True\n",
    "review_raw.loc[(target != y_pred),\"result\"] = False"
   ]
  },
  {
   "cell_type": "code",
   "execution_count": 40,
   "metadata": {},
   "outputs": [
    {
     "name": "stdout",
     "output_type": "stream",
     "text": [
      "[0.69736842 0.67105263 0.72       0.72       0.64       0.68\n",
      " 0.71621622 0.71621622 0.66216216 0.7027027 ]\n"
     ]
    }
   ],
   "source": [
    "print(cross_val_score(bnb, data_less, target, cv=10))"
   ]
  },
  {
   "cell_type": "code",
   "execution_count": 41,
   "metadata": {
    "scrolled": true
   },
   "outputs": [
    {
     "data": {
      "text/html": [
       "<div>\n",
       "<style scoped>\n",
       "    .dataframe tbody tr th:only-of-type {\n",
       "        vertical-align: middle;\n",
       "    }\n",
       "\n",
       "    .dataframe tbody tr th {\n",
       "        vertical-align: top;\n",
       "    }\n",
       "\n",
       "    .dataframe thead th {\n",
       "        text-align: right;\n",
       "    }\n",
       "</style>\n",
       "<table border=\"1\" class=\"dataframe\">\n",
       "  <thead>\n",
       "    <tr style=\"text-align: right;\">\n",
       "      <th>result</th>\n",
       "      <th>False</th>\n",
       "      <th>True</th>\n",
       "    </tr>\n",
       "    <tr>\n",
       "      <th>classif</th>\n",
       "      <th></th>\n",
       "      <th></th>\n",
       "    </tr>\n",
       "  </thead>\n",
       "  <tbody>\n",
       "    <tr>\n",
       "      <th>0</th>\n",
       "      <td>242</td>\n",
       "      <td>120</td>\n",
       "    </tr>\n",
       "    <tr>\n",
       "      <th>1</th>\n",
       "      <td>9</td>\n",
       "      <td>377</td>\n",
       "    </tr>\n",
       "  </tbody>\n",
       "</table>\n",
       "</div>"
      ],
      "text/plain": [
       "result   False  True \n",
       "classif              \n",
       "0          242    120\n",
       "1            9    377"
      ]
     },
     "execution_count": 41,
     "metadata": {},
     "output_type": "execute_result"
    }
   ],
   "source": [
    "pd.crosstab(review_raw.classif,review_raw.result)"
   ]
  },
  {
   "cell_type": "code",
   "execution_count": 42,
   "metadata": {},
   "outputs": [
    {
     "data": {
      "text/plain": [
       "array([[-5.96100534, -4.16924587, -5.96100534, -5.26785816, -4.86239305,\n",
       "        -4.57471098, -5.96100534, -2.52701814, -3.07063358, -5.96100534,\n",
       "        -5.26785816, -5.26785816, -2.59370951, -5.96100534, -5.96100534,\n",
       "        -5.96100534, -5.96100534, -5.96100534, -5.26785816, -5.96100534,\n",
       "        -5.26785816, -4.86239305, -5.96100534, -3.25295514, -4.86239305,\n",
       "        -0.45974713, -2.82551112]])"
      ]
     },
     "execution_count": 42,
     "metadata": {},
     "output_type": "execute_result"
    }
   ],
   "source": [
    "bnb.coef_\n",
    "\n"
   ]
  },
  {
   "cell_type": "code",
   "execution_count": 43,
   "metadata": {},
   "outputs": [
    {
     "ename": "NameError",
     "evalue": "name 'shap' is not defined",
     "output_type": "error",
     "traceback": [
      "\u001b[0;31m---------------------------------------------------------------------------\u001b[0m",
      "\u001b[0;31mNameError\u001b[0m                                 Traceback (most recent call last)",
      "\u001b[0;32m<ipython-input-43-058dc59298e5>\u001b[0m in \u001b[0;36m<module>\u001b[0;34m()\u001b[0m\n\u001b[1;32m      1\u001b[0m \u001b[0;31m# explain the model's predictions using SHAP values\u001b[0m\u001b[0;34m\u001b[0m\u001b[0;34m\u001b[0m\u001b[0m\n\u001b[1;32m      2\u001b[0m \u001b[0;31m# (same syntax works for LightGBM, CatBoost, and scikit-learn models)\u001b[0m\u001b[0;34m\u001b[0m\u001b[0;34m\u001b[0m\u001b[0m\n\u001b[0;32m----> 3\u001b[0;31m \u001b[0mexplainer\u001b[0m \u001b[0;34m=\u001b[0m \u001b[0mshap\u001b[0m\u001b[0;34m.\u001b[0m\u001b[0mTreeExplainer\u001b[0m\u001b[0;34m(\u001b[0m\u001b[0mbnb\u001b[0m\u001b[0;34m)\u001b[0m\u001b[0;34m\u001b[0m\u001b[0m\n\u001b[0m\u001b[1;32m      4\u001b[0m \u001b[0mshap_values\u001b[0m \u001b[0;34m=\u001b[0m \u001b[0mexplainer\u001b[0m\u001b[0;34m.\u001b[0m\u001b[0mshap_values\u001b[0m\u001b[0;34m(\u001b[0m\u001b[0mx\u001b[0m\u001b[0;34m)\u001b[0m\u001b[0;34m\u001b[0m\u001b[0m\n\u001b[1;32m      5\u001b[0m \u001b[0;34m\u001b[0m\u001b[0m\n",
      "\u001b[0;31mNameError\u001b[0m: name 'shap' is not defined"
     ]
    }
   ],
   "source": [
    "# explain the model's predictions using SHAP values\n",
    "# (same syntax works for LightGBM, CatBoost, and scikit-learn models)\n",
    "explainer = shap.TreeExplainer(bnb)\n",
    "shap_values = explainer.shap_values(x)\n",
    "\n",
    "# visualize the first prediction's explanation\n",
    "shap.force_plot(explainer.expected_value, shap_values[0,:], X.iloc[0,:])"
   ]
  },
  {
   "cell_type": "code",
   "execution_count": null,
   "metadata": {},
   "outputs": [],
   "source": []
  },
  {
   "cell_type": "code",
   "execution_count": 44,
   "metadata": {},
   "outputs": [],
   "source": [
    "data_2 = second_raw[list(keywords)+[\"question\",\"length_class\",\"love\"]]\n",
    "target_2 = second_raw.classif"
   ]
  },
  {
   "cell_type": "code",
   "execution_count": 45,
   "metadata": {
    "scrolled": false
   },
   "outputs": [
    {
     "name": "stdout",
     "output_type": "stream",
     "text": [
      "Number of mislabeled points out of a total 1000 points : 439\n"
     ]
    },
    {
     "data": {
      "text/html": [
       "<div>\n",
       "<style scoped>\n",
       "    .dataframe tbody tr th:only-of-type {\n",
       "        vertical-align: middle;\n",
       "    }\n",
       "\n",
       "    .dataframe tbody tr th {\n",
       "        vertical-align: top;\n",
       "    }\n",
       "\n",
       "    .dataframe thead th {\n",
       "        text-align: right;\n",
       "    }\n",
       "</style>\n",
       "<table border=\"1\" class=\"dataframe\">\n",
       "  <thead>\n",
       "    <tr style=\"text-align: right;\">\n",
       "      <th>result</th>\n",
       "      <th>False</th>\n",
       "      <th>True</th>\n",
       "    </tr>\n",
       "    <tr>\n",
       "      <th>classif</th>\n",
       "      <th></th>\n",
       "      <th></th>\n",
       "    </tr>\n",
       "  </thead>\n",
       "  <tbody>\n",
       "    <tr>\n",
       "      <th>0</th>\n",
       "      <td>439</td>\n",
       "      <td>61</td>\n",
       "    </tr>\n",
       "    <tr>\n",
       "      <th>1</th>\n",
       "      <td>0</td>\n",
       "      <td>500</td>\n",
       "    </tr>\n",
       "  </tbody>\n",
       "</table>\n",
       "</div>"
      ],
      "text/plain": [
       "result   False  True \n",
       "classif              \n",
       "0          439     61\n",
       "1            0    500"
      ]
     },
     "execution_count": 45,
     "metadata": {},
     "output_type": "execute_result"
    }
   ],
   "source": [
    "y_pred_2 = bnb.predict(data_2)\n",
    "\n",
    "# Display our results.\n",
    "print(\"Number of mislabeled points out of a total {} points : {}\".format(\n",
    "    data_2.shape[0],\n",
    "    (target_2 != y_pred_2).sum()\n",
    "))\n",
    "second_raw[\"result\"] = True\n",
    "second_raw.loc[(target_2 != y_pred_2),\"result\"] = False\n",
    "pd.crosstab(second_raw.classif,second_raw.result)"
   ]
  },
  {
   "cell_type": "markdown",
   "metadata": {},
   "source": [
    "It the second attemps, we get a much lower classification rate on Imbd, but almost the same rate for yelp.\n",
    "\n",
    "Looking at the IMDB review, it seems that a lot of the reviews are \"sarcasstic\", meaning that they are more difficult to find using a simple Naive Bayes model.\n"
   ]
  },
  {
   "cell_type": "code",
   "execution_count": null,
   "metadata": {},
   "outputs": [],
   "source": []
  }
 ],
 "metadata": {
  "kernelspec": {
   "display_name": "Python 3",
   "language": "python",
   "name": "python3"
  },
  "language_info": {
   "codemirror_mode": {
    "name": "ipython",
    "version": 3
   },
   "file_extension": ".py",
   "mimetype": "text/x-python",
   "name": "python",
   "nbconvert_exporter": "python",
   "pygments_lexer": "ipython3",
   "version": "3.7.0"
  }
 },
 "nbformat": 4,
 "nbformat_minor": 2
}
