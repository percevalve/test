{
 "cells": [
  {
   "cell_type": "markdown",
   "metadata": {},
   "source": [
    "# No show appointment dataset\n",
    "\n",
    "The dataset is from [Kaggle](https://www.kaggle.com/joniarroba/noshowappointments/home).\n",
    "\n",
    "It is the records of doctors appointments including the no show from Brazil.\n",
    "\n",
    "The datasets include 110k lines, with no missing data. There are two identifications : PatientId and AppointmentID.\n",
    "\n",
    "There are 62299 PatientID and 110527 AppointmentID.\n",
    "\n",
    "Most features are self explanatory, but :\n",
    "- ScheduledDay : It is the timestamp when the appointment was recorded.\n",
    "- AppointmentDay : It is the day of the appointment, without time.\n",
    "- Neighbourhood : This is the Neightbourhood where the appointment will take place.\n",
    "- SMS_received : 1 or more messages sent to the patient.\n",
    "\n",
    "Noted in the dataset description, the Neighbourhood of the visit is not always linked to where the people can from, as \"Vitória is a capital city and received dozens of patients from other cities.\"\n",
    "\n",
    "For readability, I will just change a couple of column names to correct for typo and remove hyphen.\n",
    "\n",
    "Index:\n",
    "- [Missing values and duplicates study](#missing)\n",
    "\n",
    "- [Droping the duplicates](#drop)\n",
    "\n",
    "- [Correlations between the features and the label](#correlations)\n",
    "\n",
    "- [Effect delay and age on the no-show rate](#no_show)"
   ]
  },
  {
   "cell_type": "code",
   "execution_count": 1,
   "metadata": {},
   "outputs": [],
   "source": [
    "import matplotlib.pyplot as plt\n",
    "import numpy as np\n",
    "\n",
    "import os\n",
    "import pandas as pd\n",
    "\n",
    "from matplotlib.ticker import PercentFormatter\n",
    "\n",
    "import seaborn as sns\n",
    "from scipy.stats import ttest_ind\n",
    "from itertools import combinations\n",
    "plt.rcParams['figure.figsize'] = (20.0, 10.0)\n",
    "plt.rcParams.update({'font.size': 22})\n"
   ]
  },
  {
   "cell_type": "code",
   "execution_count": 2,
   "metadata": {},
   "outputs": [],
   "source": [
    "with open(\"KaggleV2-May-2016.csv\", 'rt') as f:\n",
    "    original = pd.read_csv(f)"
   ]
  },
  {
   "cell_type": "code",
   "execution_count": 3,
   "metadata": {},
   "outputs": [],
   "source": [
    "original.columns = ['PatientId', 'AppointmentID', 'Gender', 'ScheduledDay',\n",
    "       'AppointmentDay', 'Age', 'Neighbourhood', 'Scholarship', 'Hypertension',\n",
    "       'Diabetes', 'Alcoholism', 'Handicap', 'SMS_received', 'No_show']"
   ]
  },
  {
   "cell_type": "code",
   "execution_count": 4,
   "metadata": {},
   "outputs": [],
   "source": [
    "for col in ['ScheduledDay','AppointmentDay']:\n",
    "    original[col] = pd.to_datetime(original[col])\n",
    "    "
   ]
  },
  {
   "cell_type": "code",
   "execution_count": 5,
   "metadata": {},
   "outputs": [
    {
     "name": "stdout",
     "output_type": "stream",
     "text": [
      "<class 'pandas.core.frame.DataFrame'>\n",
      "RangeIndex: 110527 entries, 0 to 110526\n",
      "Data columns (total 14 columns):\n",
      "PatientId         110527 non-null float64\n",
      "AppointmentID     110527 non-null int64\n",
      "Gender            110527 non-null object\n",
      "ScheduledDay      110527 non-null datetime64[ns]\n",
      "AppointmentDay    110527 non-null datetime64[ns]\n",
      "Age               110527 non-null int64\n",
      "Neighbourhood     110527 non-null object\n",
      "Scholarship       110527 non-null int64\n",
      "Hypertension      110527 non-null int64\n",
      "Diabetes          110527 non-null int64\n",
      "Alcoholism        110527 non-null int64\n",
      "Handicap          110527 non-null int64\n",
      "SMS_received      110527 non-null int64\n",
      "No_show           110527 non-null object\n",
      "dtypes: datetime64[ns](2), float64(1), int64(8), object(3)\n",
      "memory usage: 11.8+ MB\n"
     ]
    }
   ],
   "source": [
    "original.info()"
   ]
  },
  {
   "cell_type": "markdown",
   "metadata": {},
   "source": [
    "# Missing values\n",
    "<a id=\"missing\"></a>\n",
    "There are no missing values.\n",
    "\n",
    "# Duplicates\n",
    "Looking at duplicates, if you ignore the ID numbers, there are around 1293 duplicates, meaning 1% of the records, which is negligeable.\n",
    "\n",
    "Given we only have the date of the appointment (and not the time), this could mean someone could have booked many different appointment the same day? Or this could also be a system problem.\n",
    "\n",
    "As the ScheduleDay is a timestamp precise to the second, it can be used as a proxy for transaction ID.\n",
    "\n",
    "Looking at duplicate, it seems that for comparable line, we can have different SMS_received and No Show status, which seems to imply that for the same person having multiple appointment the same day might come to one and not to the other. This goes in favor of the system creating 2 appoitments at the time of the Scheduling (they have the same timestamp to the seconds).\n",
    "\n",
    "As the number of duplicates is low, we will just check if they are not from particular Age group of a particular Neighbourhood.\n",
    "\n",
    "## Duplicates in Neighbourhood\n",
    "\n",
    "The neighbourhood with the most duplicates is ANDORINHAS, with 10% of duplicates lines, there are duplcate line in almost all neighbourhoods.\n",
    "\n",
    "## Duplicates and Age group\n",
    "\n",
    "There are potential duplcates in all age group. The exact distribution is different from the distribution of the original dataset, but here we are speaking of very small numbers.\n",
    "\n",
    "## Duplicates and ScheduleDate\n",
    "\n",
    "Looking at the distribution of the week number for the duplicates, there is no particular moment for those duplicates.\n",
    "\n",
    "To move forward, [we will drop the duplicates](#drop), taking into acount lines that requires input (No Show and SMS-Received).\n",
    "\n",
    "\n",
    "\n"
   ]
  },
  {
   "cell_type": "code",
   "execution_count": 6,
   "metadata": {},
   "outputs": [
    {
     "name": "stdout",
     "output_type": "stream",
     "text": [
      "(110527, 14)\n"
     ]
    },
    {
     "data": {
      "text/plain": [
       "(109892, 12)"
      ]
     },
     "execution_count": 6,
     "metadata": {},
     "output_type": "execute_result"
    }
   ],
   "source": [
    "print(original.shape)\n",
    "original.drop([\"AppointmentID\",\"PatientId\"],axis=1).drop_duplicates().shape"
   ]
  },
  {
   "cell_type": "code",
   "execution_count": 7,
   "metadata": {},
   "outputs": [
    {
     "data": {
      "text/plain": [
       "1293"
      ]
     },
     "execution_count": 7,
     "metadata": {},
     "output_type": "execute_result"
    }
   ],
   "source": [
    "find_dup = original\\\n",
    "    .groupby(['Gender', 'ScheduledDay','AppointmentDay', 'Age', \n",
    "              'Neighbourhood', 'Scholarship', 'Hypertension','Diabetes', \n",
    "              'Alcoholism', 'Handicap'])[\"AppointmentID\"].count()\n",
    "\n",
    "len(find_dup[find_dup>1])\n"
   ]
  },
  {
   "cell_type": "code",
   "execution_count": 8,
   "metadata": {},
   "outputs": [
    {
     "name": "stderr",
     "output_type": "stream",
     "text": [
      "/Users/severinhatt/Virtualenvs/thinkful/base_plotting/lib/python3.7/site-packages/ipykernel_launcher.py:2: FutureWarning: Sorting because non-concatenation axis is not aligned. A future version\n",
      "of pandas will change to not sort by default.\n",
      "\n",
      "To accept the future behavior, pass 'sort=False'.\n",
      "\n",
      "To retain the current behavior and silence the warning, pass 'sort=True'.\n",
      "\n",
      "  \n"
     ]
    },
    {
     "data": {
      "text/html": [
       "<div>\n",
       "<style scoped>\n",
       "    .dataframe tbody tr th:only-of-type {\n",
       "        vertical-align: middle;\n",
       "    }\n",
       "\n",
       "    .dataframe tbody tr th {\n",
       "        vertical-align: top;\n",
       "    }\n",
       "\n",
       "    .dataframe thead th {\n",
       "        text-align: right;\n",
       "    }\n",
       "</style>\n",
       "<table border=\"1\" class=\"dataframe\">\n",
       "  <thead>\n",
       "    <tr style=\"text-align: right;\">\n",
       "      <th></th>\n",
       "      <th>origin</th>\n",
       "      <th>potential_duplicates</th>\n",
       "      <th>percent</th>\n",
       "    </tr>\n",
       "  </thead>\n",
       "  <tbody>\n",
       "    <tr>\n",
       "      <th>ANDORINHAS</th>\n",
       "      <td>2262</td>\n",
       "      <td>124.0</td>\n",
       "      <td>0.109637</td>\n",
       "    </tr>\n",
       "    <tr>\n",
       "      <th>PIEDADE</th>\n",
       "      <td>452</td>\n",
       "      <td>16.0</td>\n",
       "      <td>0.070796</td>\n",
       "    </tr>\n",
       "    <tr>\n",
       "      <th>ITARARÉ</th>\n",
       "      <td>3514</td>\n",
       "      <td>105.0</td>\n",
       "      <td>0.059761</td>\n",
       "    </tr>\n",
       "    <tr>\n",
       "      <th>COMDUSA</th>\n",
       "      <td>310</td>\n",
       "      <td>9.0</td>\n",
       "      <td>0.058065</td>\n",
       "    </tr>\n",
       "    <tr>\n",
       "      <th>RESISTÊNCIA</th>\n",
       "      <td>4431</td>\n",
       "      <td>122.0</td>\n",
       "      <td>0.055067</td>\n",
       "    </tr>\n",
       "  </tbody>\n",
       "</table>\n",
       "</div>"
      ],
      "text/plain": [
       "             origin  potential_duplicates   percent\n",
       "ANDORINHAS     2262                 124.0  0.109637\n",
       "PIEDADE         452                  16.0  0.070796\n",
       "ITARARÉ        3514                 105.0  0.059761\n",
       "COMDUSA         310                   9.0  0.058065\n",
       "RESISTÊNCIA    4431                 122.0  0.055067"
      ]
     },
     "execution_count": 8,
     "metadata": {},
     "output_type": "execute_result"
    }
   ],
   "source": [
    "compare_dup = pd.concat([original.Neighbourhood.value_counts(), \n",
    "            find_dup[find_dup>1].reset_index().Neighbourhood.value_counts()], axis=1).fillna(0)\n",
    "compare_dup.columns = ['origin', 'potential_duplicates']\n",
    "compare_dup[\"percent\"] = (compare_dup.potential_duplicates*2)/compare_dup.origin\n",
    "compare_dup.sort_values([\"percent\"],ascending=False).head()"
   ]
  },
  {
   "cell_type": "code",
   "execution_count": 9,
   "metadata": {},
   "outputs": [
    {
     "data": {
      "image/png": "[encoded data removed]",
      "text/plain": [
       "<Figure size 432x288 with 1 Axes>"
      ]
     },
     "metadata": {
      "needs_background": "light"
     },
     "output_type": "display_data"
    }
   ],
   "source": [
    "plt.hist(find_dup[find_dup>1].reset_index().Age,alpha=0.3,density=True,label=\"Ages in the potentially duplicates records\")\n",
    "plt.hist(original.Age,alpha=0.3,density=True,label=\"Ages in the dataset\")\n",
    "plt.legend()\n",
    "plt.gca().yaxis.set_major_formatter(PercentFormatter(xmax=1))\n",
    "\n"
   ]
  },
  {
   "cell_type": "code",
   "execution_count": 10,
   "metadata": {},
   "outputs": [
    {
     "data": {
      "text/plain": [
       "<matplotlib.legend.Legend at 0x10a53c9e8>"
      ]
     },
     "execution_count": 10,
     "metadata": {},
     "output_type": "execute_result"
    },
    {
     "data": {
      "image/png": "[encoded data removed]",
      "text/plain": [
       "<Figure size 432x288 with 1 Axes>"
      ]
     },
     "metadata": {
      "needs_background": "light"
     },
     "output_type": "display_data"
    }
   ],
   "source": [
    "_,bins,_ = plt.hist(find_dup[find_dup>1].reset_index().AppointmentDay.dt.week,alpha=0.3,density=True,label=\"Week number in the potentially duplicates records\")\n",
    "plt.hist(original.AppointmentDay.dt.week,alpha=0.3,bins=bins,density=True,label=\"Week number in the potentially duplicates records\")\n",
    "plt.gca().yaxis.set_major_formatter(PercentFormatter(xmax=1))\n",
    "plt.legend()\n"
   ]
  },
  {
   "cell_type": "markdown",
   "metadata": {},
   "source": [
    "# Getting the data ready.\n",
    "<a id=\"drop\"></a>\n",
    "## Drop the duplicates\n",
    "We will drop the duplicates, keeping line mentionning SMS action and the patient showing up (i.e. No_Show False)\n",
    "\n",
    "## Variable format\n",
    "We will also transform the \"No-show\" variable make it easier to create the graphs.\n",
    "For the numerical variable like **Age**, we will create categories to make the graphs easier to read.\n",
    "\n",
    "## Delay\n",
    "\n",
    "The appointment can be scheduled a long time before the actual day for the appointment. A feature **delay** represent the delay in days between the day the appointment was scheduled and the appointment. Appointment scheduled the same day will have a delay of 0.\n",
    "\n",
    "We can see that a majority of the appointments are (# 40 0000 out of 100 0000) are schedue the same day.\n",
    "\n",
    "\n",
    "## Number of appointments\n",
    "\n",
    "As some patients have many appointments, we can also look at if the number of appointments the people have has an indicators of the percentage of No-show, the hypothesis being that someone that often goes to the doctor will have a better chance of remembering an appointment.\n",
    "\n",
    "We will define 2 variables, **previous** that take into account the number of appointment someone has taken before the appointment, and **appoint_nb** that is the total number of appointments each PatientId has taken.\n",
    "\n",
    "[Next](#correlations)"
   ]
  },
  {
   "cell_type": "code",
   "execution_count": 11,
   "metadata": {},
   "outputs": [],
   "source": [
    "dataset_for_review = original.sort_values([\"SMS_received\",\"No_show\"],ascending=[False,True])\\\n",
    "        .drop_duplicates(['Gender', 'ScheduledDay','AppointmentDay', 'Age', \n",
    "              'Neighbourhood', 'Scholarship', 'Hypertension','Diabetes', \n",
    "              'Alcoholism', 'Handicap'],keep=\"first\")"
   ]
  },
  {
   "cell_type": "code",
   "execution_count": 12,
   "metadata": {},
   "outputs": [
    {
     "data": {
      "text/plain": [
       "1354"
      ]
     },
     "execution_count": 12,
     "metadata": {},
     "output_type": "execute_result"
    }
   ],
   "source": [
    "original.shape[0]-dataset_for_review.shape[0]"
   ]
  },
  {
   "cell_type": "code",
   "execution_count": 13,
   "metadata": {},
   "outputs": [],
   "source": [
    "dataset_for_review[\"previous\"] = dataset_for_review.apply(lambda x: sum((dataset_for_review.PatientId==x[\"PatientId\"])&(dataset_for_review.AppointmentDay<x.AppointmentDay))\n",
    "                        ,axis=1)"
   ]
  },
  {
   "cell_type": "code",
   "execution_count": 14,
   "metadata": {},
   "outputs": [],
   "source": [
    "dataset_for_review[\"previous_cat\"] = pd.cut(dataset_for_review.previous,[-1,0.99,2,6,100])"
   ]
  },
  {
   "cell_type": "code",
   "execution_count": 15,
   "metadata": {},
   "outputs": [],
   "source": [
    "appoint_nb_info = dataset_for_review.groupby(\"PatientId\").AppointmentID.count()\\\n",
    "    .reset_index().rename({\"AppointmentID\":\"appoint_nb\"},axis=1)\n",
    "dataset_for_review = dataset_for_review.merge(appoint_nb_info,on=\"PatientId\")\n",
    "dataset_for_review[\"appoint_nb_cat\"] = pd.cut(dataset_for_review.appoint_nb,[-1,5,88])"
   ]
  },
  {
   "cell_type": "code",
   "execution_count": 16,
   "metadata": {},
   "outputs": [
    {
     "data": {
      "text/plain": [
       "88"
      ]
     },
     "execution_count": 16,
     "metadata": {},
     "output_type": "execute_result"
    }
   ],
   "source": [
    "np.max(dataset_for_review.appoint_nb)"
   ]
  },
  {
   "cell_type": "code",
   "execution_count": 17,
   "metadata": {},
   "outputs": [],
   "source": [
    "dataset_for_review[\"delay\"] = dataset_for_review.AppointmentDay.dt.date - dataset_for_review.ScheduledDay.dt.date\n",
    "dataset_for_review.delay= dataset_for_review.delay.dt.days\n",
    "dataset_for_review.loc[dataset_for_review.delay<0,\"delay\"]= 0# There are a few negative delays\n",
    "min_cut, max_cut =  dataset_for_review.delay.min(), dataset_for_review.delay.max()\n",
    "dataset_for_review[\"lag_cat\"] = pd.cut(dataset_for_review.delay,\n",
    "                                        [-1,0.1,2,10,20,30,max_cut])\n",
    "lag_cat_labels = [\"Same Day\"\n",
    "                  ,\"≤ 2 days\"\n",
    "                  ,\"≤ 10 days\"\n",
    "                  ,\"≤ 20 days\"\n",
    "                 ,\"≤ 30 days\"\n",
    "                 ,\"> 30 days\"]"
   ]
  },
  {
   "cell_type": "code",
   "execution_count": 18,
   "metadata": {},
   "outputs": [],
   "source": [
    "dataset_for_review[\"lag_cat\"].unique()\n",
    "dataset_for_review[\"week\"]=dataset_for_review.AppointmentDay.dt.week"
   ]
  },
  {
   "cell_type": "code",
   "execution_count": 19,
   "metadata": {},
   "outputs": [],
   "source": [
    "#dataset_for_review[\"No_show\"] = pd.Categorical(dataset_for_review[\"No_show\"])\n",
    "dfDummies = pd.get_dummies(dataset_for_review[\"No_show\"], prefix = \"no_show\",drop_first=True)\n",
    "data_all_num = pd.concat([dataset_for_review,dfDummies], axis=1)"
   ]
  },
  {
   "cell_type": "code",
   "execution_count": 20,
   "metadata": {},
   "outputs": [
    {
     "name": "stdout",
     "output_type": "stream",
     "text": [
      "[(11.0, 27.0], (27.0, 42.0], (42.0, 53.0], (53.0, 115.0], (-1.001, 11.0]]\n",
      "Categories (5, interval[float64]): [(-1.001, 11.0] < (11.0, 27.0] < (27.0, 42.0] < (42.0, 53.0] < (53.0, 115.0]] ['Age≤ 11', '11<Age≤27', '27<Age≤42', '42<Age≤53', '53<Age']\n",
      "[(13.0, 21.0], (21.0, 30.0], (45.0, 52.0], (37.0, 45.0], (68.0, 115.0], (52.0, 59.0], (-1.001, 5.0], (59.0, 68.0], (5.0, 13.0], (30.0, 37.0]]\n",
      "Categories (10, interval[float64]): [(-1.001, 5.0] < (5.0, 13.0] < (13.0, 21.0] < (21.0, 30.0] ... (45.0, 52.0] < (52.0, 59.0] < (59.0, 68.0] < (68.0, 115.0]]\n"
     ]
    }
   ],
   "source": [
    "data_all_num[\"age_cat_3_groups\"] = pd.cut(data_all_num.Age,[-1.001,11,27,42,53,115])\n",
    "age_3_groups_labels = ['Age≤ 11','11<Age≤27','27<Age≤42','42<Age≤53','53<Age']\n",
    "print(data_all_num[\"age_cat_3_groups\"].unique(),age_3_groups_labels)\n",
    "data_all_num[\"age_cat\"] = pd.qcut(data_all_num.Age,10)\n",
    "print(data_all_num[\"age_cat\"].unique())\n",
    "age_cat_labels = ['Age≤ 5','5<Age≤13','13<Age≤21','21<Age≤30','30<Age≤37'\n",
    "                  ,'37<Age≤45','45<Age≤52','52<Age≤59','59<Age≤68','68<Age']\n"
   ]
  },
  {
   "cell_type": "code",
   "execution_count": 21,
   "metadata": {},
   "outputs": [
    {
     "data": {
      "text/html": [
       "<div>\n",
       "<style scoped>\n",
       "    .dataframe tbody tr th:only-of-type {\n",
       "        vertical-align: middle;\n",
       "    }\n",
       "\n",
       "    .dataframe tbody tr th {\n",
       "        vertical-align: top;\n",
       "    }\n",
       "\n",
       "    .dataframe thead th {\n",
       "        text-align: right;\n",
       "    }\n",
       "</style>\n",
       "<table border=\"1\" class=\"dataframe\">\n",
       "  <thead>\n",
       "    <tr style=\"text-align: right;\">\n",
       "      <th></th>\n",
       "      <th>PatientId</th>\n",
       "      <th>AppointmentID</th>\n",
       "      <th>Gender</th>\n",
       "      <th>ScheduledDay</th>\n",
       "      <th>AppointmentDay</th>\n",
       "      <th>Age</th>\n",
       "      <th>Neighbourhood</th>\n",
       "      <th>Scholarship</th>\n",
       "      <th>Hypertension</th>\n",
       "      <th>Diabetes</th>\n",
       "      <th>...</th>\n",
       "      <th>No_show</th>\n",
       "      <th>previous</th>\n",
       "      <th>previous_cat</th>\n",
       "      <th>appoint_nb</th>\n",
       "      <th>appoint_nb_cat</th>\n",
       "      <th>delay</th>\n",
       "      <th>lag_cat</th>\n",
       "      <th>week</th>\n",
       "      <th>no_show_Yes</th>\n",
       "      <th>age_cat</th>\n",
       "    </tr>\n",
       "    <tr>\n",
       "      <th>age_cat_3_groups</th>\n",
       "      <th></th>\n",
       "      <th></th>\n",
       "      <th></th>\n",
       "      <th></th>\n",
       "      <th></th>\n",
       "      <th></th>\n",
       "      <th></th>\n",
       "      <th></th>\n",
       "      <th></th>\n",
       "      <th></th>\n",
       "      <th></th>\n",
       "      <th></th>\n",
       "      <th></th>\n",
       "      <th></th>\n",
       "      <th></th>\n",
       "      <th></th>\n",
       "      <th></th>\n",
       "      <th></th>\n",
       "      <th></th>\n",
       "      <th></th>\n",
       "      <th></th>\n",
       "    </tr>\n",
       "  </thead>\n",
       "  <tbody>\n",
       "    <tr>\n",
       "      <th>(-1.001, 11.0]</th>\n",
       "      <td>19748</td>\n",
       "      <td>19748</td>\n",
       "      <td>19748</td>\n",
       "      <td>19748</td>\n",
       "      <td>19748</td>\n",
       "      <td>19748</td>\n",
       "      <td>19748</td>\n",
       "      <td>19748</td>\n",
       "      <td>19748</td>\n",
       "      <td>19748</td>\n",
       "      <td>...</td>\n",
       "      <td>19748</td>\n",
       "      <td>19748</td>\n",
       "      <td>19748</td>\n",
       "      <td>19748</td>\n",
       "      <td>19748</td>\n",
       "      <td>19748</td>\n",
       "      <td>19748</td>\n",
       "      <td>19748</td>\n",
       "      <td>19748</td>\n",
       "      <td>19748</td>\n",
       "    </tr>\n",
       "    <tr>\n",
       "      <th>(11.0, 27.0]</th>\n",
       "      <td>21037</td>\n",
       "      <td>21037</td>\n",
       "      <td>21037</td>\n",
       "      <td>21037</td>\n",
       "      <td>21037</td>\n",
       "      <td>21037</td>\n",
       "      <td>21037</td>\n",
       "      <td>21037</td>\n",
       "      <td>21037</td>\n",
       "      <td>21037</td>\n",
       "      <td>...</td>\n",
       "      <td>21037</td>\n",
       "      <td>21037</td>\n",
       "      <td>21037</td>\n",
       "      <td>21037</td>\n",
       "      <td>21037</td>\n",
       "      <td>21037</td>\n",
       "      <td>21037</td>\n",
       "      <td>21037</td>\n",
       "      <td>21037</td>\n",
       "      <td>21037</td>\n",
       "    </tr>\n",
       "    <tr>\n",
       "      <th>(27.0, 42.0]</th>\n",
       "      <td>21689</td>\n",
       "      <td>21689</td>\n",
       "      <td>21689</td>\n",
       "      <td>21689</td>\n",
       "      <td>21689</td>\n",
       "      <td>21689</td>\n",
       "      <td>21689</td>\n",
       "      <td>21689</td>\n",
       "      <td>21689</td>\n",
       "      <td>21689</td>\n",
       "      <td>...</td>\n",
       "      <td>21689</td>\n",
       "      <td>21689</td>\n",
       "      <td>21689</td>\n",
       "      <td>21689</td>\n",
       "      <td>21689</td>\n",
       "      <td>21689</td>\n",
       "      <td>21689</td>\n",
       "      <td>21689</td>\n",
       "      <td>21689</td>\n",
       "      <td>21689</td>\n",
       "    </tr>\n",
       "    <tr>\n",
       "      <th>(42.0, 53.0]</th>\n",
       "      <td>16538</td>\n",
       "      <td>16538</td>\n",
       "      <td>16538</td>\n",
       "      <td>16538</td>\n",
       "      <td>16538</td>\n",
       "      <td>16538</td>\n",
       "      <td>16538</td>\n",
       "      <td>16538</td>\n",
       "      <td>16538</td>\n",
       "      <td>16538</td>\n",
       "      <td>...</td>\n",
       "      <td>16538</td>\n",
       "      <td>16538</td>\n",
       "      <td>16538</td>\n",
       "      <td>16538</td>\n",
       "      <td>16538</td>\n",
       "      <td>16538</td>\n",
       "      <td>16538</td>\n",
       "      <td>16538</td>\n",
       "      <td>16538</td>\n",
       "      <td>16538</td>\n",
       "    </tr>\n",
       "    <tr>\n",
       "      <th>(53.0, 115.0]</th>\n",
       "      <td>30161</td>\n",
       "      <td>30161</td>\n",
       "      <td>30161</td>\n",
       "      <td>30161</td>\n",
       "      <td>30161</td>\n",
       "      <td>30161</td>\n",
       "      <td>30161</td>\n",
       "      <td>30161</td>\n",
       "      <td>30161</td>\n",
       "      <td>30161</td>\n",
       "      <td>...</td>\n",
       "      <td>30161</td>\n",
       "      <td>30161</td>\n",
       "      <td>30161</td>\n",
       "      <td>30161</td>\n",
       "      <td>30161</td>\n",
       "      <td>30161</td>\n",
       "      <td>30161</td>\n",
       "      <td>30161</td>\n",
       "      <td>30161</td>\n",
       "      <td>30161</td>\n",
       "    </tr>\n",
       "  </tbody>\n",
       "</table>\n",
       "<p>5 rows × 23 columns</p>\n",
       "</div>"
      ],
      "text/plain": [
       "                  PatientId  AppointmentID  Gender  ScheduledDay  \\\n",
       "age_cat_3_groups                                                   \n",
       "(-1.001, 11.0]        19748          19748   19748         19748   \n",
       "(11.0, 27.0]          21037          21037   21037         21037   \n",
       "(27.0, 42.0]          21689          21689   21689         21689   \n",
       "(42.0, 53.0]          16538          16538   16538         16538   \n",
       "(53.0, 115.0]         30161          30161   30161         30161   \n",
       "\n",
       "                  AppointmentDay    Age  Neighbourhood  Scholarship  \\\n",
       "age_cat_3_groups                                                      \n",
       "(-1.001, 11.0]             19748  19748          19748        19748   \n",
       "(11.0, 27.0]               21037  21037          21037        21037   \n",
       "(27.0, 42.0]               21689  21689          21689        21689   \n",
       "(42.0, 53.0]               16538  16538          16538        16538   \n",
       "(53.0, 115.0]              30161  30161          30161        30161   \n",
       "\n",
       "                  Hypertension  Diabetes   ...     No_show  previous  \\\n",
       "age_cat_3_groups                           ...                         \n",
       "(-1.001, 11.0]           19748     19748   ...       19748     19748   \n",
       "(11.0, 27.0]             21037     21037   ...       21037     21037   \n",
       "(27.0, 42.0]             21689     21689   ...       21689     21689   \n",
       "(42.0, 53.0]             16538     16538   ...       16538     16538   \n",
       "(53.0, 115.0]            30161     30161   ...       30161     30161   \n",
       "\n",
       "                  previous_cat  appoint_nb  appoint_nb_cat  delay  lag_cat  \\\n",
       "age_cat_3_groups                                                             \n",
       "(-1.001, 11.0]           19748       19748           19748  19748    19748   \n",
       "(11.0, 27.0]             21037       21037           21037  21037    21037   \n",
       "(27.0, 42.0]             21689       21689           21689  21689    21689   \n",
       "(42.0, 53.0]             16538       16538           16538  16538    16538   \n",
       "(53.0, 115.0]            30161       30161           30161  30161    30161   \n",
       "\n",
       "                   week  no_show_Yes  age_cat  \n",
       "age_cat_3_groups                               \n",
       "(-1.001, 11.0]    19748        19748    19748  \n",
       "(11.0, 27.0]      21037        21037    21037  \n",
       "(27.0, 42.0]      21689        21689    21689  \n",
       "(42.0, 53.0]      16538        16538    16538  \n",
       "(53.0, 115.0]     30161        30161    30161  \n",
       "\n",
       "[5 rows x 23 columns]"
      ]
     },
     "execution_count": 21,
     "metadata": {},
     "output_type": "execute_result"
    }
   ],
   "source": [
    "data_all_num.groupby(\"age_cat_3_groups\").count()"
   ]
  },
  {
   "cell_type": "code",
   "execution_count": 22,
   "metadata": {},
   "outputs": [],
   "source": [
    "#for limit in range(11,44):\n",
    "#    test = ttest_ind(data_all_num[(data_all_num.delay>2)&(data_all_num.Age<=44)&(data_all_num.Age>11)&(data_all_num.Age>limit)].no_show_Yes\n",
    "#               ,data_all_num[(data_all_num.delay>2)&(data_all_num.Age<=44)&(data_all_num.Age>11)&(data_all_num.Age<=limit)].no_show_Yes)\n",
    "#    print(limit,test[0],test[1]*100,sum((data_all_num.delay>2)&(data_all_num.Age>limit)),sum((data_all_num.delay>2)&(data_all_num.Age>limit)))"
   ]
  },
  {
   "cell_type": "code",
   "execution_count": 23,
   "metadata": {},
   "outputs": [
    {
     "data": {
      "image/png": "[encoded data removed]",
      "text/plain": [
       "<Figure size 432x288 with 1 Axes>"
      ]
     },
     "metadata": {
      "needs_background": "light"
     },
     "output_type": "display_data"
    }
   ],
   "source": [
    "plt.hist(dataset_for_review[\"delay\"],30);\n",
    "plt.title(\"Delay in days between the day the schedule was made and the appointment\");\n",
    "plt.xlabel(\"Delay (days)\");\n",
    "plt.ylabel(\"Number of appointments\");\n"
   ]
  },
  {
   "cell_type": "code",
   "execution_count": 24,
   "metadata": {},
   "outputs": [
    {
     "data": {
      "image/png": "[encoded data removed]",
      "text/plain": [
       "<Figure size 432x288 with 1 Axes>"
      ]
     },
     "metadata": {
      "needs_background": "light"
     },
     "output_type": "display_data"
    }
   ],
   "source": [
    "plt.hist(dataset_for_review[dataset_for_review.delay>2][\"appoint_nb\"],50);\n",
    "plt.title(\"Number of appointment per person\");\n",
    "plt.xlabel(\"Number of appointments\");\n",
    "plt.ylabel(\"Number of person\");\n"
   ]
  },
  {
   "cell_type": "markdown",
   "metadata": {},
   "source": [
    "# Correlations\n",
    "<a id=\"correlations\"></a>\n",
    "We can notice there are strong correlations between conditions like Hypertension, Diabetes and  Alcolism with Age.\n",
    "\n",
    "Looking are the features that are correlated with the No-Show, **delay** is the variable that has the biggest correlation with **No-show** where **Age** is the one with the biggest negative correlation.\n",
    "\n",
    "[Next](#no_show)"
   ]
  },
  {
   "cell_type": "code",
   "execution_count": 25,
   "metadata": {},
   "outputs": [
    {
     "data": {
      "image/png": "[encoded data removed]",
      "text/plain": [
       "<Figure size 432x288 with 2 Axes>"
      ]
     },
     "metadata": {
      "needs_background": "light"
     },
     "output_type": "display_data"
    }
   ],
   "source": [
    "colors = sns.color_palette(\"Paired\",6)\n",
    "ax = sns.heatmap(data_all_num.drop([\"PatientId\",\"AppointmentID\"]\n",
    "                ,axis=1).corr()\n",
    "                ,cmap=colors\n",
    "                ,linewidths=.5\n",
    "                ,square= True)"
   ]
  },
  {
   "cell_type": "code",
   "execution_count": 26,
   "metadata": {},
   "outputs": [
    {
     "data": {
      "text/plain": [
       "<matplotlib.axes._subplots.AxesSubplot at 0x1170bdb38>"
      ]
     },
     "execution_count": 26,
     "metadata": {},
     "output_type": "execute_result"
    },
    {
     "data": {
      "image/png": "[encoded data removed]",
      "text/plain": [
       "<Figure size 432x288 with 2 Axes>"
      ]
     },
     "metadata": {
      "needs_background": "light"
     },
     "output_type": "display_data"
    }
   ],
   "source": [
    "correlations= data_all_num[(data_all_num.delay>5)&(data_all_num.delay<40)]\\\n",
    "                .drop([\"PatientId\",\"AppointmentID\"],axis=1).corr()\\\n",
    "                [[\"no_show_Yes\"]]\n",
    "sns.heatmap(correlations[correlations.index!=\"no_show_Yes\"]\\\n",
    "                .sort_values(by=[\"no_show_Yes\"],ascending=False)\n",
    "            ,cmap=colors\n",
    "            ,square=True\n",
    "            ,linewidths=.5\n",
    "           )"
   ]
  },
  {
   "cell_type": "markdown",
   "metadata": {},
   "source": [
    "<a id=\"no_show\"></a>\n",
    "## Patient Age, Delay and No-Show\n",
    "\n",
    "For all the patient that schedule an appointment at least one day before the appointment, the no-show rate is very high, up to nearly 40%, and we see very different no-show rates between age groups.\n",
    "\n",
    "Interestingly enough the no-show rate for patient age from 0 to 11 years is comparable to the no show rate for the age group 27 to 42.\n",
    "\n",
    "The No-Show rate increase as the delay between the scheduling moment and the appointment increases. We can make the hypothesis that once the appointment is scheduled people forget about it.\n",
    "\n",
    "To confirm this hypothesis, we could look at the effect that sending an SMS has on the no-show rate.\n",
    "\n",
    "There is indeed a much lower no-show rate for patient older than 53 years.\n",
    "As we saw previously that they are storng correlation between chronic conditions like Hypertension, could this  explain the lower no-show rate by the fact they come more often to the hospital? For example, we could make the hypothesis that someone that regularly need to have an appointment due to the chronic condition, booking then a long time in advance, will not miss his appointment.\n",
    "\n",
    "Looking at the number of appointment a patient has does not seem to have a influence on the no-show rate.\n"
   ]
  },
  {
   "cell_type": "code",
   "execution_count": 27,
   "metadata": {},
   "outputs": [
    {
     "data": {
      "text/html": [
       "<div>\n",
       "<style scoped>\n",
       "    .dataframe tbody tr th:only-of-type {\n",
       "        vertical-align: middle;\n",
       "    }\n",
       "\n",
       "    .dataframe tbody tr th {\n",
       "        vertical-align: top;\n",
       "    }\n",
       "\n",
       "    .dataframe thead th {\n",
       "        text-align: right;\n",
       "    }\n",
       "</style>\n",
       "<table border=\"1\" class=\"dataframe\">\n",
       "  <thead>\n",
       "    <tr style=\"text-align: right;\">\n",
       "      <th>lag_cat</th>\n",
       "      <th>(-1.0, 0.1]</th>\n",
       "      <th>(0.1, 2.0]</th>\n",
       "      <th>(2.0, 10.0]</th>\n",
       "      <th>(10.0, 20.0]</th>\n",
       "      <th>(20.0, 30.0]</th>\n",
       "      <th>(30.0, 179.0]</th>\n",
       "    </tr>\n",
       "    <tr>\n",
       "      <th>age_cat_3_groups</th>\n",
       "      <th></th>\n",
       "      <th></th>\n",
       "      <th></th>\n",
       "      <th></th>\n",
       "      <th></th>\n",
       "      <th></th>\n",
       "    </tr>\n",
       "  </thead>\n",
       "  <tbody>\n",
       "    <tr>\n",
       "      <th>(-1.001, 11.0]</th>\n",
       "      <td>8270</td>\n",
       "      <td>1417</td>\n",
       "      <td>3771</td>\n",
       "      <td>2536</td>\n",
       "      <td>1870</td>\n",
       "      <td>1884</td>\n",
       "    </tr>\n",
       "    <tr>\n",
       "      <th>(11.0, 27.0]</th>\n",
       "      <td>7876</td>\n",
       "      <td>1858</td>\n",
       "      <td>4754</td>\n",
       "      <td>2764</td>\n",
       "      <td>2125</td>\n",
       "      <td>1660</td>\n",
       "    </tr>\n",
       "    <tr>\n",
       "      <th>(27.0, 42.0]</th>\n",
       "      <td>7636</td>\n",
       "      <td>2078</td>\n",
       "      <td>5086</td>\n",
       "      <td>2886</td>\n",
       "      <td>2113</td>\n",
       "      <td>1890</td>\n",
       "    </tr>\n",
       "    <tr>\n",
       "      <th>(42.0, 53.0]</th>\n",
       "      <td>5621</td>\n",
       "      <td>1988</td>\n",
       "      <td>3942</td>\n",
       "      <td>1948</td>\n",
       "      <td>1488</td>\n",
       "      <td>1551</td>\n",
       "    </tr>\n",
       "    <tr>\n",
       "      <th>(53.0, 115.0]</th>\n",
       "      <td>9075</td>\n",
       "      <td>4518</td>\n",
       "      <td>7668</td>\n",
       "      <td>3282</td>\n",
       "      <td>2539</td>\n",
       "      <td>3079</td>\n",
       "    </tr>\n",
       "  </tbody>\n",
       "</table>\n",
       "</div>"
      ],
      "text/plain": [
       "lag_cat           (-1.0, 0.1]  (0.1, 2.0]  (2.0, 10.0]  (10.0, 20.0]  \\\n",
       "age_cat_3_groups                                                       \n",
       "(-1.001, 11.0]           8270        1417         3771          2536   \n",
       "(11.0, 27.0]             7876        1858         4754          2764   \n",
       "(27.0, 42.0]             7636        2078         5086          2886   \n",
       "(42.0, 53.0]             5621        1988         3942          1948   \n",
       "(53.0, 115.0]            9075        4518         7668          3282   \n",
       "\n",
       "lag_cat           (20.0, 30.0]  (30.0, 179.0]  \n",
       "age_cat_3_groups                               \n",
       "(-1.001, 11.0]            1870           1884  \n",
       "(11.0, 27.0]              2125           1660  \n",
       "(27.0, 42.0]              2113           1890  \n",
       "(42.0, 53.0]              1488           1551  \n",
       "(53.0, 115.0]             2539           3079  "
      ]
     },
     "execution_count": 27,
     "metadata": {},
     "output_type": "execute_result"
    }
   ],
   "source": [
    "# We check that each sub-group has indeed enough population to the significantive.\n",
    "pd.crosstab(data_all_num.age_cat_3_groups,data_all_num.lag_cat)"
   ]
  },
  {
   "cell_type": "code",
   "execution_count": 28,
   "metadata": {},
   "outputs": [
    {
     "data": {
      "text/html": [
       "<div>\n",
       "<style scoped>\n",
       "    .dataframe tbody tr th:only-of-type {\n",
       "        vertical-align: middle;\n",
       "    }\n",
       "\n",
       "    .dataframe tbody tr th {\n",
       "        vertical-align: top;\n",
       "    }\n",
       "\n",
       "    .dataframe thead th {\n",
       "        text-align: right;\n",
       "    }\n",
       "</style>\n",
       "<table border=\"1\" class=\"dataframe\">\n",
       "  <thead>\n",
       "    <tr style=\"text-align: right;\">\n",
       "      <th>lag_cat</th>\n",
       "      <th>(-1.0, 0.1]</th>\n",
       "      <th>(0.1, 2.0]</th>\n",
       "      <th>(2.0, 10.0]</th>\n",
       "      <th>(10.0, 20.0]</th>\n",
       "      <th>(20.0, 30.0]</th>\n",
       "      <th>(30.0, 179.0]</th>\n",
       "    </tr>\n",
       "    <tr>\n",
       "      <th>age_cat_3_groups</th>\n",
       "      <th></th>\n",
       "      <th></th>\n",
       "      <th></th>\n",
       "      <th></th>\n",
       "      <th></th>\n",
       "      <th></th>\n",
       "    </tr>\n",
       "  </thead>\n",
       "  <tbody>\n",
       "    <tr>\n",
       "      <th>(-1.001, 11.0]</th>\n",
       "      <td>8270</td>\n",
       "      <td>1417</td>\n",
       "      <td>3771</td>\n",
       "      <td>2536</td>\n",
       "      <td>1870</td>\n",
       "      <td>1884</td>\n",
       "    </tr>\n",
       "    <tr>\n",
       "      <th>(11.0, 27.0]</th>\n",
       "      <td>7876</td>\n",
       "      <td>1858</td>\n",
       "      <td>4754</td>\n",
       "      <td>2764</td>\n",
       "      <td>2125</td>\n",
       "      <td>1660</td>\n",
       "    </tr>\n",
       "    <tr>\n",
       "      <th>(27.0, 42.0]</th>\n",
       "      <td>7636</td>\n",
       "      <td>2078</td>\n",
       "      <td>5086</td>\n",
       "      <td>2886</td>\n",
       "      <td>2113</td>\n",
       "      <td>1890</td>\n",
       "    </tr>\n",
       "    <tr>\n",
       "      <th>(42.0, 53.0]</th>\n",
       "      <td>5621</td>\n",
       "      <td>1988</td>\n",
       "      <td>3942</td>\n",
       "      <td>1948</td>\n",
       "      <td>1488</td>\n",
       "      <td>1551</td>\n",
       "    </tr>\n",
       "    <tr>\n",
       "      <th>(53.0, 115.0]</th>\n",
       "      <td>9075</td>\n",
       "      <td>4518</td>\n",
       "      <td>7668</td>\n",
       "      <td>3282</td>\n",
       "      <td>2539</td>\n",
       "      <td>3079</td>\n",
       "    </tr>\n",
       "  </tbody>\n",
       "</table>\n",
       "</div>"
      ],
      "text/plain": [
       "lag_cat           (-1.0, 0.1]  (0.1, 2.0]  (2.0, 10.0]  (10.0, 20.0]  \\\n",
       "age_cat_3_groups                                                       \n",
       "(-1.001, 11.0]           8270        1417         3771          2536   \n",
       "(11.0, 27.0]             7876        1858         4754          2764   \n",
       "(27.0, 42.0]             7636        2078         5086          2886   \n",
       "(42.0, 53.0]             5621        1988         3942          1948   \n",
       "(53.0, 115.0]            9075        4518         7668          3282   \n",
       "\n",
       "lag_cat           (20.0, 30.0]  (30.0, 179.0]  \n",
       "age_cat_3_groups                               \n",
       "(-1.001, 11.0]            1870           1884  \n",
       "(11.0, 27.0]              2125           1660  \n",
       "(27.0, 42.0]              2113           1890  \n",
       "(42.0, 53.0]              1488           1551  \n",
       "(53.0, 115.0]             2539           3079  "
      ]
     },
     "execution_count": 28,
     "metadata": {},
     "output_type": "execute_result"
    }
   ],
   "source": [
    "# We check that each sub-group has indeed enough population to the significantive.\n",
    "pd.crosstab(data_all_num.age_cat_3_groups,data_all_num.lag_cat)"
   ]
  },
  {
   "cell_type": "code",
   "execution_count": 29,
   "metadata": {},
   "outputs": [
    {
     "name": "stderr",
     "output_type": "stream",
     "text": [
      "/Users/severinhatt/Virtualenvs/thinkful/base_plotting/lib/python3.7/site-packages/scipy/stats/stats.py:1713: FutureWarning: Using a non-tuple sequence for multidimensional indexing is deprecated; use `arr[tuple(seq)]` instead of `arr[seq]`. In the future this will be interpreted as an array index, `arr[np.array(seq)]`, which will result either in an error or a different result.\n",
      "  return np.add.reduce(sorted[indexer] * weights, axis=axis) / sumval\n"
     ]
    },
    {
     "data": {
      "image/png": "[encoded data removed]",
      "text/plain": [
       "<Figure size 432x288 with 1 Axes>"
      ]
     },
     "metadata": {
      "needs_background": "light"
     },
     "output_type": "display_data"
    }
   ],
   "source": [
    "ax = sns.pointplot(x=\"lag_cat\",y=\"no_show_Yes\",hue=\"age_cat_3_groups\", data=data_all_num)\n",
    "ax.set_title(\"No show rate per delay and age group\");\n",
    "handles, labels = ax.get_legend_handles_labels();\n",
    "ax.legend(handles, age_3_groups_labels,title=\"Age groups\");\n",
    "ax.set_xticklabels(lag_cat_labels);\n",
    "ax.set_xlabel(\"Delay between scheduling and the appointment (days)\")\n",
    "ax.set_ylabel(\"Percentage No Show\")\n",
    "plt.gca().yaxis.set_major_formatter(PercentFormatter(xmax=1,decimals=0))\n"
   ]
  },
  {
   "cell_type": "code",
   "execution_count": 30,
   "metadata": {},
   "outputs": [
    {
     "name": "stderr",
     "output_type": "stream",
     "text": [
      "/Users/severinhatt/Virtualenvs/thinkful/base_plotting/lib/python3.7/site-packages/scipy/stats/stats.py:1713: FutureWarning: Using a non-tuple sequence for multidimensional indexing is deprecated; use `arr[tuple(seq)]` instead of `arr[seq]`. In the future this will be interpreted as an array index, `arr[np.array(seq)]`, which will result either in an error or a different result.\n",
      "  return np.add.reduce(sorted[indexer] * weights, axis=axis) / sumval\n"
     ]
    },
    {
     "data": {
      "text/plain": [
       "Text(0,0.5,'Number of appoitments.')"
      ]
     },
     "execution_count": 30,
     "metadata": {},
     "output_type": "execute_result"
    },
    {
     "data": {
      "image/png": "[encoded data removed]",
      "text/plain": [
       "<Figure size 432x288 with 1 Axes>"
      ]
     },
     "metadata": {
      "needs_background": "light"
     },
     "output_type": "display_data"
    }
   ],
   "source": [
    "ax = sns.barplot(x=\"lag_cat\",y='AppointmentID',hue=\"age_cat_3_groups\", data=data_all_num,estimator=len)\n",
    "ax.set_title(\"Number of appointment per delay and age group\");\n",
    "handles, labels = ax.get_legend_handles_labels();\n",
    "ax.legend(handles, age_3_groups_labels,title=\"Age groups\");\n",
    "ax.set_xticklabels(lag_cat_labels);\n",
    "ax.set_xlabel(\"Number of appointment in each case\")\n",
    "ax.set_ylabel(\"Number of appoitments.\")\n"
   ]
  },
  {
   "cell_type": "code",
   "execution_count": 31,
   "metadata": {},
   "outputs": [
    {
     "data": {
      "text/html": [
       "<div>\n",
       "<style scoped>\n",
       "    .dataframe tbody tr th:only-of-type {\n",
       "        vertical-align: middle;\n",
       "    }\n",
       "\n",
       "    .dataframe tbody tr th {\n",
       "        vertical-align: top;\n",
       "    }\n",
       "\n",
       "    .dataframe thead th {\n",
       "        text-align: right;\n",
       "    }\n",
       "</style>\n",
       "<table border=\"1\" class=\"dataframe\">\n",
       "  <thead>\n",
       "    <tr style=\"text-align: right;\">\n",
       "      <th>lag_cat</th>\n",
       "      <th>(-1.0, 0.1]</th>\n",
       "      <th>(0.1, 2.0]</th>\n",
       "      <th>(2.0, 10.0]</th>\n",
       "      <th>(10.0, 20.0]</th>\n",
       "      <th>(20.0, 30.0]</th>\n",
       "      <th>(30.0, 179.0]</th>\n",
       "    </tr>\n",
       "    <tr>\n",
       "      <th>appoint_nb_cat</th>\n",
       "      <th></th>\n",
       "      <th></th>\n",
       "      <th></th>\n",
       "      <th></th>\n",
       "      <th></th>\n",
       "      <th></th>\n",
       "    </tr>\n",
       "  </thead>\n",
       "  <tbody>\n",
       "    <tr>\n",
       "      <th>(-1, 5]</th>\n",
       "      <td>33451</td>\n",
       "      <td>10226</td>\n",
       "      <td>21561</td>\n",
       "      <td>12343</td>\n",
       "      <td>9614</td>\n",
       "      <td>9649</td>\n",
       "    </tr>\n",
       "    <tr>\n",
       "      <th>(5, 88]</th>\n",
       "      <td>5027</td>\n",
       "      <td>1633</td>\n",
       "      <td>3660</td>\n",
       "      <td>1073</td>\n",
       "      <td>521</td>\n",
       "      <td>415</td>\n",
       "    </tr>\n",
       "  </tbody>\n",
       "</table>\n",
       "</div>"
      ],
      "text/plain": [
       "lag_cat         (-1.0, 0.1]  (0.1, 2.0]  (2.0, 10.0]  (10.0, 20.0]  \\\n",
       "appoint_nb_cat                                                       \n",
       "(-1, 5]               33451       10226        21561         12343   \n",
       "(5, 88]                5027        1633         3660          1073   \n",
       "\n",
       "lag_cat         (20.0, 30.0]  (30.0, 179.0]  \n",
       "appoint_nb_cat                               \n",
       "(-1, 5]                 9614           9649  \n",
       "(5, 88]                  521            415  "
      ]
     },
     "execution_count": 31,
     "metadata": {},
     "output_type": "execute_result"
    }
   ],
   "source": [
    "# We check that each sub-group has indeed enough population to the significantive.\n",
    "pd.crosstab(data_all_num.appoint_nb_cat,data_all_num.lag_cat)"
   ]
  },
  {
   "cell_type": "code",
   "execution_count": 32,
   "metadata": {},
   "outputs": [
    {
     "name": "stderr",
     "output_type": "stream",
     "text": [
      "/Users/severinhatt/Virtualenvs/thinkful/base_plotting/lib/python3.7/site-packages/scipy/stats/stats.py:1713: FutureWarning: Using a non-tuple sequence for multidimensional indexing is deprecated; use `arr[tuple(seq)]` instead of `arr[seq]`. In the future this will be interpreted as an array index, `arr[np.array(seq)]`, which will result either in an error or a different result.\n",
      "  return np.add.reduce(sorted[indexer] * weights, axis=axis) / sumval\n"
     ]
    },
    {
     "data": {
      "image/png": "[encoded data removed]",
      "text/plain": [
       "<Figure size 432x288 with 1 Axes>"
      ]
     },
     "metadata": {
      "needs_background": "light"
     },
     "output_type": "display_data"
    }
   ],
   "source": [
    "ax = sns.pointplot(x=\"lag_cat\",y=\"no_show_Yes\",hue=\"appoint_nb_cat\", data=data_all_num)\n",
    "ax.set_title(\"No show rate per delay and age group\");\n",
    "#handles, labels = ax.get_legend_handles_labels();\n",
    "#ax.legend(handles, age_3_groups_labels,title=\"Age groups\");\n",
    "ax.set_xticklabels(lag_cat_labels);\n",
    "ax.set_xlabel(\"Delay between scheduling and the appointment (days)\")\n",
    "ax.set_ylabel(\"Percentage No Show\")\n",
    "plt.gca().yaxis.set_major_formatter(PercentFormatter(xmax=1,decimals=0))\n"
   ]
  },
  {
   "cell_type": "markdown",
   "metadata": {},
   "source": [
    "# The influence of sending SMS and the no-show rate\n",
    "<a id=\"sms\"></a>\n",
    "Looking at the number of SMS submitted, we notice they are only send if the patient schedule the patient more than 2 days before the appoitment, eventhough the no-show rate is significant (more than 20%) when the appointment is schedule 1 or 2 days before the appointment.\n",
    "\n",
    "For all delays, we notice an improvements in the no-show rate when the SMS is submitted.\n",
    "\n",
    "Looking for potential effect of a significant variable, like Age, we notice the Age distribution is not different wether the SMS was submitted or not (we look at the delays greater than 2 days and compare the distribution of Age, the p-value of 23% is very high and the null hypothesis cannot be rejected.)\n",
    "\n",
    "We can confirm the positive effect of submitting the SMS for all age groups by looking at the no-show rate par age group for appoitment that were schedule more than 2 days in advance (as no SMS is submitted before that).\n",
    "\n",
    "For the features **Alcoholism**, **Handicap**, the number of people with then is very low.\n",
    "\n",
    "We can confirm graphically the effect of sending an SMS for the features **Scholarship** and **Hypertension**."
   ]
  },
  {
   "cell_type": "code",
   "execution_count": 33,
   "metadata": {},
   "outputs": [],
   "source": [
    "sms_effect = dataset_for_review.groupby([\"lag_cat\",\"SMS_received\"])[\"No_show\"].value_counts().unstack().fillna(0)\n",
    "\n",
    "sms_effect[\"total\"] = sms_effect.Yes+sms_effect.No\n",
    "sms_effect[\"percent\"] = sms_effect.Yes / sms_effect.total\n",
    "sms_measure = sms_effect.reset_index()\n",
    "#per_repeat = per_repeat.reset_index()\n",
    "#plt.bar(per_repeat.index,per_repeat.percent);"
   ]
  },
  {
   "cell_type": "code",
   "execution_count": 34,
   "metadata": {},
   "outputs": [
    {
     "data": {
      "image/png": "[encoded data removed]",
      "text/plain": [
       "<Figure size 432x288 with 1 Axes>"
      ]
     },
     "metadata": {
      "needs_background": "light"
     },
     "output_type": "display_data"
    }
   ],
   "source": [
    "ax = sns.countplot(x=\"lag_cat\", hue=\"SMS_received\", data=data_all_num)\n",
    "ax.set_title(\"Number of SMS submitted\");\n",
    "handles, labels = ax.get_legend_handles_labels();\n",
    "ax.legend(handles, [\"No\",\"Yes\"],title=\"SMS submitted\",loc='upper right');\n",
    "ax.set_xticklabels(lag_cat_labels);\n",
    "ax.set_xlabel(\"Delay between scheduling and the appointment (days)\")\n",
    "ax.set_ylabel(\"Number of appointments\");\n"
   ]
  },
  {
   "cell_type": "code",
   "execution_count": 35,
   "metadata": {},
   "outputs": [
    {
     "data": {
      "image/png": "[encoded data removed]",
      "text/plain": [
       "<Figure size 432x288 with 1 Axes>"
      ]
     },
     "metadata": {
      "needs_background": "light"
     },
     "output_type": "display_data"
    }
   ],
   "source": [
    "ax = sns.barplot(x=\"lag_cat\", y=\"percent\", hue=\"SMS_received\", data=sms_measure)\n",
    "ax.set_title(\"No show rate per delay whether a SMS was received.\");\n",
    "handles, labels = ax.get_legend_handles_labels();\n",
    "ax.legend(handles, [\"No\",\"Yes\"],title=\"SMS submitted\",loc='upper left');\n",
    "ax.set_xticklabels(lag_cat_labels);\n",
    "ax.set_xlabel(\"Delay between scheduling and the appointment (days)\")\n",
    "ax.set_ylabel(\"Percentage No Show\")\n",
    "plt.gca().yaxis.set_major_formatter(PercentFormatter(xmax=1,decimals=0))\n"
   ]
  },
  {
   "cell_type": "markdown",
   "metadata": {},
   "source": [
    "We want to check if there is indeed a statisical difference between the No show rate between the population that has received a SMS."
   ]
  },
  {
   "cell_type": "code",
   "execution_count": 37,
   "metadata": {},
   "outputs": [
    {
     "name": "stdout",
     "output_type": "stream",
     "text": [
      "Ttest_indResult(statistic=12.761275526933805, pvalue=3.0985991910727258e-37)\n",
      "Ttest_indResult(statistic=12.885781527202381, pvalue=6.09238075269069e-38)\n"
     ]
    }
   ],
   "source": [
    "#Create 2 population when delay is more than 2 days, whether they get submitted an SMS or not.\n",
    "appoint_with_delay_SMS = data_all_num[(data_all_num.delay>2)&(data_all_num.SMS_received==1)]\n",
    "appoint_with_delay_no_SMS = data_all_num[(data_all_num.delay>2)&(data_all_num.SMS_received==0)]\n",
    "\n",
    "print(ttest_ind(appoint_with_delay_no_SMS.no_show_Yes,appoint_with_delay_SMS.no_show_Yes,equal_var=False))\n",
    "print(ttest_ind(appoint_with_delay_no_SMS.no_show_Yes,appoint_with_delay_SMS.no_show_Yes,equal_var=True))"
   ]
  },
  {
   "cell_type": "markdown",
   "metadata": {},
   "source": [
    "As there is a statistical difference, we check if there could be a difference on other features that are significative for the **No show** rate like **Age** for example"
   ]
  },
  {
   "cell_type": "code",
   "execution_count": 38,
   "metadata": {},
   "outputs": [
    {
     "name": "stdout",
     "output_type": "stream",
     "text": [
      "Ttest_indResult(statistic=1.1962294338599355, pvalue=0.2316129636467542)\n",
      "Ttest_indResult(statistic=-1.2109911575345076, pvalue=0.22590365800297288)\n",
      "37.74732379892095 37.513809819063184\n"
     ]
    }
   ],
   "source": [
    "print(ttest_ind(appoint_with_delay_no_SMS.Age,appoint_with_delay_SMS.Age,equal_var=False))\n",
    "print(ttest_ind(appoint_with_delay_SMS.Age,appoint_with_delay_no_SMS.Age,equal_var=True))\n",
    "print(np.mean(appoint_with_delay_no_SMS.Age),np.mean(appoint_with_delay_SMS.Age))"
   ]
  },
  {
   "cell_type": "code",
   "execution_count": 39,
   "metadata": {},
   "outputs": [
    {
     "name": "stdout",
     "output_type": "stream",
     "text": [
      "Ttest_indResult(statistic=1.1962294338599355, pvalue=0.2316129636467542)\n"
     ]
    },
    {
     "data": {
      "text/plain": [
       "Text(0.5,1,'Age distribution when the SMS is submitted or not.')"
      ]
     },
     "execution_count": 39,
     "metadata": {},
     "output_type": "execute_result"
    },
    {
     "data": {
      "image/png": "[encoded data removed]",
      "text/plain": [
       "<Figure size 432x288 with 1 Axes>"
      ]
     },
     "metadata": {
      "needs_background": "light"
     },
     "output_type": "display_data"
    }
   ],
   "source": [
    "criteria = \"SMS_received\"\n",
    "population= \"Age\"\n",
    "\n",
    "dist_one = data_all_num[(data_all_num.delay>2) &(data_all_num[criteria]==0)]\n",
    "dist_two = data_all_num[(data_all_num.delay>2) &(data_all_num[criteria]==1)]\n",
    "\n",
    "_,bins,_ = plt.hist(dist_one[population],density=True,alpha=0.3,bins=40,label=\"%s for %s %s\"%(population,criteria,\"No\"));\n",
    "plt.hist(dist_two[population],density=True,alpha=0.3,bins=bins,label=\"%s for %s %s\"%(population,criteria,\"Yes\"));\n",
    "plt.legend()\n",
    "plt.gca().yaxis.set_major_formatter(PercentFormatter(xmax=1,decimals=1))\n",
    "plt.xlim(0,115)\n",
    "print(ttest_ind(dist_one[population],dist_two[population],equal_var=False))\n",
    "plt.title(\"Age distribution when the SMS is submitted or not.\")"
   ]
  },
  {
   "cell_type": "code",
   "execution_count": 40,
   "metadata": {},
   "outputs": [
    {
     "data": {
      "image/png": "[encoded data removed]",
      "text/plain": [
       "<Figure size 432x288 with 1 Axes>"
      ]
     },
     "metadata": {
      "needs_background": "light"
     },
     "output_type": "display_data"
    }
   ],
   "source": [
    "no_show_per_age = data_all_num[data_all_num.delay>2].groupby([\"age_cat\",\"SMS_received\"])[\"No_show\"].value_counts().unstack().fillna(0)\n",
    "no_show_per_age[\"total\"] = no_show_per_age.Yes+no_show_per_age.No\n",
    "no_show_per_age[\"percent\"] = no_show_per_age.Yes / (no_show_per_age.total)\n",
    "no_show_per_age = no_show_per_age.reset_index()\n",
    "ax = sns.barplot(x=\"age_cat\", y=\"percent\"\n",
    "                 , hue=\"SMS_received\"\n",
    "                 ,data=no_show_per_age)\n",
    "plt.xticks(rotation=25,verticalalignment=\"top\",horizontalalignment=\"right\");\n",
    "plt.title(\"No Show rate for appointments scheduled more than 2 days in advance by Age groups with SMS effect\");\n",
    "handles, labels = ax.get_legend_handles_labels();\n",
    "ax.legend(handles, [\"No\",\"Yes\"],title=\"SMS submitted\",loc='upper right');\n",
    "ax.set_xticklabels(age_cat_labels);\n",
    "ax.set_xlabel(\"Age groups (years)\")\n",
    "ax.set_ylabel(\"Percentage No Show\")\n",
    "plt.gca().yaxis.set_major_formatter(PercentFormatter(xmax=1,decimals=0))"
   ]
  },
  {
   "cell_type": "code",
   "execution_count": 43,
   "metadata": {},
   "outputs": [
    {
     "data": {
      "text/html": [
       "<div>\n",
       "<style scoped>\n",
       "    .dataframe tbody tr th:only-of-type {\n",
       "        vertical-align: middle;\n",
       "    }\n",
       "\n",
       "    .dataframe tbody tr th {\n",
       "        vertical-align: top;\n",
       "    }\n",
       "\n",
       "    .dataframe thead th {\n",
       "        text-align: right;\n",
       "    }\n",
       "</style>\n",
       "<table border=\"1\" class=\"dataframe\">\n",
       "  <thead>\n",
       "    <tr style=\"text-align: right;\">\n",
       "      <th>lag_cat</th>\n",
       "      <th>(-1.0, 0.1]</th>\n",
       "      <th>(0.1, 2.0]</th>\n",
       "      <th>(2.0, 10.0]</th>\n",
       "      <th>(10.0, 20.0]</th>\n",
       "      <th>(20.0, 30.0]</th>\n",
       "      <th>(30.0, 179.0]</th>\n",
       "    </tr>\n",
       "    <tr>\n",
       "      <th>Alcoholism</th>\n",
       "      <th></th>\n",
       "      <th></th>\n",
       "      <th></th>\n",
       "      <th></th>\n",
       "      <th></th>\n",
       "      <th></th>\n",
       "    </tr>\n",
       "  </thead>\n",
       "  <tbody>\n",
       "    <tr>\n",
       "      <th>0</th>\n",
       "      <td>36940</td>\n",
       "      <td>11532</td>\n",
       "      <td>24475</td>\n",
       "      <td>13075</td>\n",
       "      <td>9922</td>\n",
       "      <td>9899</td>\n",
       "    </tr>\n",
       "    <tr>\n",
       "      <th>1</th>\n",
       "      <td>1538</td>\n",
       "      <td>327</td>\n",
       "      <td>746</td>\n",
       "      <td>341</td>\n",
       "      <td>213</td>\n",
       "      <td>165</td>\n",
       "    </tr>\n",
       "  </tbody>\n",
       "</table>\n",
       "</div>"
      ],
      "text/plain": [
       "lag_cat     (-1.0, 0.1]  (0.1, 2.0]  (2.0, 10.0]  (10.0, 20.0]  (20.0, 30.0]  \\\n",
       "Alcoholism                                                                     \n",
       "0                 36940       11532        24475         13075          9922   \n",
       "1                  1538         327          746           341           213   \n",
       "\n",
       "lag_cat     (30.0, 179.0]  \n",
       "Alcoholism                 \n",
       "0                    9899  \n",
       "1                     165  "
      ]
     },
     "execution_count": 43,
     "metadata": {},
     "output_type": "execute_result"
    }
   ],
   "source": [
    "pd.crosstab(data_all_num.Alcoholism,data_all_num.lag_cat)"
   ]
  },
  {
   "cell_type": "code",
   "execution_count": 44,
   "metadata": {},
   "outputs": [
    {
     "data": {
      "text/html": [
       "<div>\n",
       "<style scoped>\n",
       "    .dataframe tbody tr th:only-of-type {\n",
       "        vertical-align: middle;\n",
       "    }\n",
       "\n",
       "    .dataframe tbody tr th {\n",
       "        vertical-align: top;\n",
       "    }\n",
       "\n",
       "    .dataframe thead th {\n",
       "        text-align: right;\n",
       "    }\n",
       "</style>\n",
       "<table border=\"1\" class=\"dataframe\">\n",
       "  <thead>\n",
       "    <tr style=\"text-align: right;\">\n",
       "      <th>lag_cat</th>\n",
       "      <th>(-1.0, 0.1]</th>\n",
       "      <th>(0.1, 2.0]</th>\n",
       "      <th>(2.0, 10.0]</th>\n",
       "      <th>(10.0, 20.0]</th>\n",
       "      <th>(20.0, 30.0]</th>\n",
       "      <th>(30.0, 179.0]</th>\n",
       "    </tr>\n",
       "    <tr>\n",
       "      <th>Handicap</th>\n",
       "      <th></th>\n",
       "      <th></th>\n",
       "      <th></th>\n",
       "      <th></th>\n",
       "      <th></th>\n",
       "      <th></th>\n",
       "    </tr>\n",
       "  </thead>\n",
       "  <tbody>\n",
       "    <tr>\n",
       "      <th>0</th>\n",
       "      <td>37548</td>\n",
       "      <td>11553</td>\n",
       "      <td>24743</td>\n",
       "      <td>13192</td>\n",
       "      <td>9990</td>\n",
       "      <td>9935</td>\n",
       "    </tr>\n",
       "    <tr>\n",
       "      <th>1</th>\n",
       "      <td>853</td>\n",
       "      <td>284</td>\n",
       "      <td>434</td>\n",
       "      <td>199</td>\n",
       "      <td>129</td>\n",
       "      <td>118</td>\n",
       "    </tr>\n",
       "    <tr>\n",
       "      <th>2</th>\n",
       "      <td>71</td>\n",
       "      <td>20</td>\n",
       "      <td>42</td>\n",
       "      <td>21</td>\n",
       "      <td>16</td>\n",
       "      <td>11</td>\n",
       "    </tr>\n",
       "    <tr>\n",
       "      <th>3</th>\n",
       "      <td>5</td>\n",
       "      <td>1</td>\n",
       "      <td>2</td>\n",
       "      <td>3</td>\n",
       "      <td>0</td>\n",
       "      <td>0</td>\n",
       "    </tr>\n",
       "    <tr>\n",
       "      <th>4</th>\n",
       "      <td>1</td>\n",
       "      <td>1</td>\n",
       "      <td>0</td>\n",
       "      <td>1</td>\n",
       "      <td>0</td>\n",
       "      <td>0</td>\n",
       "    </tr>\n",
       "  </tbody>\n",
       "</table>\n",
       "</div>"
      ],
      "text/plain": [
       "lag_cat   (-1.0, 0.1]  (0.1, 2.0]  (2.0, 10.0]  (10.0, 20.0]  (20.0, 30.0]  \\\n",
       "Handicap                                                                     \n",
       "0               37548       11553        24743         13192          9990   \n",
       "1                 853         284          434           199           129   \n",
       "2                  71          20           42            21            16   \n",
       "3                   5           1            2             3             0   \n",
       "4                   1           1            0             1             0   \n",
       "\n",
       "lag_cat   (30.0, 179.0]  \n",
       "Handicap                 \n",
       "0                  9935  \n",
       "1                   118  \n",
       "2                    11  \n",
       "3                     0  \n",
       "4                     0  "
      ]
     },
     "execution_count": 44,
     "metadata": {},
     "output_type": "execute_result"
    }
   ],
   "source": [
    "pd.crosstab(data_all_num.Handicap,data_all_num.lag_cat)"
   ]
  },
  {
   "cell_type": "code",
   "execution_count": 45,
   "metadata": {},
   "outputs": [
    {
     "data": {
      "text/html": [
       "<div>\n",
       "<style scoped>\n",
       "    .dataframe tbody tr th:only-of-type {\n",
       "        vertical-align: middle;\n",
       "    }\n",
       "\n",
       "    .dataframe tbody tr th {\n",
       "        vertical-align: top;\n",
       "    }\n",
       "\n",
       "    .dataframe thead th {\n",
       "        text-align: right;\n",
       "    }\n",
       "</style>\n",
       "<table border=\"1\" class=\"dataframe\">\n",
       "  <thead>\n",
       "    <tr style=\"text-align: right;\">\n",
       "      <th>lag_cat</th>\n",
       "      <th>(-1.0, 0.1]</th>\n",
       "      <th>(0.1, 2.0]</th>\n",
       "      <th>(2.0, 10.0]</th>\n",
       "      <th>(10.0, 20.0]</th>\n",
       "      <th>(20.0, 30.0]</th>\n",
       "      <th>(30.0, 179.0]</th>\n",
       "    </tr>\n",
       "    <tr>\n",
       "      <th>Scholarship</th>\n",
       "      <th></th>\n",
       "      <th></th>\n",
       "      <th></th>\n",
       "      <th></th>\n",
       "      <th></th>\n",
       "      <th></th>\n",
       "    </tr>\n",
       "  </thead>\n",
       "  <tbody>\n",
       "    <tr>\n",
       "      <th>0</th>\n",
       "      <td>34296</td>\n",
       "      <td>10955</td>\n",
       "      <td>22714</td>\n",
       "      <td>11961</td>\n",
       "      <td>9137</td>\n",
       "      <td>9385</td>\n",
       "    </tr>\n",
       "    <tr>\n",
       "      <th>1</th>\n",
       "      <td>4182</td>\n",
       "      <td>904</td>\n",
       "      <td>2507</td>\n",
       "      <td>1455</td>\n",
       "      <td>998</td>\n",
       "      <td>679</td>\n",
       "    </tr>\n",
       "  </tbody>\n",
       "</table>\n",
       "</div>"
      ],
      "text/plain": [
       "lag_cat      (-1.0, 0.1]  (0.1, 2.0]  (2.0, 10.0]  (10.0, 20.0]  (20.0, 30.0]  \\\n",
       "Scholarship                                                                     \n",
       "0                  34296       10955        22714         11961          9137   \n",
       "1                   4182         904         2507          1455           998   \n",
       "\n",
       "lag_cat      (30.0, 179.0]  \n",
       "Scholarship                 \n",
       "0                     9385  \n",
       "1                      679  "
      ]
     },
     "execution_count": 45,
     "metadata": {},
     "output_type": "execute_result"
    }
   ],
   "source": [
    "# We check that each sub-group has indeed enough population to the significantive.\n",
    "pd.crosstab(data_all_num.Scholarship,data_all_num.lag_cat)"
   ]
  },
  {
   "cell_type": "code",
   "execution_count": 46,
   "metadata": {},
   "outputs": [
    {
     "data": {
      "text/html": [
       "<div>\n",
       "<style scoped>\n",
       "    .dataframe tbody tr th:only-of-type {\n",
       "        vertical-align: middle;\n",
       "    }\n",
       "\n",
       "    .dataframe tbody tr th {\n",
       "        vertical-align: top;\n",
       "    }\n",
       "\n",
       "    .dataframe thead th {\n",
       "        text-align: right;\n",
       "    }\n",
       "</style>\n",
       "<table border=\"1\" class=\"dataframe\">\n",
       "  <thead>\n",
       "    <tr style=\"text-align: right;\">\n",
       "      <th>lag_cat</th>\n",
       "      <th>(-1.0, 0.1]</th>\n",
       "      <th>(0.1, 2.0]</th>\n",
       "      <th>(2.0, 10.0]</th>\n",
       "      <th>(10.0, 20.0]</th>\n",
       "      <th>(20.0, 30.0]</th>\n",
       "      <th>(30.0, 179.0]</th>\n",
       "    </tr>\n",
       "    <tr>\n",
       "      <th>Hypertension</th>\n",
       "      <th></th>\n",
       "      <th></th>\n",
       "      <th></th>\n",
       "      <th></th>\n",
       "      <th></th>\n",
       "      <th></th>\n",
       "    </tr>\n",
       "  </thead>\n",
       "  <tbody>\n",
       "    <tr>\n",
       "      <th>0</th>\n",
       "      <td>31727</td>\n",
       "      <td>8657</td>\n",
       "      <td>19489</td>\n",
       "      <td>10899</td>\n",
       "      <td>8390</td>\n",
       "      <td>8462</td>\n",
       "    </tr>\n",
       "    <tr>\n",
       "      <th>1</th>\n",
       "      <td>6751</td>\n",
       "      <td>3202</td>\n",
       "      <td>5732</td>\n",
       "      <td>2517</td>\n",
       "      <td>1745</td>\n",
       "      <td>1602</td>\n",
       "    </tr>\n",
       "  </tbody>\n",
       "</table>\n",
       "</div>"
      ],
      "text/plain": [
       "lag_cat       (-1.0, 0.1]  (0.1, 2.0]  (2.0, 10.0]  (10.0, 20.0]  \\\n",
       "Hypertension                                                       \n",
       "0                   31727        8657        19489         10899   \n",
       "1                    6751        3202         5732          2517   \n",
       "\n",
       "lag_cat       (20.0, 30.0]  (30.0, 179.0]  \n",
       "Hypertension                               \n",
       "0                     8390           8462  \n",
       "1                     1745           1602  "
      ]
     },
     "execution_count": 46,
     "metadata": {},
     "output_type": "execute_result"
    }
   ],
   "source": [
    "# We check that each sub-group has indeed enough population to the significantive.\n",
    "pd.crosstab(data_all_num.Hypertension,data_all_num.lag_cat)"
   ]
  },
  {
   "cell_type": "code",
   "execution_count": 47,
   "metadata": {},
   "outputs": [
    {
     "data": {
      "image/png": "[encoded data removed]",
      "text/plain": [
       "<Figure size 432x288 with 1 Axes>"
      ]
     },
     "metadata": {
      "needs_background": "light"
     },
     "output_type": "display_data"
    }
   ],
   "source": [
    "field = \"Hypertension\"\n",
    "cats = [\"No Hypertension\",\"With Hypertension\"]\n",
    "no_show_per_age = data_all_num[data_all_num.delay>2].groupby([field,\"SMS_received\"])[\"No_show\"].value_counts().unstack().fillna(0)\n",
    "no_show_per_age[\"total\"] = no_show_per_age.Yes+no_show_per_age.No\n",
    "no_show_per_age[\"percent\"] = no_show_per_age.Yes / (no_show_per_age.total)\n",
    "no_show_per_age = no_show_per_age.reset_index()\n",
    "ax = sns.barplot(x=field, y=\"percent\"\n",
    "                 , hue=\"SMS_received\"\n",
    "                 ,data=no_show_per_age)\n",
    "plt.xticks(rotation=25,verticalalignment=\"top\",horizontalalignment=\"right\");\n",
    "plt.title(\"No Show rate for appointments scheduled more than 2 days in advance by Age groups with SMS effect\");\n",
    "handles, labels = ax.get_legend_handles_labels();\n",
    "ax.legend(handles,[\"No\",\"Yes\"] ,title=\"SMS submitted\",loc='upper right');\n",
    "ax.set_xticklabels(cats);\n",
    "ax.set_xlabel(\"Age groups (years)\")\n",
    "ax.set_ylabel(\"Percentage No Show\")\n",
    "plt.gca().yaxis.set_major_formatter(PercentFormatter(xmax=1,decimals=0))"
   ]
  },
  {
   "cell_type": "code",
   "execution_count": 48,
   "metadata": {},
   "outputs": [
    {
     "data": {
      "image/png": "[encoded data removed]",
      "text/plain": [
       "<Figure size 432x288 with 1 Axes>"
      ]
     },
     "metadata": {
      "needs_background": "light"
     },
     "output_type": "display_data"
    }
   ],
   "source": [
    "field = \"Scholarship\"\n",
    "cats = [\"No scholarship\",\"With scholarship\"]\n",
    "no_show_per_age = data_all_num[data_all_num.delay>2].groupby([field,\"SMS_received\"])[\"No_show\"].value_counts().unstack().fillna(0)\n",
    "no_show_per_age[\"total\"] = no_show_per_age.Yes+no_show_per_age.No\n",
    "no_show_per_age[\"percent\"] = no_show_per_age.Yes / (no_show_per_age.total)\n",
    "no_show_per_age = no_show_per_age.reset_index()\n",
    "ax = sns.barplot(x=field, y=\"percent\"\n",
    "                 , hue=\"SMS_received\"\n",
    "                 ,data=no_show_per_age)\n",
    "plt.xticks(rotation=25,verticalalignment=\"top\",horizontalalignment=\"right\");\n",
    "plt.title(\"No Show rate for appointments scheduled more than 2 days in advance by Age groups with SMS effect\");\n",
    "handles, labels = ax.get_legend_handles_labels();\n",
    "ax.legend(handles,[\"No\",\"Yes\"] ,title=\"SMS submitted\",loc='upper right');\n",
    "ax.set_xticklabels(cats);\n",
    "ax.set_xlabel(\"Age groups (years)\")\n",
    "ax.set_ylabel(\"Percentage No Show\")\n",
    "plt.gca().yaxis.set_major_formatter(PercentFormatter(xmax=1,decimals=0))"
   ]
  },
  {
   "cell_type": "markdown",
   "metadata": {},
   "source": [
    "The assumption is that sending a SMS will help reduce the no-show rate.\n",
    "\n",
    "To confirm that we will make an experiment by sending a SMS to part of the patient.\n",
    "\n",
    "We will make a few assumptions:\n",
    "- the existence of the dataset seems to assume a central booking system exists.\n",
    "\n",
    "We want to roll out the system in a gradual fashion. As the SMS before the patient goes to the appointment, we can send the SMS to some patients and not to others.\n",
    "\n",
    "We suggest sending out an SMS reminder, gradually :\n",
    "- Small number number of patient, randomly selected at 10%\n",
    "- Next step would be at 50%\n",
    "- Final steap at 100%.\n",
    "\n",
    "For 10%, we will less than 500 appointment in the test sample per week.\n",
    "\n",
    "We should get enough sample size in 4 week.\n",
    "\n",
    "Once the sample size is big enough the test can be confirm.\n",
    "\n"
   ]
  },
  {
   "cell_type": "markdown",
   "metadata": {},
   "source": [
    "Let's confirm how the test result would look like with actual data."
   ]
  },
  {
   "cell_type": "code",
   "execution_count": 50,
   "metadata": {},
   "outputs": [],
   "source": [
    "with_delay = data_all_num.delay > 2\n",
    "reference_population = data_all_num[with_delay]\n",
    "ref_neigh = reference_population.Neighbourhood.value_counts()\n",
    "neighbourhoods = ref_neigh[ref_neigh>300].index\n"
   ]
  },
  {
   "cell_type": "code",
   "execution_count": 77,
   "metadata": {},
   "outputs": [
    {
     "name": "stderr",
     "output_type": "stream",
     "text": [
      "/Users/severinhatt/Virtualenvs/thinkful/base_plotting/lib/python3.7/site-packages/scipy/stats/stats.py:1713: FutureWarning: Using a non-tuple sequence for multidimensional indexing is deprecated; use `arr[tuple(seq)]` instead of `arr[seq]`. In the future this will be interpreted as an array index, `arr[np.array(seq)]`, which will result either in an error or a different result.\n",
      "  return np.add.reduce(sorted[indexer] * weights, axis=axis) / sumval\n"
     ]
    },
    {
     "data": {
      "text/plain": [
       "Text(0.5,1,'Per week, 10% of appointments booked in advance.')"
      ]
     },
     "execution_count": 77,
     "metadata": {},
     "output_type": "execute_result"
    },
    {
     "data": {
      "image/png": "[encoded data removed]",
      "text/plain": [
       "<Figure size 432x288 with 1 Axes>"
      ]
     },
     "metadata": {
      "needs_background": "light"
     },
     "output_type": "display_data"
    }
   ],
   "source": [
    "test_population = reference_population.sample(reference_population.shape[0]//10)\n",
    "ax = sns.pointplot(x=\"week\",y=\"no_show_Yes\", data=test_population,estimator=sum)\n",
    "ax.set_title(\"Per week, 10% of appointments booked in advance.\")\n"
   ]
  },
  {
   "cell_type": "markdown",
   "metadata": {},
   "source": [
    "As the SMS have been send to about half the appointments in the dataset, we can see the results of sending the SMS to 10% of the population by sampling 20% of the appointements (dividing by 5)."
   ]
  },
  {
   "cell_type": "code",
   "execution_count": 85,
   "metadata": {},
   "outputs": [
    {
     "name": "stderr",
     "output_type": "stream",
     "text": [
      "/Users/severinhatt/Virtualenvs/thinkful/base_plotting/lib/python3.7/site-packages/scipy/stats/stats.py:1713: FutureWarning: Using a non-tuple sequence for multidimensional indexing is deprecated; use `arr[tuple(seq)]` instead of `arr[seq]`. In the future this will be interpreted as an array index, `arr[np.array(seq)]`, which will result either in an error or a different result.\n",
      "  return np.add.reduce(sorted[indexer] * weights, axis=axis) / sumval\n",
      "No handles with labels found to put in legend.\n"
     ]
    },
    {
     "data": {
      "text/plain": [
       "<matplotlib.legend.Legend at 0x10a59a358>"
      ]
     },
     "execution_count": 85,
     "metadata": {},
     "output_type": "execute_result"
    },
    {
     "data": {
      "image/png": "[encoded data removed]",
      "text/plain": [
       "<Figure size 432x288 with 1 Axes>"
      ]
     },
     "metadata": {
      "needs_background": "light"
     },
     "output_type": "display_data"
    }
   ],
   "source": [
    "test_population = reference_population.sample(reference_population.shape[0]//5)\n",
    "ax = sns.pointplot(x=\"week\",y=\"no_show_Yes\", data=test_population[test_population.SMS_received==1],label=\"No show rate with SMS (test only)\")\n",
    "sns.pointplot(x=\"week\",y=\"no_show_Yes\",color=\"red\", data=reference_population[reference_population.SMS_received==0], label=\"No show rate without SMS\")\n",
    "ax.set_title(\"Per Week, potential difference in no-show rate.\")\n"
   ]
  },
  {
   "cell_type": "markdown",
   "metadata": {},
   "source": [
    "In the case there are constraints that only allow us to send the SMS to all the patient in a particular neighbourhood, we want to select neighbourhood that are representative of all the neighbourhoods.\n",
    "\n",
    "Create the list of neighbourhood, calculating the p-value with the reference appointment Age distribution (that is the most prevalent parameter), but also **delay**.\n",
    "\n",
    "We will also check the population is the big enough to justify for the investment of doing the implementation.\n",
    "\n",
    "To limit the number of calculations, we will limit it to the neighbourhods that have more than 300 appointments.\n",
    "\n",
    "By selecting a sub-group of 5 neightbourghs, we can then add the p-values and rank according to this sum, with a total population that is larger than 5000 for a period of 7, meaning we will reach a \n",
    "\n",
    "By selecting the neighbourhood RESISTÊNCIA, JARDIM DA PENHA, GURIGICA, NOVA PALESTINA, FONTE GRANDE, we get a p_value that is greater than 80% for each feature."
   ]
  },
  {
   "cell_type": "code",
   "execution_count": 102,
   "metadata": {},
   "outputs": [],
   "source": [
    "find_list = list()\n",
    "\n",
    "\n",
    "list_n = data_all_num.Neighbourhood.unique()\n",
    "for n in combinations(neighbourhoods, 5):\n",
    "    mine = data_all_num.Neighbourhood.isin(n)\n",
    "    t_test_delay = ttest_ind(data_all_num[mine&with_delay].delay,reference_population.delay)\n",
    "    t_test_age = ttest_ind(data_all_num[mine&with_delay].Age,reference_population.Age)\n",
    "    population = sum(mine&with_delay)\n",
    "    find_list.append((population,t_test_delay[1],t_test_age[1],n))"
   ]
  },
  {
   "cell_type": "markdown",
   "metadata": {},
   "source": [
    "There are 12 Neighbourhood left "
   ]
  },
  {
   "cell_type": "code",
   "execution_count": 103,
   "metadata": {},
   "outputs": [],
   "source": [
    "results = pd.DataFrame.from_records(find_list,columns=[\"Nb\",\"Delay_p_value\",\"Age_p_value\",\"Neighbourhood\"]).sort_values(\"Nb\",ascending=False)"
   ]
  },
  {
   "cell_type": "code",
   "execution_count": 104,
   "metadata": {},
   "outputs": [],
   "source": [
    "results[\"rating\"]=results.Age_p_value+results.Delay_p_value"
   ]
  },
  {
   "cell_type": "code",
   "execution_count": 105,
   "metadata": {},
   "outputs": [
    {
     "data": {
      "text/html": [
       "<div>\n",
       "<style scoped>\n",
       "    .dataframe tbody tr th:only-of-type {\n",
       "        vertical-align: middle;\n",
       "    }\n",
       "\n",
       "    .dataframe tbody tr th {\n",
       "        vertical-align: top;\n",
       "    }\n",
       "\n",
       "    .dataframe thead th {\n",
       "        text-align: right;\n",
       "    }\n",
       "</style>\n",
       "<table border=\"1\" class=\"dataframe\">\n",
       "  <thead>\n",
       "    <tr style=\"text-align: right;\">\n",
       "      <th></th>\n",
       "      <th>Nb</th>\n",
       "      <th>Delay_p_value</th>\n",
       "      <th>Age_p_value</th>\n",
       "      <th>Neighbourhood</th>\n",
       "      <th>rating</th>\n",
       "    </tr>\n",
       "  </thead>\n",
       "  <tbody>\n",
       "    <tr>\n",
       "      <th>1455281</th>\n",
       "      <td>4779</td>\n",
       "      <td>0.996305</td>\n",
       "      <td>0.998768</td>\n",
       "      <td>(JABOUR, ROMÃO, BELA VISTA, JOANA D´ARC, PRAIA...</td>\n",
       "      <td>1.995073</td>\n",
       "    </tr>\n",
       "    <tr>\n",
       "      <th>2114958</th>\n",
       "      <td>3955</td>\n",
       "      <td>0.999140</td>\n",
       "      <td>0.992129</td>\n",
       "      <td>(SÃO JOSÉ, MARUÍPE, SANTA TEREZA, CONSOLAÇÃO, ...</td>\n",
       "      <td>1.991269</td>\n",
       "    </tr>\n",
       "    <tr>\n",
       "      <th>1565419</th>\n",
       "      <td>4589</td>\n",
       "      <td>0.999341</td>\n",
       "      <td>0.990965</td>\n",
       "      <td>(BONFIM, MARUÍPE, GURIGICA, SANTOS DUMONT, REP...</td>\n",
       "      <td>1.990306</td>\n",
       "    </tr>\n",
       "    <tr>\n",
       "      <th>1559144</th>\n",
       "      <td>4640</td>\n",
       "      <td>0.998227</td>\n",
       "      <td>0.991080</td>\n",
       "      <td>(BONFIM, SÃO JOSÉ, MARUÍPE, MONTE BELO, DO QUA...</td>\n",
       "      <td>1.989308</td>\n",
       "    </tr>\n",
       "    <tr>\n",
       "      <th>2180754</th>\n",
       "      <td>3909</td>\n",
       "      <td>0.993814</td>\n",
       "      <td>0.995245</td>\n",
       "      <td>(ILHA DE SANTA MARIA, SÃO CRISTÓVÃO, BELA VIST...</td>\n",
       "      <td>1.989059</td>\n",
       "    </tr>\n",
       "  </tbody>\n",
       "</table>\n",
       "</div>"
      ],
      "text/plain": [
       "           Nb  Delay_p_value  Age_p_value  \\\n",
       "1455281  4779       0.996305     0.998768   \n",
       "2114958  3955       0.999140     0.992129   \n",
       "1565419  4589       0.999341     0.990965   \n",
       "1559144  4640       0.998227     0.991080   \n",
       "2180754  3909       0.993814     0.995245   \n",
       "\n",
       "                                             Neighbourhood    rating  \n",
       "1455281  (JABOUR, ROMÃO, BELA VISTA, JOANA D´ARC, PRAIA...  1.995073  \n",
       "2114958  (SÃO JOSÉ, MARUÍPE, SANTA TEREZA, CONSOLAÇÃO, ...  1.991269  \n",
       "1565419  (BONFIM, MARUÍPE, GURIGICA, SANTOS DUMONT, REP...  1.990306  \n",
       "1559144  (BONFIM, SÃO JOSÉ, MARUÍPE, MONTE BELO, DO QUA...  1.989308  \n",
       "2180754  (ILHA DE SANTA MARIA, SÃO CRISTÓVÃO, BELA VIST...  1.989059  "
      ]
     },
     "execution_count": 105,
     "metadata": {},
     "output_type": "execute_result"
    }
   ],
   "source": [
    "results.sort_values(\"rating\",ascending=False)[:5]"
   ]
  },
  {
   "cell_type": "code",
   "execution_count": 94,
   "metadata": {},
   "outputs": [],
   "source": [
    "select_n = ['RESISTÊNCIA',\n",
    "  'JARDIM DA PENHA',\n",
    "  'GURIGICA',\n",
    "  'NOVA PALESTINA',\n",
    "  'FONTE GRANDE']\n",
    "population = data_all_num[with_delay&(data_all_num.Neighbourhood.isin(select_n))]"
   ]
  },
  {
   "cell_type": "code",
   "execution_count": 95,
   "metadata": {},
   "outputs": [
    {
     "data": {
      "image/png": "[encoded data removed]",
      "text/plain": [
       "<Figure size 432x288 with 1 Axes>"
      ]
     },
     "metadata": {
      "needs_background": "light"
     },
     "output_type": "display_data"
    }
   ],
   "source": [
    "_, bins, _ = plt.hist(population.Age,alpha=0.3,density=True,label=\"Ages for target\")\n",
    "plt.hist(data_all_num[with_delay].Age,alpha=0.3,density=True,bins=bins,label=\"Ages in the dataset\")\n",
    "plt.legend()\n",
    "plt.gca().yaxis.set_major_formatter(PercentFormatter(xmax=1))\n"
   ]
  },
  {
   "cell_type": "code",
   "execution_count": 96,
   "metadata": {},
   "outputs": [
    {
     "data": {
      "image/png": "[encoded data removed]",
      "text/plain": [
       "<Figure size 432x288 with 1 Axes>"
      ]
     },
     "metadata": {
      "needs_background": "light"
     },
     "output_type": "display_data"
    }
   ],
   "source": [
    "_, bins, _ = plt.hist(population.delay,alpha=0.3,density=True,label=\"Delay for target\")\n",
    "plt.hist(data_all_num[with_delay].delay,alpha=0.3,bins=bins,density=True,label=\"Delay in the dataset\")\n",
    "plt.legend()\n",
    "plt.gca().yaxis.set_major_formatter(PercentFormatter(xmax=1))\n"
   ]
  },
  {
   "cell_type": "code",
   "execution_count": 92,
   "metadata": {},
   "outputs": [
    {
     "name": "stderr",
     "output_type": "stream",
     "text": [
      "/Users/severinhatt/Virtualenvs/thinkful/base_plotting/lib/python3.7/site-packages/scipy/stats/stats.py:1713: FutureWarning: Using a non-tuple sequence for multidimensional indexing is deprecated; use `arr[tuple(seq)]` instead of `arr[seq]`. In the future this will be interpreted as an array index, `arr[np.array(seq)]`, which will result either in an error or a different result.\n",
      "  return np.add.reduce(sorted[indexer] * weights, axis=axis) / sumval\n"
     ]
    },
    {
     "data": {
      "image/png": "[encoded data removed]",
      "text/plain": [
       "<Figure size 432x288 with 1 Axes>"
      ]
     },
     "metadata": {
      "needs_background": "light"
     },
     "output_type": "display_data"
    }
   ],
   "source": [
    "ax = sns.pointplot(x=\"week\", y=\"no_show_Yes\", hue=\"SMS_received\", data=reference_population[reference_population.Neighbourhood.isin(select_n)&reference_population.SMS_received==1])\n",
    "sns.pointplot(x=\"week\", y=\"no_show_Yes\", color=\"red\", data=reference_population[reference_population.SMS_received==0])\n",
    "ax.set_title(\"No show rate comparing neighbourhood in test area and all neighbourhood\");\n",
    "handles, labels = ax.get_legend_handles_labels();\n",
    "#ax.legend(handles, [\"No\",\"Yes\"],title=\"SMS submitted\",loc='upper left');\n",
    "#ax.set_xticklabels(lag_cat_labels);\n",
    "#ax.set_xlabel(\"Delay between scheduling and the appointment (days)\")\n",
    "ax.set_ylabel(\"Percentage No Show\")\n",
    "plt.gca().yaxis.set_major_formatter(PercentFormatter(xmax=1,decimals=0))\n"
   ]
  },
  {
   "cell_type": "code",
   "execution_count": null,
   "metadata": {},
   "outputs": [],
   "source": []
  }
 ],
 "metadata": {
  "kernelspec": {
   "display_name": "Python 3",
   "language": "python",
   "name": "python3"
  },
  "language_info": {
   "codemirror_mode": {
    "name": "ipython",
    "version": 3
   },
   "file_extension": ".py",
   "mimetype": "text/x-python",
   "name": "python",
   "nbconvert_exporter": "python",
   "pygments_lexer": "ipython3",
   "version": "3.7.0"
  }
 },
 "nbformat": 4,
 "nbformat_minor": 2
}
