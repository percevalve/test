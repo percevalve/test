{
 "cells": [
  {
   "cell_type": "code",
   "execution_count": 1,
   "metadata": {},
   "outputs": [],
   "source": [
    "import pandas as pd\n",
    "import numpy as np\n",
    "import seaborn as sns\n",
    "import matplotlib.pyplot as plt\n",
    "import matplotlib.patches as mpatches\n",
    "%matplotlib inline"
   ]
  },
  {
   "cell_type": "code",
   "execution_count": 2,
   "metadata": {},
   "outputs": [
    {
     "data": {
      "text/plain": [
       "'0.23.4'"
      ]
     },
     "execution_count": 2,
     "metadata": {},
     "output_type": "execute_result"
    }
   ],
   "source": [
    "pd.__version__"
   ]
  },
  {
   "cell_type": "code",
   "execution_count": 3,
   "metadata": {},
   "outputs": [],
   "source": [
    "#from https://www.kaggle.com/blastchar/telco-customer-churn\n",
    "#but apparently from https://www.ibm.com/communities/analytics/watson-analytics-blog/guide-to-sample-datasets/\n",
    "data = pd.read_csv(\"WA_Fn-UseC_-Telco-Customer-Churn.csv\")"
   ]
  },
  {
   "cell_type": "markdown",
   "metadata": {},
   "source": [
    "# Intro\n",
    "This is a popular dataset from Kaggle, but originally from IBM Watson.\n",
    "From the Kaggle description\n",
    "> Each row represents a customer, each column contains customer’s attributes described on the column Metadata.\n",
    "> The raw data contains 7043 rows (customers) and 21 columns (features).\n",
    "\n",
    "The dataset being American, the currency will be assumed to be US Dollars (USD)"
   ]
  },
  {
   "cell_type": "code",
   "execution_count": 4,
   "metadata": {},
   "outputs": [
    {
     "name": "stdout",
     "output_type": "stream",
     "text": [
      "<class 'pandas.core.frame.DataFrame'>\n",
      "RangeIndex: 7043 entries, 0 to 7042\n",
      "Data columns (total 21 columns):\n",
      "customerID          7043 non-null object\n",
      "gender              7043 non-null object\n",
      "SeniorCitizen       7043 non-null int64\n",
      "Partner             7043 non-null object\n",
      "Dependents          7043 non-null object\n",
      "tenure              7043 non-null int64\n",
      "PhoneService        7043 non-null object\n",
      "MultipleLines       7043 non-null object\n",
      "InternetService     7043 non-null object\n",
      "OnlineSecurity      7043 non-null object\n",
      "OnlineBackup        7043 non-null object\n",
      "DeviceProtection    7043 non-null object\n",
      "TechSupport         7043 non-null object\n",
      "StreamingTV         7043 non-null object\n",
      "StreamingMovies     7043 non-null object\n",
      "Contract            7043 non-null object\n",
      "PaperlessBilling    7043 non-null object\n",
      "PaymentMethod       7043 non-null object\n",
      "MonthlyCharges      7043 non-null float64\n",
      "TotalCharges        7043 non-null object\n",
      "Churn               7043 non-null object\n",
      "dtypes: float64(1), int64(2), object(18)\n",
      "memory usage: 1.1+ MB\n"
     ]
    }
   ],
   "source": [
    "data.info()"
   ]
  },
  {
   "cell_type": "markdown",
   "metadata": {},
   "source": [
    "# Data loading\n",
    "Data loaded without issues, confirmed 7043 rows, the label being the last one \"Churn\""
   ]
  },
  {
   "cell_type": "code",
   "execution_count": 5,
   "metadata": {},
   "outputs": [
    {
     "name": "stdout",
     "output_type": "stream",
     "text": [
      "customerID ['7590-VHVEG' '5575-GNVDE' '3668-QPYBK' ... '4801-JZAZL' '8361-LTMKD'\n",
      " '3186-AJIEK']\n",
      "gender ['Female' 'Male']\n",
      "SeniorCitizen [0 1]\n",
      "Partner ['Yes' 'No']\n",
      "Dependents ['No' 'Yes']\n",
      "tenure [ 1 34  2 45  8 22 10 28 62 13 16 58 49 25 69 52 71 21 12 30 47 72 17 27\n",
      "  5 46 11 70 63 43 15 60 18 66  9  3 31 50 64 56  7 42 35 48 29 65 38 68\n",
      " 32 55 37 36 41  6  4 33 67 23 57 61 14 20 53 40 59 24 44 19 54 51 26  0\n",
      " 39]\n",
      "PhoneService ['No' 'Yes']\n",
      "MultipleLines ['No phone service' 'No' 'Yes']\n",
      "InternetService ['DSL' 'Fiber optic' 'No']\n",
      "OnlineSecurity ['No' 'Yes' 'No internet service']\n",
      "OnlineBackup ['Yes' 'No' 'No internet service']\n",
      "DeviceProtection ['No' 'Yes' 'No internet service']\n",
      "TechSupport ['No' 'Yes' 'No internet service']\n",
      "StreamingTV ['No' 'Yes' 'No internet service']\n",
      "StreamingMovies ['No' 'Yes' 'No internet service']\n",
      "Contract ['Month-to-month' 'One year' 'Two year']\n",
      "PaperlessBilling ['Yes' 'No']\n",
      "PaymentMethod ['Electronic check' 'Mailed check' 'Bank transfer (automatic)'\n",
      " 'Credit card (automatic)']\n",
      "MonthlyCharges [29.85 56.95 53.85 ... 63.1  44.2  78.7 ]\n",
      "TotalCharges ['29.85' '1889.5' '108.15' ... '346.45' '306.6' '6844.5']\n",
      "Churn ['No' 'Yes']\n"
     ]
    }
   ],
   "source": [
    "for column in data.columns:\n",
    "    print(column,data[column].unique())"
   ]
  },
  {
   "cell_type": "markdown",
   "metadata": {},
   "source": [
    "# Parameters\n",
    "Looking at the different values, majority seem to be categorical values, with 3 numerical values : tenure, MonthCharges and Total Charges.\n",
    "Total charges seem to be incorrectly loaded as on object probably due to soe missing values.\n",
    "From Kaggle:\n",
    "* TotalCharges:\n",
    "> The total amount charged to the customer\n",
    "* MonthCharges:\n",
    "> The amount charged to the customer monthly\n",
    "* tenure:\n",
    "> Number of months the customer has stayed with the company"
   ]
  },
  {
   "cell_type": "code",
   "execution_count": 6,
   "metadata": {},
   "outputs": [],
   "source": [
    "#TotalCharges should be a number\n",
    "data.TotalCharges = pd.to_numeric(data.TotalCharges,errors=\"coerce\")"
   ]
  },
  {
   "cell_type": "code",
   "execution_count": 7,
   "metadata": {},
   "outputs": [
    {
     "data": {
      "text/plain": [
       "True"
      ]
     },
     "execution_count": 7,
     "metadata": {},
     "output_type": "execute_result"
    }
   ],
   "source": [
    "#Nan for Total Charges is when the tenure is 0, \n",
    "pd.np.alltrue(data.TotalCharges.isna() == (data.tenure == 0))"
   ]
  },
  {
   "cell_type": "code",
   "execution_count": 8,
   "metadata": {},
   "outputs": [],
   "source": [
    "#Replace Nan by 0\n",
    "data.TotalCharges = data.TotalCharges.fillna(0)"
   ]
  },
  {
   "cell_type": "markdown",
   "metadata": {},
   "source": [
    "# Total Charges to Numeric values\n",
    "Changing the parameters to TotalCharges, there appear there are 10 missing values, all how which appear in the case the tenure is O.\n",
    "Maybe this is the case were the customer just started a contract (all Churn are \"No\").\n",
    "In practice this is only 10 out of 7043 rows, so we can simply replace NaN by 0."
   ]
  },
  {
   "cell_type": "code",
   "execution_count": 9,
   "metadata": {},
   "outputs": [
    {
     "data": {
      "text/html": [
       "<div>\n",
       "<style scoped>\n",
       "    .dataframe tbody tr th:only-of-type {\n",
       "        vertical-align: middle;\n",
       "    }\n",
       "\n",
       "    .dataframe tbody tr th {\n",
       "        vertical-align: top;\n",
       "    }\n",
       "\n",
       "    .dataframe thead th {\n",
       "        text-align: right;\n",
       "    }\n",
       "</style>\n",
       "<table border=\"1\" class=\"dataframe\">\n",
       "  <thead>\n",
       "    <tr style=\"text-align: right;\">\n",
       "      <th></th>\n",
       "      <th>SeniorCitizen</th>\n",
       "      <th>tenure</th>\n",
       "      <th>MonthlyCharges</th>\n",
       "      <th>TotalCharges</th>\n",
       "    </tr>\n",
       "  </thead>\n",
       "  <tbody>\n",
       "    <tr>\n",
       "      <th>count</th>\n",
       "      <td>7043.000000</td>\n",
       "      <td>7043.000000</td>\n",
       "      <td>7043.000000</td>\n",
       "      <td>7043.000000</td>\n",
       "    </tr>\n",
       "    <tr>\n",
       "      <th>mean</th>\n",
       "      <td>0.162147</td>\n",
       "      <td>32.371149</td>\n",
       "      <td>64.761692</td>\n",
       "      <td>2279.734304</td>\n",
       "    </tr>\n",
       "    <tr>\n",
       "      <th>std</th>\n",
       "      <td>0.368612</td>\n",
       "      <td>24.559481</td>\n",
       "      <td>30.090047</td>\n",
       "      <td>2266.794470</td>\n",
       "    </tr>\n",
       "    <tr>\n",
       "      <th>min</th>\n",
       "      <td>0.000000</td>\n",
       "      <td>0.000000</td>\n",
       "      <td>18.250000</td>\n",
       "      <td>0.000000</td>\n",
       "    </tr>\n",
       "    <tr>\n",
       "      <th>25%</th>\n",
       "      <td>0.000000</td>\n",
       "      <td>9.000000</td>\n",
       "      <td>35.500000</td>\n",
       "      <td>398.550000</td>\n",
       "    </tr>\n",
       "    <tr>\n",
       "      <th>50%</th>\n",
       "      <td>0.000000</td>\n",
       "      <td>29.000000</td>\n",
       "      <td>70.350000</td>\n",
       "      <td>1394.550000</td>\n",
       "    </tr>\n",
       "    <tr>\n",
       "      <th>75%</th>\n",
       "      <td>0.000000</td>\n",
       "      <td>55.000000</td>\n",
       "      <td>89.850000</td>\n",
       "      <td>3786.600000</td>\n",
       "    </tr>\n",
       "    <tr>\n",
       "      <th>max</th>\n",
       "      <td>1.000000</td>\n",
       "      <td>72.000000</td>\n",
       "      <td>118.750000</td>\n",
       "      <td>8684.800000</td>\n",
       "    </tr>\n",
       "  </tbody>\n",
       "</table>\n",
       "</div>"
      ],
      "text/plain": [
       "       SeniorCitizen       tenure  MonthlyCharges  TotalCharges\n",
       "count    7043.000000  7043.000000     7043.000000   7043.000000\n",
       "mean        0.162147    32.371149       64.761692   2279.734304\n",
       "std         0.368612    24.559481       30.090047   2266.794470\n",
       "min         0.000000     0.000000       18.250000      0.000000\n",
       "25%         0.000000     9.000000       35.500000    398.550000\n",
       "50%         0.000000    29.000000       70.350000   1394.550000\n",
       "75%         0.000000    55.000000       89.850000   3786.600000\n",
       "max         1.000000    72.000000      118.750000   8684.800000"
      ]
     },
     "execution_count": 9,
     "metadata": {},
     "output_type": "execute_result"
    }
   ],
   "source": [
    "data.describe()"
   ]
  },
  {
   "cell_type": "markdown",
   "metadata": {},
   "source": [
    "#Numeric parameters.\n",
    "Apart from the 10 TotalCharges replaced by 0, there is no missing values in the 3 numerical values."
   ]
  },
  {
   "cell_type": "code",
   "execution_count": 10,
   "metadata": {},
   "outputs": [
    {
     "data": {
      "image/png": "[encoded data removed]",
      "text/plain": [
       "<Figure size 720x1080 with 3 Axes>"
      ]
     },
     "metadata": {
      "needs_background": "light"
     },
     "output_type": "display_data"
    }
   ],
   "source": [
    "plt.figure(figsize=(10, 15))\n",
    "plt.subplot(3, 1, 1)\n",
    "plt.hist(data.TotalCharges,color='royalblue')\n",
    "plt.title('Total Charges',loc='center')\n",
    "plt.ylabel('Nb of Customers')\n",
    "plt.xlabel('Total Charges (USD)')\n",
    "\n",
    "plt.subplot(3, 1, 2)\n",
    "plt.hist(data.MonthlyCharges,color='darkcyan')\n",
    "plt.title('Monthly Charges')\n",
    "plt.ylabel('Nb of Customers')\n",
    "plt.xlabel('Monthlt rates (USD)')\n",
    "\n",
    "\n",
    "plt.subplot(3, 1, 3)\n",
    "plt.hist(data.tenure,color=\"coral\")\n",
    "plt.title('Tenure')\n",
    "plt.ylabel('Nb of Customers')\n",
    "plt.xlabel('Tenure (Month)')\n",
    "\n",
    "plt.show()"
   ]
  },
  {
   "cell_type": "markdown",
   "metadata": {},
   "source": [
    "# Numeric parameters histograms\n",
    "## TotalCharges\n",
    "The Total Charges does not have any surprises, we could expect the number going down.\n",
    "Both Total Charges and Monthly Rates have a very high value near zeros, so it would be wroth to make sure that it is indeed representing of high number of low values and not something else, like null values or Freemium customers.\n",
    "## Tenure\n",
    "Overall the shape of the tenure is representative of a continuous customer onboarding, the longer the tenure the smaller the population, with a significant drop early in the tenure.\n",
    "\n",
    "The shape of the tenure is surpring, with a peak at 72 Months exactely. It might be worth looking at the particular case of the people at 72 months to make sure they are not a special case in comparaison with the others. In particular they could truncate, the 72 in fact meaning \"72 and more\" from example.\n",
    "\n",
    "This could also be explainable if we are only looking at the previous 72 Months of data, or if there was a very large quantity of people that became customers 72 months ago.\n",
    "\n",
    "There is an unusual shape for the Monthly rate, the lowest number of customer between 30USD/Month to 50USD/Month and a peak around 80USD/Month."
   ]
  },
  {
   "cell_type": "code",
   "execution_count": 11,
   "metadata": {},
   "outputs": [
    {
     "data": {
      "image/png": "[encoded data removed]",
      "text/plain": [
       "<Figure size 720x720 with 2 Axes>"
      ]
     },
     "metadata": {
      "needs_background": "light"
     },
     "output_type": "display_data"
    }
   ],
   "source": [
    "# Making sure the low values do not hide some bizarre value for Monthly Charges\n",
    "plt.figure(figsize=(10, 10))\n",
    "plt.subplot(2, 1, 1)\n",
    "plt.hist(data[data.TotalCharges<200].TotalCharges,bins=70,color='royalblue') \n",
    "plt.title('Total Charges details at low values')\n",
    "plt.ylabel('Nb of Customers')\n",
    "plt.xlabel('Total Charges (USD)')\n",
    "\n",
    "plt.subplot(2, 1, 2)\n",
    "plt.hist(data[data.MonthlyCharges<30].MonthlyCharges,bins=70,color='darkcyan')\n",
    "plt.title('Monthly Charges details at low values')\n",
    "plt.ylabel('Nb of Customers')\n",
    "plt.xlabel('Monthly rates (USD)')\n",
    "plt.show()"
   ]
  },
  {
   "cell_type": "markdown",
   "metadata": {},
   "source": [
    "# Total Charges and Monthly Rates small values\n",
    "Nothing surprising here, there is indeed a signficant of low values, with a peak for Monthle Charges around $20/Month and a Total charges just above $20 for Total charges.\n",
    "The concern could have been around having a very large \"no charge\" or Free population that would have a very different behavior from the rest of the population."
   ]
  },
  {
   "cell_type": "code",
   "execution_count": 12,
   "metadata": {},
   "outputs": [
    {
     "data": {
      "image/png": "[encoded data removed]",
      "text/plain": [
       "<Figure size 432x288 with 1 Axes>"
      ]
     },
     "metadata": {
      "needs_background": "light"
     },
     "output_type": "display_data"
    }
   ],
   "source": [
    "#The \"peak\" at 72 for tenure seems to look like a truncation of the tenure, would need to investigate.\n",
    "plt.hist(data[data.tenure > 60].tenure,color=\"coral\") \n",
    "plt.show()"
   ]
  },
  {
   "cell_type": "code",
   "execution_count": 13,
   "metadata": {},
   "outputs": [
    {
     "data": {
      "image/png": "[encoded data removed]",
      "text/plain": [
       "<Figure size 360x1080 with 3 Axes>"
      ]
     },
     "metadata": {
      "needs_background": "light"
     },
     "output_type": "display_data"
    }
   ],
   "source": [
    "#No there is indeed a lot of people with a tenure of 72, \n",
    "#or this is the reference point for the data from 72 months ago.\n",
    "#Even at 72 month tenure Total Charges are coherent with Monthly Charges\n",
    "#When the model is sensitive to multicollinearity, like regression, we would need to exclude Total Charges.\n",
    "\n",
    "min_tenure,max_tenure, tenure_step = 10,70,30\n",
    "n_plot = (max_tenure-min_tenure)//tenure_step + 1\n",
    "plt.figure(figsize=(5, 5*n_plot))\n",
    "for (i,tenure) in enumerate(range(min_tenure,max_tenure,tenure_step)):\n",
    "    this_tenure = data[data.tenure == tenure]\n",
    "    plt.subplot(n_plot, 1, (i+1))\n",
    "    plt.scatter(this_tenure.MonthlyCharges,this_tenure.TotalCharges)\n",
    "    plt.title('Total Charges and Monthly Charges for  %s months tenure '%tenure)\n",
    "    plt.ylabel('Total Charges ($)')\n",
    "    plt.xlabel('Monthly Charges ($/Month)')\n",
    "\n",
    "    \n",
    "plt.subplot(n_plot, 1, n_plot)\n",
    "tenure_72 = data[data.tenure == 72]\n",
    "plt.scatter(tenure_72.MonthlyCharges,tenure_72.TotalCharges)\n",
    "plt.title('Total Charges and Monthly Charge only for 72 Months tenure')\n",
    "\n",
    "plt.show()"
   ]
  },
  {
   "cell_type": "markdown",
   "metadata": {},
   "source": [
    "# 72 Months tenure\n",
    "There is a large population at 72 Months.\n",
    "\n",
    "For 3 different tenures, including the 72 Months one, we see the same relationship between Total Charges and Monthly Charges.\n",
    "\n",
    "In case of a truncation of the tenure, we should have seem a Total Charges that was no longer proportionnal to Monthly Charges for the 72 Months tenure.\n",
    "\n",
    "Looking at the correlation below, we can also confirm there is a multicollinearity between tenure, Total Charges and Monthly Rates. We might need to drop the Total Charges if the model used can be sensitive to those.\n",
    "\n",
    "\n"
   ]
  },
  {
   "cell_type": "code",
   "execution_count": 14,
   "metadata": {},
   "outputs": [
    {
     "data": {
      "text/html": [
       "<div>\n",
       "<style scoped>\n",
       "    .dataframe tbody tr th:only-of-type {\n",
       "        vertical-align: middle;\n",
       "    }\n",
       "\n",
       "    .dataframe tbody tr th {\n",
       "        vertical-align: top;\n",
       "    }\n",
       "\n",
       "    .dataframe thead th {\n",
       "        text-align: right;\n",
       "    }\n",
       "</style>\n",
       "<table border=\"1\" class=\"dataframe\">\n",
       "  <thead>\n",
       "    <tr style=\"text-align: right;\">\n",
       "      <th></th>\n",
       "      <th>SeniorCitizen</th>\n",
       "      <th>tenure</th>\n",
       "      <th>MonthlyCharges</th>\n",
       "      <th>TotalCharges</th>\n",
       "    </tr>\n",
       "  </thead>\n",
       "  <tbody>\n",
       "    <tr>\n",
       "      <th>SeniorCitizen</th>\n",
       "      <td>1.000000</td>\n",
       "      <td>0.016567</td>\n",
       "      <td>0.220173</td>\n",
       "      <td>0.103006</td>\n",
       "    </tr>\n",
       "    <tr>\n",
       "      <th>tenure</th>\n",
       "      <td>0.016567</td>\n",
       "      <td>1.000000</td>\n",
       "      <td>0.247900</td>\n",
       "      <td>0.826178</td>\n",
       "    </tr>\n",
       "    <tr>\n",
       "      <th>MonthlyCharges</th>\n",
       "      <td>0.220173</td>\n",
       "      <td>0.247900</td>\n",
       "      <td>1.000000</td>\n",
       "      <td>0.651174</td>\n",
       "    </tr>\n",
       "    <tr>\n",
       "      <th>TotalCharges</th>\n",
       "      <td>0.103006</td>\n",
       "      <td>0.826178</td>\n",
       "      <td>0.651174</td>\n",
       "      <td>1.000000</td>\n",
       "    </tr>\n",
       "  </tbody>\n",
       "</table>\n",
       "</div>"
      ],
      "text/plain": [
       "                SeniorCitizen    tenure  MonthlyCharges  TotalCharges\n",
       "SeniorCitizen        1.000000  0.016567        0.220173      0.103006\n",
       "tenure               0.016567  1.000000        0.247900      0.826178\n",
       "MonthlyCharges       0.220173  0.247900        1.000000      0.651174\n",
       "TotalCharges         0.103006  0.826178        0.651174      1.000000"
      ]
     },
     "execution_count": 14,
     "metadata": {},
     "output_type": "execute_result"
    }
   ],
   "source": [
    "#Indeed Total Charges are correlated with Montly Charges and tenure\n",
    "data.corr()"
   ]
  },
  {
   "cell_type": "code",
   "execution_count": 15,
   "metadata": {},
   "outputs": [
    {
     "data": {
      "image/png": "[encoded data removed]",
      "text/plain": [
       "<Figure size 720x1080 with 3 Axes>"
      ]
     },
     "metadata": {
      "needs_background": "light"
     },
     "output_type": "display_data"
    }
   ],
   "source": [
    "#Plotting including churn, there seems to be a highest churn for low tenure high monthly charges\n",
    "plt.figure(figsize=(10, 15))\n",
    "plt.subplot(3, 1, 1)\n",
    "plt.hist([data[data.Churn==\"No\"].TotalCharges,[data[data.Churn==\"Yes\"].TotalCharges]],color=[\"royalblue\",\"lightblue\"],stacked=True) \n",
    "plt.title('Total Charges with Churn')\n",
    "plt.ylabel('Nb of Customers')\n",
    "plt.xlabel('Total charges (USD)')\n",
    "churn_yes = mpatches.Patch(color='lightblue', label='Churned Customer')\n",
    "churn_no = mpatches.Patch(color='royalblue', label='Remaining Customer')\n",
    "plt.legend(handles=[churn_yes,churn_no])\n",
    "plt.subplot(3, 1, 2)\n",
    "plt.hist([data[data.Churn==\"No\"].MonthlyCharges,[data[data.Churn==\"Yes\"].MonthlyCharges]],color=[\"darkcyan\",\"skyblue\"],stacked=True) \n",
    "plt.title('Monthly Charges with Churn')\n",
    "plt.ylabel('Nb of Customers')\n",
    "plt.xlabel('Monthly rates (USD)')\n",
    "churn_yes = mpatches.Patch(color='skyblue', label='Churned Customer')\n",
    "churn_no = mpatches.Patch(color='darkcyan', label='Remaining Customer')\n",
    "plt.legend(handles=[churn_yes,churn_no])\n",
    "\n",
    "plt.subplot(3, 1, 3)\n",
    "plt.hist([data[data.Churn==\"No\"].tenure,[data[data.Churn==\"Yes\"].tenure]],color=[\"coral\",\"navajowhite\"],stacked=True) \n",
    "plt.title('Tenure with Churn')\n",
    "plt.ylabel('Nb of Customers')\n",
    "plt.xlabel('Tenure (Months)')\n",
    "churn_yes = mpatches.Patch(color='navajowhite', label='Churned Customer')\n",
    "churn_no = mpatches.Patch(color='coral', label='Remaining Customer')\n",
    "plt.legend(handles=[churn_yes,churn_no])\n",
    "plt.show()\n",
    "\n",
    "plt.show()"
   ]
  },
  {
   "cell_type": "markdown",
   "metadata": {},
   "source": [
    "# Churn and the Numeric parameters\n",
    "Replotting the same histograms as previously, but this time including the Churn in a lighter color, we notice a higher churn for :\n",
    "    - Shorter tenures\n",
    "    - Higher Monthly rates"
   ]
  },
  {
   "cell_type": "markdown",
   "metadata": {},
   "source": [
    "# Looking at categorical values"
   ]
  },
  {
   "cell_type": "code",
   "execution_count": 97,
   "metadata": {},
   "outputs": [],
   "source": [
    "columns_to_categorize = list(data.select_dtypes(include='object').columns)\n",
    "columns_to_categorize.remove('customerID')\n",
    "data_all_num = data.drop(labels=['customerID'], axis=1).copy()"
   ]
  },
  {
   "cell_type": "code",
   "execution_count": 98,
   "metadata": {},
   "outputs": [
    {
     "name": "stdout",
     "output_type": "stream",
     "text": [
      "gender ['Female' 'Male']\n",
      "Partner ['Yes' 'No']\n",
      "Dependents ['No' 'Yes']\n",
      "PhoneService ['No' 'Yes']\n",
      "MultipleLines ['No phone service' 'No' 'Yes']\n",
      "InternetService ['DSL' 'Fiber optic' 'No']\n",
      "OnlineSecurity ['No' 'Yes' 'No internet service']\n",
      "OnlineBackup ['Yes' 'No' 'No internet service']\n",
      "DeviceProtection ['No' 'Yes' 'No internet service']\n",
      "TechSupport ['No' 'Yes' 'No internet service']\n",
      "StreamingTV ['No' 'Yes' 'No internet service']\n",
      "StreamingMovies ['No' 'Yes' 'No internet service']\n",
      "Contract ['Month-to-month' 'One year' 'Two year']\n",
      "PaperlessBilling ['Yes' 'No']\n",
      "PaymentMethod ['Electronic check' 'Mailed check' 'Bank transfer (automatic)'\n",
      " 'Credit card (automatic)']\n",
      "Churn ['No' 'Yes']\n"
     ]
    }
   ],
   "source": [
    "for column in columns_to_categorize:\n",
    "    print(column,data[column].unique())"
   ]
  },
  {
   "cell_type": "code",
   "execution_count": 99,
   "metadata": {},
   "outputs": [],
   "source": [
    "#Drop the \"No phone service\"\n",
    "for col in [\"MultipleLines\",\"InternetService\",\"OnlineBackup\",\"OnlineSecurity\"\n",
    "            ,\"DeviceProtection\",\"TechSupport\",\"StreamingTV\",\"StreamingMovies\"]:\n",
    "    data_all_num.loc[data_all_num[col].str.contains(\"No\"),col] = \"No\""
   ]
  },
  {
   "cell_type": "code",
   "execution_count": 100,
   "metadata": {},
   "outputs": [
    {
     "name": "stdout",
     "output_type": "stream",
     "text": [
      "gender ['Female' 'Male']\n",
      "Partner ['Yes' 'No']\n",
      "Dependents ['No' 'Yes']\n",
      "PhoneService ['No' 'Yes']\n",
      "MultipleLines ['No' 'Yes']\n",
      "InternetService ['DSL' 'Fiber optic' 'No']\n",
      "OnlineSecurity ['No' 'Yes']\n",
      "OnlineBackup ['Yes' 'No']\n",
      "DeviceProtection ['No' 'Yes']\n",
      "TechSupport ['No' 'Yes']\n",
      "StreamingTV ['No' 'Yes']\n",
      "StreamingMovies ['No' 'Yes']\n",
      "Contract ['Month-to-month' 'One year' 'Two year']\n",
      "PaperlessBilling ['Yes' 'No']\n",
      "PaymentMethod ['Electronic check' 'Mailed check' 'Bank transfer (automatic)'\n",
      " 'Credit card (automatic)']\n",
      "Churn ['No' 'Yes']\n"
     ]
    }
   ],
   "source": [
    "for column in columns_to_categorize:\n",
    "    print(column,data_all_num[column].unique())"
   ]
  },
  {
   "cell_type": "code",
   "execution_count": 101,
   "metadata": {},
   "outputs": [],
   "source": [
    "data_all_num[\"PaymentAutomatic\"] = data.PaymentMethod.str.contains(\"automatic\").astype(pd.np.int64)\n",
    "\n"
   ]
  },
  {
   "cell_type": "code",
   "execution_count": 102,
   "metadata": {},
   "outputs": [],
   "source": [
    "data_all_num.InternetService = data_all_num.InternetService.map({'DSL': 1, 'Fiber optic': 2, 'No': 0})\n",
    "data_all_num.Contract = data_all_num.Contract.map({'Month-to-month':1, 'One year':12 ,'Two year':24})\n",
    "data_all_num[\"PaymentAutomatic\"] = data_all_num.PaymentMethod.str.contains(\"automatic\").astype(pd.np.int64)\n",
    "data_all_num.PaymentMethod = data_all_num.PaymentMethod.map({'Electronic check':2, 'Mailed check':0\n",
    "                                                             ,'Bank transfer (automatic)':3\n",
    "                                                             ,'Credit card (automatic)':1})\n",
    "data_all_num[\"under_contract\"] = (data_all_num.Contract >= data_all_num.tenure).astype(pd.np.int64)"
   ]
  },
  {
   "cell_type": "code",
   "execution_count": 103,
   "metadata": {},
   "outputs": [
    {
     "name": "stdout",
     "output_type": "stream",
     "text": [
      "gender ['Female' 'Male']\n",
      "Partner ['Yes' 'No']\n",
      "Dependents ['No' 'Yes']\n",
      "PhoneService ['No' 'Yes']\n",
      "MultipleLines ['No' 'Yes']\n",
      "InternetService [1 2 0]\n",
      "OnlineSecurity ['No' 'Yes']\n",
      "OnlineBackup ['Yes' 'No']\n",
      "DeviceProtection ['No' 'Yes']\n",
      "TechSupport ['No' 'Yes']\n",
      "StreamingTV ['No' 'Yes']\n",
      "StreamingMovies ['No' 'Yes']\n",
      "Contract [ 1 12 24]\n",
      "PaperlessBilling ['Yes' 'No']\n",
      "PaymentMethod [2 0 3 1]\n",
      "Churn ['No' 'Yes']\n"
     ]
    }
   ],
   "source": [
    "for column in columns_to_categorize:\n",
    "    print(column,data_all_num[column].unique())"
   ]
  },
  {
   "cell_type": "code",
   "execution_count": 104,
   "metadata": {},
   "outputs": [],
   "source": [
    "#Create Dummies\n",
    "columns_to_categorize = list(data_all_num.select_dtypes(include='object').columns)\n",
    "for column in columns_to_categorize:\n",
    "    dfDummies = pd.get_dummies(data_all_num[column], prefix = column,drop_first=True)\n",
    "    data_all_num.drop(labels=[column], axis=1,inplace=True)\n",
    "    data_all_num = pd.concat([data_all_num,dfDummies], axis=1)\n",
    "    "
   ]
  },
  {
   "cell_type": "code",
   "execution_count": 105,
   "metadata": {},
   "outputs": [
    {
     "name": "stdout",
     "output_type": "stream",
     "text": [
      "SeniorCitizen [0 1]\n",
      "tenure [ 1 34  2 45  8 22 10 28 62 13 16 58 49 25 69 52 71 21 12 30 47 72 17 27\n",
      "  5 46 11 70 63 43 15 60 18 66  9  3 31 50 64 56  7 42 35 48 29 65 38 68\n",
      " 32 55 37 36 41  6  4 33 67 23 57 61 14 20 53 40 59 24 44 19 54 51 26  0\n",
      " 39]\n",
      "InternetService [1 2 0]\n",
      "Contract [ 1 12 24]\n",
      "PaymentMethod [2 0 3 1]\n",
      "MonthlyCharges [29.85 56.95 53.85 ... 63.1  44.2  78.7 ]\n",
      "TotalCharges [  29.85 1889.5   108.15 ...  346.45  306.6  6844.5 ]\n",
      "PaymentAutomatic [0 1]\n",
      "under_contract [1 0]\n",
      "gender_Male [0 1]\n",
      "Partner_Yes [1 0]\n",
      "Dependents_Yes [0 1]\n",
      "PhoneService_Yes [0 1]\n",
      "MultipleLines_Yes [0 1]\n",
      "OnlineSecurity_Yes [0 1]\n",
      "OnlineBackup_Yes [1 0]\n",
      "DeviceProtection_Yes [0 1]\n",
      "TechSupport_Yes [0 1]\n",
      "StreamingTV_Yes [0 1]\n",
      "StreamingMovies_Yes [0 1]\n",
      "PaperlessBilling_Yes [1 0]\n",
      "Churn_Yes [0 1]\n"
     ]
    }
   ],
   "source": [
    "for column in data_all_num.columns:\n",
    "    print(column,data_all_num[column].unique())"
   ]
  },
  {
   "cell_type": "code",
   "execution_count": null,
   "metadata": {},
   "outputs": [],
   "source": []
  },
  {
   "cell_type": "code",
   "execution_count": 106,
   "metadata": {},
   "outputs": [
    {
     "data": {
      "text/html": [
       "<div>\n",
       "<style scoped>\n",
       "    .dataframe tbody tr th:only-of-type {\n",
       "        vertical-align: middle;\n",
       "    }\n",
       "\n",
       "    .dataframe tbody tr th {\n",
       "        vertical-align: top;\n",
       "    }\n",
       "\n",
       "    .dataframe thead th {\n",
       "        text-align: right;\n",
       "    }\n",
       "</style>\n",
       "<table border=\"1\" class=\"dataframe\">\n",
       "  <thead>\n",
       "    <tr style=\"text-align: right;\">\n",
       "      <th>Churn_Yes</th>\n",
       "      <th>0</th>\n",
       "      <th>1</th>\n",
       "      <th>All</th>\n",
       "    </tr>\n",
       "    <tr>\n",
       "      <th>under_contract</th>\n",
       "      <th></th>\n",
       "      <th></th>\n",
       "      <th></th>\n",
       "    </tr>\n",
       "  </thead>\n",
       "  <tbody>\n",
       "    <tr>\n",
       "      <th>0</th>\n",
       "      <td>0.904716</td>\n",
       "      <td>0.789727</td>\n",
       "      <td>0.874201</td>\n",
       "    </tr>\n",
       "    <tr>\n",
       "      <th>1</th>\n",
       "      <td>0.095284</td>\n",
       "      <td>0.210273</td>\n",
       "      <td>0.125799</td>\n",
       "    </tr>\n",
       "  </tbody>\n",
       "</table>\n",
       "</div>"
      ],
      "text/plain": [
       "Churn_Yes              0         1       All\n",
       "under_contract                              \n",
       "0               0.904716  0.789727  0.874201\n",
       "1               0.095284  0.210273  0.125799"
      ]
     },
     "execution_count": 106,
     "metadata": {},
     "output_type": "execute_result"
    }
   ],
   "source": [
    "pd.crosstab(data_all_num.under_contract,data_all_num.Churn_Yes,margins=True, normalize=\"columns\")"
   ]
  },
  {
   "cell_type": "code",
   "execution_count": null,
   "metadata": {},
   "outputs": [],
   "source": []
  },
  {
   "cell_type": "markdown",
   "metadata": {},
   "source": [
    "# RF\n",
    "There is not missing data for the caterigorical values."
   ]
  },
  {
   "cell_type": "code",
   "execution_count": 107,
   "metadata": {},
   "outputs": [
    {
     "data": {
      "text/plain": [
       "Index(['SeniorCitizen', 'tenure', 'InternetService', 'Contract',\n",
       "       'PaymentMethod', 'MonthlyCharges', 'TotalCharges', 'PaymentAutomatic',\n",
       "       'under_contract', 'gender_Male', 'Partner_Yes', 'Dependents_Yes',\n",
       "       'PhoneService_Yes', 'MultipleLines_Yes', 'OnlineSecurity_Yes',\n",
       "       'OnlineBackup_Yes', 'DeviceProtection_Yes', 'TechSupport_Yes',\n",
       "       'StreamingTV_Yes', 'StreamingMovies_Yes', 'PaperlessBilling_Yes',\n",
       "       'Churn_Yes'],\n",
       "      dtype='object')"
      ]
     },
     "execution_count": 107,
     "metadata": {},
     "output_type": "execute_result"
    }
   ],
   "source": [
    "data_all_num.columns"
   ]
  },
  {
   "cell_type": "code",
   "execution_count": 108,
   "metadata": {},
   "outputs": [
    {
     "name": "stderr",
     "output_type": "stream",
     "text": [
      "/Users/severinhatt/Virtualenvs/thinkful/base_plotting/lib/python3.7/site-packages/sklearn/ensemble/forest.py:246: FutureWarning: The default value of n_estimators will change from 10 in version 0.20 to 100 in 0.22.\n",
      "  \"10 in version 0.20 to 100 in 0.22.\", FutureWarning)\n",
      "/Users/severinhatt/Virtualenvs/thinkful/base_plotting/lib/python3.7/site-packages/sklearn/ensemble/forest.py:246: FutureWarning: The default value of n_estimators will change from 10 in version 0.20 to 100 in 0.22.\n",
      "  \"10 in version 0.20 to 100 in 0.22.\", FutureWarning)\n",
      "/Users/severinhatt/Virtualenvs/thinkful/base_plotting/lib/python3.7/site-packages/sklearn/ensemble/forest.py:246: FutureWarning: The default value of n_estimators will change from 10 in version 0.20 to 100 in 0.22.\n",
      "  \"10 in version 0.20 to 100 in 0.22.\", FutureWarning)\n",
      "/Users/severinhatt/Virtualenvs/thinkful/base_plotting/lib/python3.7/site-packages/sklearn/ensemble/forest.py:246: FutureWarning: The default value of n_estimators will change from 10 in version 0.20 to 100 in 0.22.\n",
      "  \"10 in version 0.20 to 100 in 0.22.\", FutureWarning)\n",
      "/Users/severinhatt/Virtualenvs/thinkful/base_plotting/lib/python3.7/site-packages/sklearn/ensemble/forest.py:246: FutureWarning: The default value of n_estimators will change from 10 in version 0.20 to 100 in 0.22.\n",
      "  \"10 in version 0.20 to 100 in 0.22.\", FutureWarning)\n",
      "/Users/severinhatt/Virtualenvs/thinkful/base_plotting/lib/python3.7/site-packages/sklearn/ensemble/forest.py:246: FutureWarning: The default value of n_estimators will change from 10 in version 0.20 to 100 in 0.22.\n",
      "  \"10 in version 0.20 to 100 in 0.22.\", FutureWarning)\n",
      "/Users/severinhatt/Virtualenvs/thinkful/base_plotting/lib/python3.7/site-packages/sklearn/ensemble/forest.py:246: FutureWarning: The default value of n_estimators will change from 10 in version 0.20 to 100 in 0.22.\n",
      "  \"10 in version 0.20 to 100 in 0.22.\", FutureWarning)\n",
      "/Users/severinhatt/Virtualenvs/thinkful/base_plotting/lib/python3.7/site-packages/sklearn/ensemble/forest.py:246: FutureWarning: The default value of n_estimators will change from 10 in version 0.20 to 100 in 0.22.\n",
      "  \"10 in version 0.20 to 100 in 0.22.\", FutureWarning)\n",
      "/Users/severinhatt/Virtualenvs/thinkful/base_plotting/lib/python3.7/site-packages/sklearn/ensemble/forest.py:246: FutureWarning: The default value of n_estimators will change from 10 in version 0.20 to 100 in 0.22.\n",
      "  \"10 in version 0.20 to 100 in 0.22.\", FutureWarning)\n",
      "/Users/severinhatt/Virtualenvs/thinkful/base_plotting/lib/python3.7/site-packages/sklearn/ensemble/forest.py:246: FutureWarning: The default value of n_estimators will change from 10 in version 0.20 to 100 in 0.22.\n",
      "  \"10 in version 0.20 to 100 in 0.22.\", FutureWarning)\n"
     ]
    },
    {
     "data": {
      "text/plain": [
       "array([0.7858156 , 0.80425532, 0.77446809, 0.78865248, 0.79545455,\n",
       "       0.75      , 0.79119318, 0.79403409, 0.78551136, 0.81081081])"
      ]
     },
     "execution_count": 108,
     "metadata": {},
     "output_type": "execute_result"
    }
   ],
   "source": [
    "from sklearn import ensemble\n",
    "from sklearn.model_selection import cross_val_score,train_test_split\n",
    "\n",
    "rfc_first = ensemble.RandomForestClassifier()\n",
    "X = data_all_num.drop('Churn_Yes', 1)\n",
    "Y = data_all_num['Churn_Yes']\n",
    "\n",
    "cross_val_score(rfc_first, X, Y, cv=10)"
   ]
  },
  {
   "cell_type": "code",
   "execution_count": 109,
   "metadata": {},
   "outputs": [
    {
     "data": {
      "text/plain": [
       "<bound method BaseEstimator.get_params of RandomForestClassifier(bootstrap=True, class_weight=None, criterion='gini',\n",
       "            max_depth=None, max_features='auto', max_leaf_nodes=None,\n",
       "            min_impurity_decrease=0.0, min_impurity_split=None,\n",
       "            min_samples_leaf=1, min_samples_split=2,\n",
       "            min_weight_fraction_leaf=0.0, n_estimators='warn', n_jobs=None,\n",
       "            oob_score=False, random_state=None, verbose=0,\n",
       "            warm_start=False)>"
      ]
     },
     "execution_count": 109,
     "metadata": {},
     "output_type": "execute_result"
    }
   ],
   "source": [
    "rfc_first.get_params"
   ]
  },
  {
   "cell_type": "code",
   "execution_count": 110,
   "metadata": {},
   "outputs": [],
   "source": [
    "#Before we go further, lets split the data.\n",
    "X_train, X_test, y_train, y_test = train_test_split(X, Y, test_size=0.10)"
   ]
  },
  {
   "cell_type": "code",
   "execution_count": null,
   "metadata": {},
   "outputs": [],
   "source": [
    "from sklearn.model_selection import GridSearchCV\n",
    "\n",
    "rfc_for_tuning = ensemble.RandomForestClassifier()\n",
    "\n",
    "\n",
    "# parameters for GridSearchCV\n",
    "param_grid2 = {\"n_estimators\": range(10,2000,100),\n",
    "              \"max_depth\": [None, 3, 5]+list(range(10,2000,100)),\n",
    "              \"min_samples_split\": [15, 20],\n",
    "              \"min_samples_leaf\": [5, 10, 20],\n",
    "              \"max_leaf_nodes\": [20, 40],\n",
    "              \"min_weight_fraction_leaf\": [0.1],\n",
    "               'bootstrap': [True, False],\n",
    "               'max_features': ['auto', 'sqrt'],\n",
    "              \"class_weight\":[\"balanced_subsample\",\"balanced\",None]}\n",
    "grid_search = GridSearchCV(rfc_for_tuning, param_grid=param_grid2,n_jobs=-1)\n",
    "grid_search.fit(X_train, y_train)"
   ]
  },
  {
   "cell_type": "code",
   "execution_count": 111,
   "metadata": {},
   "outputs": [
    {
     "data": {
      "text/plain": [
       "(6338, 21)"
      ]
     },
     "execution_count": 111,
     "metadata": {},
     "output_type": "execute_result"
    }
   ],
   "source": [
    "X_train.shape"
   ]
  },
  {
   "cell_type": "code",
   "execution_count": 112,
   "metadata": {},
   "outputs": [
    {
     "name": "stderr",
     "output_type": "stream",
     "text": [
      "/Users/severinhatt/Virtualenvs/thinkful/base_plotting/lib/python3.7/site-packages/sklearn/model_selection/_split.py:2053: FutureWarning: You should specify a value for 'cv' instead of relying on the default value. The default value will change from 3 to 5 in version 0.22.\n",
      "  warnings.warn(CV_WARNING, FutureWarning)\n"
     ]
    },
    {
     "data": {
      "text/plain": [
       "RandomizedSearchCV(cv='warn', error_score='raise-deprecating',\n",
       "          estimator=RandomForestClassifier(bootstrap=True, class_weight=None, criterion='gini',\n",
       "            max_depth=None, max_features='auto', max_leaf_nodes=None,\n",
       "            min_impurity_decrease=0.0, min_impurity_split=None,\n",
       "            min_samples_leaf=1, min_samples_split=2,\n",
       "            min_weight_fraction_leaf=0.0, n_estimators='warn', n_jobs=None,\n",
       "            oob_score=False, random_state=None, verbose=0,\n",
       "            warm_start=False),\n",
       "          fit_params=None, iid='warn', n_iter=10, n_jobs=-1,\n",
       "          param_distributions={'bootstrap': [True, False], 'criterion': ['entropy', 'gini'], 'max_depth': [10, 20, 30, 40, 50, 60, 70, 80, 90, 100, None], 'max_features': ['auto', 'sqrt', 'log2', None], 'min_samples_leaf': [1, 2, 5, 10, 20, 30, 40, 50, 60, 70], 'min_samples_split': [2, 5, 10, 20, 30, 40, 50, 60, 70], 'n_estimators': [200, 400, 600, 800, 1000, 1200, 1400, 1600, 1800, 2000, 2200, 2400, 2500], 'class_weight': ['balanced_subsample', 'balanced', None]},\n",
       "          pre_dispatch='2*n_jobs', random_state=None, refit=True,\n",
       "          return_train_score='warn', scoring=None, verbose=0)"
      ]
     },
     "execution_count": 112,
     "metadata": {},
     "output_type": "execute_result"
    }
   ],
   "source": [
    "from sklearn.model_selection import RandomizedSearchCV\n",
    "\n",
    "rfc_for_tuning = ensemble.RandomForestClassifier()\n",
    "\n",
    "\n",
    "# parameters for GridSearchCV\n",
    "param_grid_random = {'bootstrap': [True, False],\n",
    "                     \"criterion\":[\"entropy\",\"gini\"],\n",
    "         'max_depth': [10, 20, 30, 40, 50, 60, 70, 80, 90, 100, None],\n",
    "         'max_features': ['auto', 'sqrt','log2',None],\n",
    "         'min_samples_leaf': [1,2, 5, 10,20,30,40,50,60,70],\n",
    "         'min_samples_split': [2, 5, 10,20,30,40,50,60,70],\n",
    "         'n_estimators': [200, 400, 600, 800, 1000, 1200, 1400, 1600, 1800, 2000,2200,2400,2500],\n",
    "         \"class_weight\":[\"balanced_subsample\",\"balanced\",None]}\n",
    "grid_search_random = RandomizedSearchCV(rfc_for_tuning, param_distributions=param_grid_random,n_jobs=-1)\n",
    "grid_search_random.fit(X_train, y_train)"
   ]
  },
  {
   "cell_type": "code",
   "execution_count": 113,
   "metadata": {},
   "outputs": [
    {
     "name": "stdout",
     "output_type": "stream",
     "text": [
      "{'n_estimators': 1800, 'min_samples_split': 40, 'min_samples_leaf': 1, 'max_features': 'sqrt', 'max_depth': 30, 'criterion': 'entropy', 'class_weight': None, 'bootstrap': True}\n"
     ]
    }
   ],
   "source": [
    "#print(grid_search.best_params_)\n",
    "print(grid_search_random.best_params_)\n"
   ]
  },
  {
   "cell_type": "code",
   "execution_count": 114,
   "metadata": {},
   "outputs": [
    {
     "name": "stdout",
     "output_type": "stream",
     "text": [
      "[[486  97]\n",
      " [ 46  76]]\n",
      "0.7282850153249164\n"
     ]
    },
    {
     "name": "stderr",
     "output_type": "stream",
     "text": [
      "/Users/severinhatt/Virtualenvs/thinkful/base_plotting/lib/python3.7/site-packages/sklearn/ensemble/forest.py:246: FutureWarning: The default value of n_estimators will change from 10 in version 0.20 to 100 in 0.22.\n",
      "  \"10 in version 0.20 to 100 in 0.22.\", FutureWarning)\n"
     ]
    },
    {
     "data": {
      "text/plain": [
       "0.7971631205673759"
      ]
     },
     "execution_count": 114,
     "metadata": {},
     "output_type": "execute_result"
    }
   ],
   "source": [
    "model = rfc_for_tuning.fit(X_train,y_train)\n",
    "\n",
    "_y = model.predict(X_test)\n",
    "from sklearn.metrics import confusion_matrix\n",
    "confusionMatrix = confusion_matrix(_y,y_test)\n",
    "print(confusionMatrix)\n",
    "from sklearn.metrics import accuracy_score\n",
    "print(roc_auc_score(_y,y_test))\n",
    "accuracy_score(_y,y_test)"
   ]
  },
  {
   "cell_type": "code",
   "execution_count": 115,
   "metadata": {},
   "outputs": [],
   "source": [
    "from imblearn.over_sampling import SMOTE\n",
    "\n",
    "sm = SMOTE(random_state=2)\n",
    "X_res, Y_res = sm.fit_sample(X_train, y_train.ravel())"
   ]
  },
  {
   "cell_type": "code",
   "execution_count": 116,
   "metadata": {},
   "outputs": [
    {
     "name": "stdout",
     "output_type": "stream",
     "text": [
      "0.2653698707936959 0.5\n"
     ]
    }
   ],
   "source": [
    "print(sum(Y)/len(Y),sum(Y_res)/len(Y_res))"
   ]
  },
  {
   "cell_type": "code",
   "execution_count": 117,
   "metadata": {},
   "outputs": [
    {
     "name": "stderr",
     "output_type": "stream",
     "text": [
      "/Users/severinhatt/Virtualenvs/thinkful/base_plotting/lib/python3.7/site-packages/sklearn/model_selection/_split.py:2053: FutureWarning: You should specify a value for 'cv' instead of relying on the default value. The default value will change from 3 to 5 in version 0.22.\n",
      "  warnings.warn(CV_WARNING, FutureWarning)\n"
     ]
    },
    {
     "data": {
      "text/plain": [
       "RandomizedSearchCV(cv='warn', error_score='raise-deprecating',\n",
       "          estimator=RandomForestClassifier(bootstrap=True, class_weight=None, criterion='gini',\n",
       "            max_depth=None, max_features='auto', max_leaf_nodes=None,\n",
       "            min_impurity_decrease=0.0, min_impurity_split=None,\n",
       "            min_samples_leaf=1, min_samples_split=2,\n",
       "            min_weight_fraction_leaf=0.0, n_estimators=10, n_jobs=None,\n",
       "            oob_score=False, random_state=None, verbose=0,\n",
       "            warm_start=False),\n",
       "          fit_params=None, iid='warn', n_iter=10, n_jobs=-1,\n",
       "          param_distributions={'bootstrap': [True, False], 'criterion': ['entropy', 'gini'], 'max_depth': [10, 20, 30, 40, 50, 60, 70, 80, 90, 100, None], 'max_features': ['auto', 'sqrt', 'log2', None], 'min_samples_leaf': [1, 2, 5, 10, 20, 30, 40, 50, 60, 70], 'min_samples_split': [2, 5, 10, 20, 30, 40, 50, 60, 70], 'n_estimators': [200, 400, 600, 800, 1000, 1200, 1400, 1600, 1800, 2000, 2200, 2400, 2500], 'class_weight': ['balanced_subsample', 'balanced', None]},\n",
       "          pre_dispatch='2*n_jobs', random_state=None, refit=True,\n",
       "          return_train_score='warn', scoring=None, verbose=0)"
      ]
     },
     "execution_count": 117,
     "metadata": {},
     "output_type": "execute_result"
    }
   ],
   "source": [
    "rfc_for_smote = ensemble.RandomForestClassifier()\n",
    "\n",
    "grid_search_smote = RandomizedSearchCV(rfc_for_tuning, param_distributions=param_grid_random,n_jobs=-1)\n",
    "grid_search_smote.fit(X_res, Y_res)"
   ]
  },
  {
   "cell_type": "code",
   "execution_count": 118,
   "metadata": {},
   "outputs": [
    {
     "name": "stdout",
     "output_type": "stream",
     "text": [
      "{'n_estimators': 800, 'min_samples_split': 5, 'min_samples_leaf': 10, 'max_features': 'log2', 'max_depth': 20, 'criterion': 'entropy', 'class_weight': 'balanced', 'bootstrap': False}\n"
     ]
    }
   ],
   "source": [
    "print(grid_search_smote.best_params_)"
   ]
  },
  {
   "cell_type": "code",
   "execution_count": 119,
   "metadata": {},
   "outputs": [],
   "source": [
    "from sklearn.model_selection import StratifiedKFold\n",
    "from sklearn.metrics import roc_auc_score\n",
    "import time\n"
   ]
  },
  {
   "cell_type": "code",
   "execution_count": 120,
   "metadata": {},
   "outputs": [
    {
     "name": "stdout",
     "output_type": "stream",
     "text": [
      "--- 10.958417892456055 seconds ---\n",
      "0.8676421678886505\n",
      "--- 10.463752031326294 seconds ---\n",
      "0.8710132813225596\n",
      "--- 9.986790895462036 seconds ---\n",
      "0.8572202423875065\n",
      "--- 9.908557891845703 seconds ---\n",
      "0.8535533749628308\n",
      "--- 9.47377610206604 seconds ---\n",
      "0.8496771301802288\n"
     ]
    }
   ],
   "source": [
    "skf = StratifiedKFold(n_splits=5, shuffle=True)\n",
    "\n",
    "rfc_better = ensemble.RandomForestClassifier(**grid_search_smote.best_params_)\n",
    "skf = StratifiedKFold(n_splits=5, shuffle=True)\n",
    "for train_index, test_index in skf.split(X_res, Y_res):\n",
    "    start_time = time.time()\n",
    "    model = rfc_better.fit(X_res[train_index],Y_res[train_index])\n",
    "    _y_smote = model.predict(X_res[test_index])\n",
    "    print(\"--- %s seconds ---\" % (time.time() - start_time))\n",
    "    print(roc_auc_score(_y_smote,Y_res[test_index]))\n",
    "   "
   ]
  },
  {
   "cell_type": "code",
   "execution_count": 121,
   "metadata": {},
   "outputs": [
    {
     "name": "stdout",
     "output_type": "stream",
     "text": [
      "[[466  75]\n",
      " [ 66  98]]\n",
      "0.7294644064740093\n"
     ]
    },
    {
     "data": {
      "text/plain": [
       "0.8"
      ]
     },
     "execution_count": 121,
     "metadata": {},
     "output_type": "execute_result"
    }
   ],
   "source": [
    "model = rfc_better.fit(X_res,Y_res)\n",
    "\n",
    "_y_smote = model.predict(X_test)\n",
    "from sklearn.metrics import confusion_matrix\n",
    "confusionMatrix = confusion_matrix(_y_smote,y_test)\n",
    "print(confusionMatrix)\n",
    "from sklearn.metrics import accuracy_score\n",
    "print(roc_auc_score(_y_smote,y_test))\n",
    "accuracy_score(_y_smote,y_test)"
   ]
  },
  {
   "cell_type": "code",
   "execution_count": 60,
   "metadata": {},
   "outputs": [
    {
     "name": "stderr",
     "output_type": "stream",
     "text": [
      "/Users/severinhatt/Virtualenvs/thinkful/base_plotting/lib/python3.7/site-packages/sklearn/ensemble/forest.py:246: FutureWarning: The default value of n_estimators will change from 10 in version 0.20 to 100 in 0.22.\n",
      "  \"10 in version 0.20 to 100 in 0.22.\", FutureWarning)\n"
     ]
    },
    {
     "data": {
      "text/plain": [
       "array([[475, 101],\n",
       "       [ 50,  79]])"
      ]
     },
     "execution_count": 60,
     "metadata": {},
     "output_type": "execute_result"
    }
   ],
   "source": [
    "rfc_first.fit(X_train,y_train)\n",
    "__y = rfc_first.predict(X_test)\n",
    "confusion_matrix(__y,y_test)"
   ]
  },
  {
   "cell_type": "code",
   "execution_count": 62,
   "metadata": {},
   "outputs": [
    {
     "name": "stdout",
     "output_type": "stream",
     "text": [
      "Recall\n",
      "0.6124031007751938\n",
      "0.5823529411764706\n",
      "Precision\n",
      "0.4388888888888889\n",
      "0.55\n"
     ]
    }
   ],
   "source": [
    "from sklearn.metrics import recall_score,precision_score\n",
    "print(\"Recall\")\n",
    "print(recall_score(__y,y_test))\n",
    "#print(recall_score(_y,y_test))\n",
    "print(recall_score(_y_smote,y_test))\n",
    "print(\"Precision\")\n",
    "\n",
    "\n",
    "print(precision_score(__y,y_test))\n",
    "#print(precision_score(_y,y_test))\n",
    "print(precision_score(_y_smote,y_test))\n",
    "\n",
    "\n",
    "\n"
   ]
  },
  {
   "cell_type": "markdown",
   "metadata": {},
   "source": [
    "Recall\n",
    "0.6533333333333333\n",
    "0.6891891891891891\n",
    "0.63\n",
    "Precision\n",
    "0.5025641025641026\n",
    "0.26153846153846155\n",
    "0.6461538461538462"
   ]
  },
  {
   "cell_type": "code",
   "execution_count": 122,
   "metadata": {},
   "outputs": [],
   "source": [
    "to_drop = [x[1] for x in sorted(zip(rfc_better.feature_importances_,X.columns))]\n"
   ]
  },
  {
   "cell_type": "code",
   "execution_count": 123,
   "metadata": {},
   "outputs": [
    {
     "data": {
      "text/html": [
       "['PhoneService_Yes', 'under_contract', 'DeviceProtection_Yes', 'StreamingMovies_Yes', 'StreamingTV_Yes', 'MultipleLines_Yes', 'SeniorCitizen', 'gender_Male', 'OnlineBackup_Yes', 'Partner_Yes', 'Dependents_Yes', 'TechSupport_Yes', 'PaymentMethod', 'OnlineSecurity_Yes', 'MonthlyCharges', 'TotalCharges', 'PaperlessBilling_Yes', 'InternetService', 'PaymentAutomatic', 'tenure', 'Contract']"
      ],
      "text/plain": [
       "['PhoneService_Yes',\n",
       " 'under_contract',\n",
       " 'DeviceProtection_Yes',\n",
       " 'StreamingMovies_Yes',\n",
       " 'StreamingTV_Yes',\n",
       " 'MultipleLines_Yes',\n",
       " 'SeniorCitizen',\n",
       " 'gender_Male',\n",
       " 'OnlineBackup_Yes',\n",
       " 'Partner_Yes',\n",
       " 'Dependents_Yes',\n",
       " 'TechSupport_Yes',\n",
       " 'PaymentMethod',\n",
       " 'OnlineSecurity_Yes',\n",
       " 'MonthlyCharges',\n",
       " 'TotalCharges',\n",
       " 'PaperlessBilling_Yes',\n",
       " 'InternetService',\n",
       " 'PaymentAutomatic',\n",
       " 'tenure',\n",
       " 'Contract']"
      ]
     },
     "execution_count": 123,
     "metadata": {},
     "output_type": "execute_result"
    }
   ],
   "source": [
    "to_drop"
   ]
  },
  {
   "cell_type": "code",
   "execution_count": 124,
   "metadata": {},
   "outputs": [
    {
     "name": "stderr",
     "output_type": "stream",
     "text": [
      "/Users/severinhatt/Virtualenvs/thinkful/base_plotting/lib/python3.7/site-packages/sklearn/model_selection/_split.py:2053: FutureWarning: You should specify a value for 'cv' instead of relying on the default value. The default value will change from 3 to 5 in version 0.22.\n",
      "  warnings.warn(CV_WARNING, FutureWarning)\n",
      "/Users/severinhatt/Virtualenvs/thinkful/base_plotting/lib/python3.7/site-packages/sklearn/ensemble/forest.py:246: FutureWarning: The default value of n_estimators will change from 10 in version 0.20 to 100 in 0.22.\n",
      "  \"10 in version 0.20 to 100 in 0.22.\", FutureWarning)\n",
      "/Users/severinhatt/Virtualenvs/thinkful/base_plotting/lib/python3.7/site-packages/sklearn/model_selection/_split.py:2053: FutureWarning: You should specify a value for 'cv' instead of relying on the default value. The default value will change from 3 to 5 in version 0.22.\n",
      "  warnings.warn(CV_WARNING, FutureWarning)\n"
     ]
    },
    {
     "name": "stdout",
     "output_type": "stream",
     "text": [
      "Droppping PhoneService_Yes\n",
      "recall 0.6048387096774194\n",
      "precision 0.43352601156069365\n",
      "roc_auc 0.7180820054411193\n",
      "accurary 0.7914893617021277\n"
     ]
    },
    {
     "name": "stderr",
     "output_type": "stream",
     "text": [
      "/Users/severinhatt/Virtualenvs/thinkful/base_plotting/lib/python3.7/site-packages/sklearn/ensemble/forest.py:246: FutureWarning: The default value of n_estimators will change from 10 in version 0.20 to 100 in 0.22.\n",
      "  \"10 in version 0.20 to 100 in 0.22.\", FutureWarning)\n",
      "/Users/severinhatt/Virtualenvs/thinkful/base_plotting/lib/python3.7/site-packages/sklearn/model_selection/_split.py:2053: FutureWarning: You should specify a value for 'cv' instead of relying on the default value. The default value will change from 3 to 5 in version 0.22.\n",
      "  warnings.warn(CV_WARNING, FutureWarning)\n"
     ]
    },
    {
     "name": "stdout",
     "output_type": "stream",
     "text": [
      "Droppping under_contract\n",
      "recall 0.5769230769230769\n",
      "precision 0.43352601156069365\n",
      "roc_auc 0.7032441471571906\n",
      "accurary 0.7829787234042553\n"
     ]
    },
    {
     "name": "stderr",
     "output_type": "stream",
     "text": [
      "/Users/severinhatt/Virtualenvs/thinkful/base_plotting/lib/python3.7/site-packages/sklearn/ensemble/forest.py:246: FutureWarning: The default value of n_estimators will change from 10 in version 0.20 to 100 in 0.22.\n",
      "  \"10 in version 0.20 to 100 in 0.22.\", FutureWarning)\n",
      "/Users/severinhatt/Virtualenvs/thinkful/base_plotting/lib/python3.7/site-packages/sklearn/model_selection/_split.py:2053: FutureWarning: You should specify a value for 'cv' instead of relying on the default value. The default value will change from 3 to 5 in version 0.22.\n",
      "  warnings.warn(CV_WARNING, FutureWarning)\n"
     ]
    },
    {
     "name": "stdout",
     "output_type": "stream",
     "text": [
      "Droppping DeviceProtection_Yes\n",
      "recall 0.5748031496062992\n",
      "precision 0.42196531791907516\n",
      "roc_auc 0.7008963844917309\n",
      "accurary 0.7815602836879433\n"
     ]
    },
    {
     "name": "stderr",
     "output_type": "stream",
     "text": [
      "/Users/severinhatt/Virtualenvs/thinkful/base_plotting/lib/python3.7/site-packages/sklearn/ensemble/forest.py:246: FutureWarning: The default value of n_estimators will change from 10 in version 0.20 to 100 in 0.22.\n",
      "  \"10 in version 0.20 to 100 in 0.22.\", FutureWarning)\n",
      "/Users/severinhatt/Virtualenvs/thinkful/base_plotting/lib/python3.7/site-packages/sklearn/model_selection/_split.py:2053: FutureWarning: You should specify a value for 'cv' instead of relying on the default value. The default value will change from 3 to 5 in version 0.22.\n",
      "  warnings.warn(CV_WARNING, FutureWarning)\n"
     ]
    },
    {
     "name": "stdout",
     "output_type": "stream",
     "text": [
      "Droppping StreamingMovies_Yes\n",
      "recall 0.6016260162601627\n",
      "precision 0.4277456647398844\n",
      "roc_auc 0.7157614617383287\n",
      "accurary 0.7900709219858156\n"
     ]
    },
    {
     "name": "stderr",
     "output_type": "stream",
     "text": [
      "/Users/severinhatt/Virtualenvs/thinkful/base_plotting/lib/python3.7/site-packages/sklearn/ensemble/forest.py:246: FutureWarning: The default value of n_estimators will change from 10 in version 0.20 to 100 in 0.22.\n",
      "  \"10 in version 0.20 to 100 in 0.22.\", FutureWarning)\n",
      "/Users/severinhatt/Virtualenvs/thinkful/base_plotting/lib/python3.7/site-packages/sklearn/model_selection/_split.py:2053: FutureWarning: You should specify a value for 'cv' instead of relying on the default value. The default value will change from 3 to 5 in version 0.22.\n",
      "  warnings.warn(CV_WARNING, FutureWarning)\n"
     ]
    },
    {
     "name": "stdout",
     "output_type": "stream",
     "text": [
      "Droppping StreamingTV_Yes\n",
      "recall 0.635593220338983\n",
      "precision 0.43352601156069365\n",
      "roc_auc 0.7343213120434269\n",
      "accurary 0.8\n"
     ]
    },
    {
     "name": "stderr",
     "output_type": "stream",
     "text": [
      "/Users/severinhatt/Virtualenvs/thinkful/base_plotting/lib/python3.7/site-packages/sklearn/ensemble/forest.py:246: FutureWarning: The default value of n_estimators will change from 10 in version 0.20 to 100 in 0.22.\n",
      "  \"10 in version 0.20 to 100 in 0.22.\", FutureWarning)\n",
      "/Users/severinhatt/Virtualenvs/thinkful/base_plotting/lib/python3.7/site-packages/sklearn/model_selection/_split.py:2053: FutureWarning: You should specify a value for 'cv' instead of relying on the default value. The default value will change from 3 to 5 in version 0.22.\n",
      "  warnings.warn(CV_WARNING, FutureWarning)\n"
     ]
    },
    {
     "name": "stdout",
     "output_type": "stream",
     "text": [
      "Droppping MultipleLines_Yes\n",
      "recall 0.6031746031746031\n",
      "precision 0.4393063583815029\n",
      "roc_auc 0.71782218932478\n",
      "accurary 0.7914893617021277\n"
     ]
    },
    {
     "name": "stderr",
     "output_type": "stream",
     "text": [
      "/Users/severinhatt/Virtualenvs/thinkful/base_plotting/lib/python3.7/site-packages/sklearn/ensemble/forest.py:246: FutureWarning: The default value of n_estimators will change from 10 in version 0.20 to 100 in 0.22.\n",
      "  \"10 in version 0.20 to 100 in 0.22.\", FutureWarning)\n",
      "/Users/severinhatt/Virtualenvs/thinkful/base_plotting/lib/python3.7/site-packages/sklearn/model_selection/_split.py:2053: FutureWarning: You should specify a value for 'cv' instead of relying on the default value. The default value will change from 3 to 5 in version 0.22.\n",
      "  warnings.warn(CV_WARNING, FutureWarning)\n"
     ]
    },
    {
     "name": "stdout",
     "output_type": "stream",
     "text": [
      "Droppping SeniorCitizen\n",
      "recall 0.6363636363636364\n",
      "precision 0.44508670520231214\n",
      "roc_auc 0.7359900373599003\n",
      "accurary 0.8014184397163121\n"
     ]
    },
    {
     "name": "stderr",
     "output_type": "stream",
     "text": [
      "/Users/severinhatt/Virtualenvs/thinkful/base_plotting/lib/python3.7/site-packages/sklearn/ensemble/forest.py:246: FutureWarning: The default value of n_estimators will change from 10 in version 0.20 to 100 in 0.22.\n",
      "  \"10 in version 0.20 to 100 in 0.22.\", FutureWarning)\n",
      "/Users/severinhatt/Virtualenvs/thinkful/base_plotting/lib/python3.7/site-packages/sklearn/model_selection/_split.py:2053: FutureWarning: You should specify a value for 'cv' instead of relying on the default value. The default value will change from 3 to 5 in version 0.22.\n",
      "  warnings.warn(CV_WARNING, FutureWarning)\n"
     ]
    },
    {
     "name": "stdout",
     "output_type": "stream",
     "text": [
      "Droppping gender_Male\n",
      "recall 0.5905511811023622\n",
      "precision 0.43352601156069365\n",
      "roc_auc 0.7105005040459909\n",
      "accurary 0.7872340425531915\n"
     ]
    },
    {
     "name": "stderr",
     "output_type": "stream",
     "text": [
      "/Users/severinhatt/Virtualenvs/thinkful/base_plotting/lib/python3.7/site-packages/sklearn/ensemble/forest.py:246: FutureWarning: The default value of n_estimators will change from 10 in version 0.20 to 100 in 0.22.\n",
      "  \"10 in version 0.20 to 100 in 0.22.\", FutureWarning)\n",
      "/Users/severinhatt/Virtualenvs/thinkful/base_plotting/lib/python3.7/site-packages/sklearn/model_selection/_split.py:2053: FutureWarning: You should specify a value for 'cv' instead of relying on the default value. The default value will change from 3 to 5 in version 0.22.\n",
      "  warnings.warn(CV_WARNING, FutureWarning)\n"
     ]
    },
    {
     "name": "stdout",
     "output_type": "stream",
     "text": [
      "Droppping OnlineBackup_Yes\n",
      "recall 0.5564516129032258\n",
      "precision 0.3988439306358382\n",
      "roc_auc 0.6887249458664151\n",
      "accurary 0.774468085106383\n"
     ]
    },
    {
     "name": "stderr",
     "output_type": "stream",
     "text": [
      "/Users/severinhatt/Virtualenvs/thinkful/base_plotting/lib/python3.7/site-packages/sklearn/ensemble/forest.py:246: FutureWarning: The default value of n_estimators will change from 10 in version 0.20 to 100 in 0.22.\n",
      "  \"10 in version 0.20 to 100 in 0.22.\", FutureWarning)\n",
      "/Users/severinhatt/Virtualenvs/thinkful/base_plotting/lib/python3.7/site-packages/sklearn/model_selection/_split.py:2053: FutureWarning: You should specify a value for 'cv' instead of relying on the default value. The default value will change from 3 to 5 in version 0.22.\n",
      "  warnings.warn(CV_WARNING, FutureWarning)\n"
     ]
    },
    {
     "name": "stdout",
     "output_type": "stream",
     "text": [
      "Droppping Partner_Yes\n",
      "recall 0.5314685314685315\n",
      "precision 0.4393063583815029\n",
      "roc_auc 0.6794353333499241\n",
      "accurary 0.7673758865248227\n"
     ]
    },
    {
     "name": "stderr",
     "output_type": "stream",
     "text": [
      "/Users/severinhatt/Virtualenvs/thinkful/base_plotting/lib/python3.7/site-packages/sklearn/ensemble/forest.py:246: FutureWarning: The default value of n_estimators will change from 10 in version 0.20 to 100 in 0.22.\n",
      "  \"10 in version 0.20 to 100 in 0.22.\", FutureWarning)\n",
      "/Users/severinhatt/Virtualenvs/thinkful/base_plotting/lib/python3.7/site-packages/sklearn/model_selection/_split.py:2053: FutureWarning: You should specify a value for 'cv' instead of relying on the default value. The default value will change from 3 to 5 in version 0.22.\n",
      "  warnings.warn(CV_WARNING, FutureWarning)\n"
     ]
    },
    {
     "name": "stdout",
     "output_type": "stream",
     "text": [
      "Droppping Dependents_Yes\n",
      "recall 0.5285714285714286\n",
      "precision 0.4277456647398844\n",
      "roc_auc 0.6766750948166877\n",
      "accurary 0.7659574468085106\n"
     ]
    },
    {
     "name": "stderr",
     "output_type": "stream",
     "text": [
      "/Users/severinhatt/Virtualenvs/thinkful/base_plotting/lib/python3.7/site-packages/sklearn/ensemble/forest.py:246: FutureWarning: The default value of n_estimators will change from 10 in version 0.20 to 100 in 0.22.\n",
      "  \"10 in version 0.20 to 100 in 0.22.\", FutureWarning)\n",
      "/Users/severinhatt/Virtualenvs/thinkful/base_plotting/lib/python3.7/site-packages/sklearn/model_selection/_split.py:2053: FutureWarning: You should specify a value for 'cv' instead of relying on the default value. The default value will change from 3 to 5 in version 0.22.\n",
      "  warnings.warn(CV_WARNING, FutureWarning)\n"
     ]
    },
    {
     "name": "stdout",
     "output_type": "stream",
     "text": [
      "Droppping TechSupport_Yes\n",
      "recall 0.5642857142857143\n",
      "precision 0.45664739884393063\n",
      "roc_auc 0.6989570164348926\n",
      "accurary 0.7801418439716312\n"
     ]
    },
    {
     "name": "stderr",
     "output_type": "stream",
     "text": [
      "/Users/severinhatt/Virtualenvs/thinkful/base_plotting/lib/python3.7/site-packages/sklearn/ensemble/forest.py:246: FutureWarning: The default value of n_estimators will change from 10 in version 0.20 to 100 in 0.22.\n",
      "  \"10 in version 0.20 to 100 in 0.22.\", FutureWarning)\n",
      "/Users/severinhatt/Virtualenvs/thinkful/base_plotting/lib/python3.7/site-packages/sklearn/model_selection/_split.py:2053: FutureWarning: You should specify a value for 'cv' instead of relying on the default value. The default value will change from 3 to 5 in version 0.22.\n",
      "  warnings.warn(CV_WARNING, FutureWarning)\n"
     ]
    },
    {
     "name": "stdout",
     "output_type": "stream",
     "text": [
      "Droppping PaymentMethod\n",
      "recall 0.5138888888888888\n",
      "precision 0.4277456647398844\n",
      "roc_auc 0.6687091503267972\n",
      "accurary 0.7602836879432624\n"
     ]
    },
    {
     "name": "stderr",
     "output_type": "stream",
     "text": [
      "/Users/severinhatt/Virtualenvs/thinkful/base_plotting/lib/python3.7/site-packages/sklearn/ensemble/forest.py:246: FutureWarning: The default value of n_estimators will change from 10 in version 0.20 to 100 in 0.22.\n",
      "  \"10 in version 0.20 to 100 in 0.22.\", FutureWarning)\n",
      "/Users/severinhatt/Virtualenvs/thinkful/base_plotting/lib/python3.7/site-packages/sklearn/model_selection/_split.py:2053: FutureWarning: You should specify a value for 'cv' instead of relying on the default value. The default value will change from 3 to 5 in version 0.22.\n",
      "  warnings.warn(CV_WARNING, FutureWarning)\n"
     ]
    },
    {
     "name": "stdout",
     "output_type": "stream",
     "text": [
      "Droppping OnlineSecurity_Yes\n",
      "recall 0.4906832298136646\n",
      "precision 0.45664739884393063\n",
      "roc_auc 0.6589445560833027\n",
      "accurary 0.750354609929078\n"
     ]
    },
    {
     "name": "stderr",
     "output_type": "stream",
     "text": [
      "/Users/severinhatt/Virtualenvs/thinkful/base_plotting/lib/python3.7/site-packages/sklearn/ensemble/forest.py:246: FutureWarning: The default value of n_estimators will change from 10 in version 0.20 to 100 in 0.22.\n",
      "  \"10 in version 0.20 to 100 in 0.22.\", FutureWarning)\n",
      "/Users/severinhatt/Virtualenvs/thinkful/base_plotting/lib/python3.7/site-packages/sklearn/model_selection/_split.py:2053: FutureWarning: You should specify a value for 'cv' instead of relying on the default value. The default value will change from 3 to 5 in version 0.22.\n",
      "  warnings.warn(CV_WARNING, FutureWarning)\n"
     ]
    },
    {
     "name": "stdout",
     "output_type": "stream",
     "text": [
      "Droppping MonthlyCharges\n",
      "recall 0.44571428571428573\n",
      "precision 0.4508670520231214\n",
      "roc_auc 0.6332345013477089\n",
      "accurary 0.7276595744680852\n"
     ]
    },
    {
     "name": "stderr",
     "output_type": "stream",
     "text": [
      "/Users/severinhatt/Virtualenvs/thinkful/base_plotting/lib/python3.7/site-packages/sklearn/ensemble/forest.py:246: FutureWarning: The default value of n_estimators will change from 10 in version 0.20 to 100 in 0.22.\n",
      "  \"10 in version 0.20 to 100 in 0.22.\", FutureWarning)\n",
      "/Users/severinhatt/Virtualenvs/thinkful/base_plotting/lib/python3.7/site-packages/sklearn/model_selection/_split.py:2053: FutureWarning: You should specify a value for 'cv' instead of relying on the default value. The default value will change from 3 to 5 in version 0.22.\n",
      "  warnings.warn(CV_WARNING, FutureWarning)\n"
     ]
    },
    {
     "name": "stdout",
     "output_type": "stream",
     "text": [
      "Droppping TotalCharges\n",
      "recall 0.4383561643835616\n",
      "precision 0.7398843930635838\n",
      "roc_auc 0.6646986633055822\n",
      "accurary 0.7035460992907802\n"
     ]
    },
    {
     "name": "stderr",
     "output_type": "stream",
     "text": [
      "/Users/severinhatt/Virtualenvs/thinkful/base_plotting/lib/python3.7/site-packages/sklearn/ensemble/forest.py:246: FutureWarning: The default value of n_estimators will change from 10 in version 0.20 to 100 in 0.22.\n",
      "  \"10 in version 0.20 to 100 in 0.22.\", FutureWarning)\n",
      "/Users/severinhatt/Virtualenvs/thinkful/base_plotting/lib/python3.7/site-packages/sklearn/model_selection/_split.py:2053: FutureWarning: You should specify a value for 'cv' instead of relying on the default value. The default value will change from 3 to 5 in version 0.22.\n",
      "  warnings.warn(CV_WARNING, FutureWarning)\n"
     ]
    },
    {
     "name": "stdout",
     "output_type": "stream",
     "text": [
      "Droppping PaperlessBilling_Yes\n",
      "recall 0.45394736842105265\n",
      "precision 0.7976878612716763\n",
      "roc_auc 0.6833327864549154\n",
      "accurary 0.7148936170212766\n"
     ]
    },
    {
     "name": "stderr",
     "output_type": "stream",
     "text": [
      "/Users/severinhatt/Virtualenvs/thinkful/base_plotting/lib/python3.7/site-packages/sklearn/ensemble/forest.py:246: FutureWarning: The default value of n_estimators will change from 10 in version 0.20 to 100 in 0.22.\n",
      "  \"10 in version 0.20 to 100 in 0.22.\", FutureWarning)\n",
      "/Users/severinhatt/Virtualenvs/thinkful/base_plotting/lib/python3.7/site-packages/sklearn/model_selection/_split.py:2053: FutureWarning: You should specify a value for 'cv' instead of relying on the default value. The default value will change from 3 to 5 in version 0.22.\n",
      "  warnings.warn(CV_WARNING, FutureWarning)\n"
     ]
    },
    {
     "name": "stdout",
     "output_type": "stream",
     "text": [
      "Droppping InternetService\n",
      "recall 0.4174174174174174\n",
      "precision 0.8034682080924855\n",
      "roc_auc 0.6630097839775259\n",
      "accurary 0.676595744680851\n"
     ]
    },
    {
     "name": "stderr",
     "output_type": "stream",
     "text": [
      "/Users/severinhatt/Virtualenvs/thinkful/base_plotting/lib/python3.7/site-packages/sklearn/ensemble/forest.py:246: FutureWarning: The default value of n_estimators will change from 10 in version 0.20 to 100 in 0.22.\n",
      "  \"10 in version 0.20 to 100 in 0.22.\", FutureWarning)\n",
      "/Users/severinhatt/Virtualenvs/thinkful/base_plotting/lib/python3.7/site-packages/sklearn/model_selection/_split.py:2053: FutureWarning: You should specify a value for 'cv' instead of relying on the default value. The default value will change from 3 to 5 in version 0.22.\n",
      "  warnings.warn(CV_WARNING, FutureWarning)\n"
     ]
    },
    {
     "name": "stdout",
     "output_type": "stream",
     "text": [
      "Droppping PaymentAutomatic\n",
      "recall 0.40963855421686746\n",
      "precision 0.7861271676300579\n",
      "roc_auc 0.6552214218805517\n",
      "accurary 0.6695035460992907\n",
      "Droppping tenure\n",
      "recall 0.4\n",
      "precision 0.8554913294797688\n",
      "roc_auc 0.6626865671641791\n",
      "accurary 0.649645390070922\n"
     ]
    },
    {
     "name": "stderr",
     "output_type": "stream",
     "text": [
      "/Users/severinhatt/Virtualenvs/thinkful/base_plotting/lib/python3.7/site-packages/sklearn/ensemble/forest.py:246: FutureWarning: The default value of n_estimators will change from 10 in version 0.20 to 100 in 0.22.\n",
      "  \"10 in version 0.20 to 100 in 0.22.\", FutureWarning)\n"
     ]
    },
    {
     "ename": "ValueError",
     "evalue": "Found array with 0 feature(s) (shape=(6338, 0)) while a minimum of 1 is required.",
     "output_type": "error",
     "traceback": [
      "\u001b[0;31m---------------------------------------------------------------------------\u001b[0m",
      "\u001b[0;31mValueError\u001b[0m                                Traceback (most recent call last)",
      "\u001b[0;32m<ipython-input-124-4d4a6dbbceb0>\u001b[0m in \u001b[0;36m<module>\u001b[0;34m\u001b[0m\n\u001b[1;32m      3\u001b[0m     \u001b[0mdropped_feature\u001b[0m\u001b[0;34m.\u001b[0m\u001b[0mappend\u001b[0m\u001b[0;34m(\u001b[0m\u001b[0mcol\u001b[0m\u001b[0;34m)\u001b[0m\u001b[0;34m\u001b[0m\u001b[0m\n\u001b[1;32m      4\u001b[0m     \u001b[0mX_drop_some\u001b[0m \u001b[0;34m=\u001b[0m \u001b[0mX_train\u001b[0m\u001b[0;34m.\u001b[0m\u001b[0mdrop\u001b[0m\u001b[0;34m(\u001b[0m\u001b[0mdropped_feature\u001b[0m\u001b[0;34m,\u001b[0m\u001b[0maxis\u001b[0m\u001b[0;34m=\u001b[0m\u001b[0;36m1\u001b[0m\u001b[0;34m)\u001b[0m\u001b[0;34m\u001b[0m\u001b[0m\n\u001b[0;32m----> 5\u001b[0;31m     \u001b[0mX_drop_some\u001b[0m\u001b[0;34m,\u001b[0m \u001b[0mY_res\u001b[0m \u001b[0;34m=\u001b[0m \u001b[0msm\u001b[0m\u001b[0;34m.\u001b[0m\u001b[0mfit_sample\u001b[0m\u001b[0;34m(\u001b[0m\u001b[0mX_drop_some\u001b[0m\u001b[0;34m,\u001b[0m \u001b[0my_train\u001b[0m\u001b[0;34m.\u001b[0m\u001b[0mravel\u001b[0m\u001b[0;34m(\u001b[0m\u001b[0;34m)\u001b[0m\u001b[0;34m)\u001b[0m\u001b[0;34m\u001b[0m\u001b[0m\n\u001b[0m\u001b[1;32m      6\u001b[0m     \u001b[0mrfc_feather_drop\u001b[0m \u001b[0;34m=\u001b[0m \u001b[0mensemble\u001b[0m\u001b[0;34m.\u001b[0m\u001b[0mRandomForestClassifier\u001b[0m\u001b[0;34m(\u001b[0m\u001b[0;34m)\u001b[0m\u001b[0;34m\u001b[0m\u001b[0m\n\u001b[1;32m      7\u001b[0m     grid_feather_drop = RandomizedSearchCV(rfc_feather_drop\n",
      "\u001b[0;32m~/Virtualenvs/thinkful/base_plotting/lib/python3.7/site-packages/imblearn/base.py\u001b[0m in \u001b[0;36mfit_resample\u001b[0;34m(self, X, y)\u001b[0m\n\u001b[1;32m     78\u001b[0m         \u001b[0mself\u001b[0m\u001b[0;34m.\u001b[0m\u001b[0m_deprecate_ratio\u001b[0m\u001b[0;34m(\u001b[0m\u001b[0;34m)\u001b[0m\u001b[0;34m\u001b[0m\u001b[0m\n\u001b[1;32m     79\u001b[0m \u001b[0;34m\u001b[0m\u001b[0m\n\u001b[0;32m---> 80\u001b[0;31m         \u001b[0mX\u001b[0m\u001b[0;34m,\u001b[0m \u001b[0my\u001b[0m\u001b[0;34m,\u001b[0m \u001b[0mbinarize_y\u001b[0m \u001b[0;34m=\u001b[0m \u001b[0mself\u001b[0m\u001b[0;34m.\u001b[0m\u001b[0m_check_X_y\u001b[0m\u001b[0;34m(\u001b[0m\u001b[0mX\u001b[0m\u001b[0;34m,\u001b[0m \u001b[0my\u001b[0m\u001b[0;34m)\u001b[0m\u001b[0;34m\u001b[0m\u001b[0m\n\u001b[0m\u001b[1;32m     81\u001b[0m \u001b[0;34m\u001b[0m\u001b[0m\n\u001b[1;32m     82\u001b[0m         self.sampling_strategy_ = check_sampling_strategy(\n",
      "\u001b[0;32m~/Virtualenvs/thinkful/base_plotting/lib/python3.7/site-packages/imblearn/base.py\u001b[0m in \u001b[0;36m_check_X_y\u001b[0;34m(X, y)\u001b[0m\n\u001b[1;32m    136\u001b[0m     \u001b[0;32mdef\u001b[0m \u001b[0m_check_X_y\u001b[0m\u001b[0;34m(\u001b[0m\u001b[0mX\u001b[0m\u001b[0;34m,\u001b[0m \u001b[0my\u001b[0m\u001b[0;34m)\u001b[0m\u001b[0;34m:\u001b[0m\u001b[0;34m\u001b[0m\u001b[0m\n\u001b[1;32m    137\u001b[0m         \u001b[0my\u001b[0m\u001b[0;34m,\u001b[0m \u001b[0mbinarize_y\u001b[0m \u001b[0;34m=\u001b[0m \u001b[0mcheck_target_type\u001b[0m\u001b[0;34m(\u001b[0m\u001b[0my\u001b[0m\u001b[0;34m,\u001b[0m \u001b[0mindicate_one_vs_all\u001b[0m\u001b[0;34m=\u001b[0m\u001b[0;32mTrue\u001b[0m\u001b[0;34m)\u001b[0m\u001b[0;34m\u001b[0m\u001b[0m\n\u001b[0;32m--> 138\u001b[0;31m         \u001b[0mX\u001b[0m\u001b[0;34m,\u001b[0m \u001b[0my\u001b[0m \u001b[0;34m=\u001b[0m \u001b[0mcheck_X_y\u001b[0m\u001b[0;34m(\u001b[0m\u001b[0mX\u001b[0m\u001b[0;34m,\u001b[0m \u001b[0my\u001b[0m\u001b[0;34m,\u001b[0m \u001b[0maccept_sparse\u001b[0m\u001b[0;34m=\u001b[0m\u001b[0;34m[\u001b[0m\u001b[0;34m'csr'\u001b[0m\u001b[0;34m,\u001b[0m \u001b[0;34m'csc'\u001b[0m\u001b[0;34m]\u001b[0m\u001b[0;34m)\u001b[0m\u001b[0;34m\u001b[0m\u001b[0m\n\u001b[0m\u001b[1;32m    139\u001b[0m         \u001b[0;32mreturn\u001b[0m \u001b[0mX\u001b[0m\u001b[0;34m,\u001b[0m \u001b[0my\u001b[0m\u001b[0;34m,\u001b[0m \u001b[0mbinarize_y\u001b[0m\u001b[0;34m\u001b[0m\u001b[0m\n\u001b[1;32m    140\u001b[0m \u001b[0;34m\u001b[0m\u001b[0m\n",
      "\u001b[0;32m~/Virtualenvs/thinkful/base_plotting/lib/python3.7/site-packages/sklearn/utils/validation.py\u001b[0m in \u001b[0;36mcheck_X_y\u001b[0;34m(X, y, accept_sparse, accept_large_sparse, dtype, order, copy, force_all_finite, ensure_2d, allow_nd, multi_output, ensure_min_samples, ensure_min_features, y_numeric, warn_on_dtype, estimator)\u001b[0m\n\u001b[1;32m    754\u001b[0m                     \u001b[0mensure_min_features\u001b[0m\u001b[0;34m=\u001b[0m\u001b[0mensure_min_features\u001b[0m\u001b[0;34m,\u001b[0m\u001b[0;34m\u001b[0m\u001b[0m\n\u001b[1;32m    755\u001b[0m                     \u001b[0mwarn_on_dtype\u001b[0m\u001b[0;34m=\u001b[0m\u001b[0mwarn_on_dtype\u001b[0m\u001b[0;34m,\u001b[0m\u001b[0;34m\u001b[0m\u001b[0m\n\u001b[0;32m--> 756\u001b[0;31m                     estimator=estimator)\n\u001b[0m\u001b[1;32m    757\u001b[0m     \u001b[0;32mif\u001b[0m \u001b[0mmulti_output\u001b[0m\u001b[0;34m:\u001b[0m\u001b[0;34m\u001b[0m\u001b[0m\n\u001b[1;32m    758\u001b[0m         y = check_array(y, 'csr', force_all_finite=True, ensure_2d=False,\n",
      "\u001b[0;32m~/Virtualenvs/thinkful/base_plotting/lib/python3.7/site-packages/sklearn/utils/validation.py\u001b[0m in \u001b[0;36mcheck_array\u001b[0;34m(array, accept_sparse, accept_large_sparse, dtype, order, copy, force_all_finite, ensure_2d, allow_nd, ensure_min_samples, ensure_min_features, warn_on_dtype, estimator)\u001b[0m\n\u001b[1;32m    588\u001b[0m                              \u001b[0;34m\" a minimum of %d is required%s.\"\u001b[0m\u001b[0;34m\u001b[0m\u001b[0m\n\u001b[1;32m    589\u001b[0m                              % (n_features, shape_repr, ensure_min_features,\n\u001b[0;32m--> 590\u001b[0;31m                                 context))\n\u001b[0m\u001b[1;32m    591\u001b[0m \u001b[0;34m\u001b[0m\u001b[0m\n\u001b[1;32m    592\u001b[0m     \u001b[0;32mif\u001b[0m \u001b[0mwarn_on_dtype\u001b[0m \u001b[0;32mand\u001b[0m \u001b[0mdtype_orig\u001b[0m \u001b[0;32mis\u001b[0m \u001b[0;32mnot\u001b[0m \u001b[0;32mNone\u001b[0m \u001b[0;32mand\u001b[0m \u001b[0marray\u001b[0m\u001b[0;34m.\u001b[0m\u001b[0mdtype\u001b[0m \u001b[0;34m!=\u001b[0m \u001b[0mdtype_orig\u001b[0m\u001b[0;34m:\u001b[0m\u001b[0;34m\u001b[0m\u001b[0m\n",
      "\u001b[0;31mValueError\u001b[0m: Found array with 0 feature(s) (shape=(6338, 0)) while a minimum of 1 is required."
     ]
    }
   ],
   "source": [
    "dropped_feature = []\n",
    "for col in to_drop:\n",
    "    dropped_feature.append(col)\n",
    "    X_drop_some = X_train.drop(dropped_feature,axis=1)\n",
    "    X_drop_some, Y_res = sm.fit_sample(X_drop_some, y_train.ravel())\n",
    "    rfc_feather_drop = ensemble.RandomForestClassifier()\n",
    "    grid_feather_drop = RandomizedSearchCV(rfc_feather_drop\n",
    "                                           , param_distributions=param_grid_random\n",
    "                                           ,n_jobs=-1)\n",
    "    grid_feather_drop.fit(X_drop_some,Y_res)\n",
    "    rfc_better = ensemble.RandomForestClassifier(**grid_feather_drop.best_params_)\n",
    "    model_feather_drop = rfc_feather_drop.fit(X_drop_some,Y_res)\n",
    "    _y_drop = model_feather_drop.predict(X_test.drop(dropped_feature,axis=1))\n",
    "    print(f\"Droppping {col}\")\n",
    "    print(\"recall\",recall_score(_y_drop,y_test))\n",
    "    print(\"precision\",precision_score(_y_drop,y_test))\n",
    "    print(\"roc_auc\",roc_auc_score(_y_drop,y_test))\n",
    "    print(\"accurary\",accuracy_score(_y_drop,y_test))\n",
    "\n",
    "\n",
    "\n",
    "\n",
    "\n",
    "\n",
    "\n",
    "\n",
    "    "
   ]
  },
  {
   "cell_type": "code",
   "execution_count": 125,
   "metadata": {},
   "outputs": [],
   "source": [
    "from xgboost import XGBClassifier"
   ]
  },
  {
   "cell_type": "code",
   "execution_count": 183,
   "metadata": {},
   "outputs": [
    {
     "name": "stderr",
     "output_type": "stream",
     "text": [
      "/Users/severinhatt/Virtualenvs/thinkful/base_plotting/lib/python3.7/site-packages/sklearn/model_selection/_split.py:2053: FutureWarning: You should specify a value for 'cv' instead of relying on the default value. The default value will change from 3 to 5 in version 0.22.\n",
      "  warnings.warn(CV_WARNING, FutureWarning)\n"
     ]
    },
    {
     "data": {
      "text/plain": [
       "GridSearchCV(cv='warn', error_score='raise-deprecating',\n",
       "       estimator=XGBClassifier(base_score=0.5, booster='gbtree', colsample_bylevel=1,\n",
       "       colsample_bytree=0.8, gamma=0, learning_rate=0.1, max_delta_step=0,\n",
       "       max_depth=5, min_child_weight=1, missing=None, n_estimators=1000,\n",
       "       n_jobs=1, n_thread=2, nthread=None, objective='binary:logistic',\n",
       "       random_state=0, reg_alpha=0, reg_lambda=1, scale_pos_weight=1,\n",
       "       seed=None, silent=True, subsample=0.8),\n",
       "       fit_params=None, iid='warn', n_jobs=None,\n",
       "       param_grid={'max_depth': range(3, 10), 'min_child_weight': range(1, 4), 'scale_pos_weight': [1], 'n_estimators': [22, 23], 'learning_rate': [0.1]},\n",
       "       pre_dispatch='2*n_jobs', refit=True, return_train_score='warn',\n",
       "       scoring=None, verbose=0)"
      ]
     },
     "execution_count": 183,
     "metadata": {},
     "output_type": "execute_result"
    }
   ],
   "source": [
    "param_test1 = {\n",
    "    'max_depth':range(3,10,1),\n",
    "    'min_child_weight':range(1,4,1),\n",
    "    'scale_pos_weight' : [1],\n",
    "    'n_estimators': list(range(22,24,1)),\n",
    "    'learning_rate' : [0.1]\n",
    "}\n",
    "to_optimize = XGBClassifier(learning_rate =0.1, \n",
    "                            n_estimators=1000,max_depth=5, n_thread=2,\n",
    "                            min_child_weight=1,\n",
    "                            gamma=0, \n",
    "                                                  subsample=0.8, \n",
    "                                                  colsample_bytree=0.8,\n",
    "                                                  objective= 'binary:logistic', scale_pos_weight=1 )\n",
    "gsearch1 = GridSearchCV(to_optimize, param_grid=param_test1)\n",
    "\n",
    "gsearch1.fit(X,Y)\n"
   ]
  },
  {
   "cell_type": "code",
   "execution_count": 184,
   "metadata": {},
   "outputs": [
    {
     "data": {
      "text/plain": [
       "{'learning_rate': 0.1,\n",
       " 'max_depth': 5,\n",
       " 'min_child_weight': 1,\n",
       " 'n_estimators': 23,\n",
       " 'scale_pos_weight': 1}"
      ]
     },
     "execution_count": 184,
     "metadata": {},
     "output_type": "execute_result"
    }
   ],
   "source": [
    "gsearch1.best_params_"
   ]
  },
  {
   "cell_type": "code",
   "execution_count": 129,
   "metadata": {},
   "outputs": [
    {
     "data": {
      "text/plain": [
       "2.7370283018867925"
      ]
     },
     "execution_count": 129,
     "metadata": {},
     "output_type": "execute_result"
    }
   ],
   "source": [
    "sum(y_train==False)/sum(y_train)"
   ]
  },
  {
   "cell_type": "code",
   "execution_count": 205,
   "metadata": {},
   "outputs": [],
   "source": [
    "X_res, Y_res = sm.fit_sample(X_train, y_train.ravel());\n",
    "X_res = pd.DataFrame.from_records(X_res,columns=X_train.columns)\n",
    "param = {'learning_rate': 0.1,\n",
    " 'max_depth': 5,\n",
    " 'min_child_weight': 1,\n",
    " 'n_estimators': 23,\n",
    "         'scale_pos_weight':2.7\n",
    "         , 'eta':0.05, 'silent':1\n",
    "         , \"eval_metric\":\"aucpr\",'objective':'binary:logistic'}\n",
    "num_round = 150\n",
    "dtest = xgboost.DMatrix(X_test, label=y_test)\n",
    "dtrain = xgboost.DMatrix(X_train, label=y_train)\n",
    "watchlist = [(xgboost.DMatrix(X_test, label=y_test), 'eval')\n",
    "             , (xgboost.DMatrix(X_res, label=Y_res), 'train')]\n",
    "\n",
    "bst = xgboost.train(param, dtrain, num_round)#, watchlist)\n",
    "\n",
    "#dall = xgboost.DMatrix(X, label=Y)\n",
    "#xgboost.cv(param, dall, num_round, nfold=5,\n",
    "#       metrics={'error',\"auc\",\"aucpr\"}, \n",
    "#       callbacks=[xgboost.callback.print_evaluation(show_stdv=True)])\n",
    "#model = xgboost.train({\"learning_rate\": 0.01}, xgboost.DMatrix(X_res, label=Y_res), 100);\n",
    "#dtest = xgboost.DMatrix(X_test)\n",
    "#A = model.predict(dtest)"
   ]
  },
  {
   "cell_type": "code",
   "execution_count": 206,
   "metadata": {},
   "outputs": [
    {
     "name": "stdout",
     "output_type": "stream",
     "text": [
      "error=0.252482\n"
     ]
    }
   ],
   "source": [
    "preds = bst.predict(dtest)\n",
    "labels = dtest.get_label()\n",
    "print('error=%f' % (sum(1 for i in range(len(preds)) if int(preds[i] > 0.5) != labels[i]) / float(len(preds))))"
   ]
  },
  {
   "cell_type": "code",
   "execution_count": 207,
   "metadata": {},
   "outputs": [
    {
     "name": "stdout",
     "output_type": "stream",
     "text": [
      "0.6878612716763006\n",
      "0.4897119341563786\n"
     ]
    }
   ],
   "source": [
    "print(precision_score((preds>0.50),labels))\n",
    "print(recall_score((preds>0.50),labels))"
   ]
  },
  {
   "cell_type": "code",
   "execution_count": 208,
   "metadata": {},
   "outputs": [],
   "source": [
    "X_res, Y_res = sm.fit_sample(X_train, y_train.ravel());\n",
    "X_res = pd.DataFrame.from_records(X_res,columns=X_train.columns)\n",
    "param = {'learning_rate': 0.1,\n",
    " 'max_depth': 5,\n",
    " 'min_child_weight': 1,\n",
    " 'n_estimators': 23,\n",
    "         'scale_pos_weight':1\n",
    "         , 'eta':0.05, 'silent':1\n",
    "         , \"eval_metric\":\"aucpr\",'objective':'binary:logistic'}\n",
    "num_round = 150\n",
    "dtest = xgboost.DMatrix(X_test, label=y_test)\n",
    "dtrain = xgboost.DMatrix(X_train, label=y_train)\n",
    "watchlist = [(xgboost.DMatrix(X_test, label=y_test), 'eval')\n",
    "             , (xgboost.DMatrix(X_res, label=Y_res), 'train')]\n",
    "\n",
    "bst = xgboost.train(param, dtrain, num_round)#, watchlist)\n",
    "\n",
    "#dall = xgboost.DMatrix(X, label=Y)\n",
    "#xgboost.cv(param, dall, num_round, nfold=5,\n",
    "#       metrics={'error',\"auc\",\"aucpr\"}, \n",
    "#       callbacks=[xgboost.callback.print_evaluation(show_stdv=True)])\n",
    "#model = xgboost.train({\"learning_rate\": 0.01}, xgboost.DMatrix(X_res, label=Y_res), 100);\n",
    "#dtest = xgboost.DMatrix(X_test)\n",
    "#A = model.predict(dtest)"
   ]
  },
  {
   "cell_type": "code",
   "execution_count": 209,
   "metadata": {},
   "outputs": [
    {
     "name": "stdout",
     "output_type": "stream",
     "text": [
      "error=0.197163\n"
     ]
    }
   ],
   "source": [
    "preds = bst.predict(dtest)\n",
    "labels = dtest.get_label()\n",
    "print('error=%f' % (sum(1 for i in range(len(preds)) if int(preds[i] > 0.5) != labels[i]) / float(len(preds))))"
   ]
  },
  {
   "cell_type": "code",
   "execution_count": 210,
   "metadata": {},
   "outputs": [
    {
     "name": "stdout",
     "output_type": "stream",
     "text": [
      "0.47398843930635837\n",
      "0.6307692307692307\n"
     ]
    }
   ],
   "source": [
    "print(precision_score((preds>0.50),labels))\n",
    "print(recall_score((preds>0.50),labels))"
   ]
  },
  {
   "cell_type": "code",
   "execution_count": 211,
   "metadata": {},
   "outputs": [
    {
     "data": {
      "image/png": "[encoded data removed]",
      "text/plain": [
       "<Figure size 432x288 with 1 Axes>"
      ]
     },
     "metadata": {
      "needs_background": "light"
     },
     "output_type": "display_data"
    }
   ],
   "source": [
    "feat_imp = pd.Series(bst.get_fscore()).sort_values(ascending=False)\n",
    "feat_imp.plot(kind='bar', title='Feature Importances')\n",
    "plt.ylabel('Feature Importance Score');"
   ]
  },
  {
   "cell_type": "code",
   "execution_count": 212,
   "metadata": {},
   "outputs": [
    {
     "data": {
      "text/html": [
       "['Contract', 'tenure', 'PaymentAutomatic', 'InternetService', 'PaperlessBilling_Yes', 'TotalCharges', 'MonthlyCharges', 'OnlineSecurity_Yes', 'PaymentMethod', 'TechSupport_Yes', 'Dependents_Yes', 'Partner_Yes', 'OnlineBackup_Yes', 'gender_Male', 'SeniorCitizen', 'MultipleLines_Yes', 'StreamingTV_Yes', 'StreamingMovies_Yes', 'DeviceProtection_Yes', 'under_contract', 'PhoneService_Yes']"
      ],
      "text/plain": [
       "['Contract',\n",
       " 'tenure',\n",
       " 'PaymentAutomatic',\n",
       " 'InternetService',\n",
       " 'PaperlessBilling_Yes',\n",
       " 'TotalCharges',\n",
       " 'MonthlyCharges',\n",
       " 'OnlineSecurity_Yes',\n",
       " 'PaymentMethod',\n",
       " 'TechSupport_Yes',\n",
       " 'Dependents_Yes',\n",
       " 'Partner_Yes',\n",
       " 'OnlineBackup_Yes',\n",
       " 'gender_Male',\n",
       " 'SeniorCitizen',\n",
       " 'MultipleLines_Yes',\n",
       " 'StreamingTV_Yes',\n",
       " 'StreamingMovies_Yes',\n",
       " 'DeviceProtection_Yes',\n",
       " 'under_contract',\n",
       " 'PhoneService_Yes']"
      ]
     },
     "execution_count": 212,
     "metadata": {},
     "output_type": "execute_result"
    }
   ],
   "source": [
    "list(reversed(to_drop))"
   ]
  },
  {
   "cell_type": "markdown",
   "metadata": {},
   "source": [
    "# Looking at the output of the train"
   ]
  },
  {
   "cell_type": "code",
   "execution_count": 230,
   "metadata": {},
   "outputs": [
    {
     "name": "stdout",
     "output_type": "stream",
     "text": [
      "error=0.137267\n"
     ]
    }
   ],
   "source": [
    "X_analysis = X_train.copy()\n",
    "X_analysis[\"objectif\"] = y_train\n",
    "preds = bst.predict(dtrain)\n",
    "X_analysis[\"pred\"] = preds\n",
    "print('error=%f' % (sum(1 for i in range(len(preds)) if int(preds[i] > 0.5) != labels[i]) / float(len(preds))))"
   ]
  },
  {
   "cell_type": "code",
   "execution_count": 226,
   "metadata": {},
   "outputs": [],
   "source": [
    "import seaborn as sns\n",
    "import matplotlib.pyplot as plt"
   ]
  },
  {
   "cell_type": "code",
   "execution_count": 227,
   "metadata": {},
   "outputs": [
    {
     "data": {
      "text/plain": [
       "<matplotlib.axes._subplots.AxesSubplot at 0x1291ff7f0>"
      ]
     },
     "execution_count": 227,
     "metadata": {},
     "output_type": "execute_result"
    },
    {
     "data": {
      "image/png": "[encoded data removed]",
      "text/plain": [
       "<Figure size 432x288 with 1 Axes>"
      ]
     },
     "metadata": {
      "needs_background": "light"
     },
     "output_type": "display_data"
    }
   ],
   "source": [
    "sns.boxplot(data=X_analysis,x=\"objectif\",y=\"pred\")"
   ]
  },
  {
   "cell_type": "code",
   "execution_count": 276,
   "metadata": {},
   "outputs": [
    {
     "data": {
      "image/png": "[encoded data removed]",
      "text/plain": [
       "<Figure size 432x288 with 1 Axes>"
      ]
     },
     "metadata": {
      "needs_background": "light"
     },
     "output_type": "display_data"
    }
   ],
   "source": [
    "_,bins,_ = plt.hist(X_analysis[X_analysis.objectif == 1].pred,alpha=0.5\n",
    "                    ,label=\"Did churn\",bins=20)\n",
    "plt.hist(X_analysis[X_analysis.objectif == 0].pred,bins=bins,alpha=0.5\n",
    "                    ,label=\"Stayed\")\n",
    "plt.legend()\n",
    "plt.xlim(0,1);"
   ]
  },
  {
   "cell_type": "code",
   "execution_count": 272,
   "metadata": {},
   "outputs": [],
   "source": [
    "x=[]\n",
    "y=[]\n",
    "y2=[]\n",
    "for i in range(25,75,2):\n",
    "    prediction_limit = i/100\n",
    "    x.append(prediction_limit)\n",
    "    y.append(precision_score((preds>prediction_limit),labels))\n",
    "    y2.append(recall_score((preds>prediction_limit),labels))\n"
   ]
  },
  {
   "cell_type": "code",
   "execution_count": 273,
   "metadata": {},
   "outputs": [
    {
     "data": {
      "image/png": "[encoded data removed]",
      "text/plain": [
       "<Figure size 432x288 with 1 Axes>"
      ]
     },
     "metadata": {
      "needs_background": "light"
     },
     "output_type": "display_data"
    }
   ],
   "source": [
    "plt.scatter(x,y,label=\"Precision score\",s=5)\n",
    "plt.scatter(x,y2,label=\"Recall score\",s=5)\n",
    "plt.title(\"Precision and recall on the training dataset\")\n",
    "plt.legend();"
   ]
  },
  {
   "cell_type": "markdown",
   "metadata": {},
   "source": [
    "# Confirming on the test set"
   ]
  },
  {
   "cell_type": "code",
   "execution_count": 257,
   "metadata": {},
   "outputs": [
    {
     "name": "stdout",
     "output_type": "stream",
     "text": [
      "error=0.197163\n"
     ]
    }
   ],
   "source": [
    "X_analysis = X_test.copy()\n",
    "X_analysis[\"objectif\"] = y_test\n",
    "preds = bst.predict(dtest)\n",
    "labels = dtest.get_label()\n",
    "X_analysis[\"pred\"] = preds\n",
    "print('error=%f' % (sum(1 for i in range(len(preds)) if int(preds[i] > 0.5) != labels[i]) / float(len(preds))))"
   ]
  },
  {
   "cell_type": "code",
   "execution_count": 277,
   "metadata": {},
   "outputs": [
    {
     "data": {
      "image/png": "[encoded data removed]",
      "text/plain": [
       "<Figure size 432x288 with 1 Axes>"
      ]
     },
     "metadata": {
      "needs_background": "light"
     },
     "output_type": "display_data"
    }
   ],
   "source": [
    "_,bins,_ = plt.hist(X_analysis[X_analysis.objectif == 1].pred,alpha=0.5\n",
    "                    ,label=\"Did churn\",bins=10)\n",
    "plt.hist(X_analysis[X_analysis.objectif == 0].pred,bins=bins,alpha=0.5\n",
    "                    ,label=\"Stayed\")\n",
    "plt.legend()\n",
    "plt.xlim(0,1);"
   ]
  },
  {
   "cell_type": "code",
   "execution_count": 274,
   "metadata": {},
   "outputs": [],
   "source": [
    "x=[]\n",
    "y=[]\n",
    "y2=[]\n",
    "for i in range(25,75,1):\n",
    "    prediction_limit = i/100\n",
    "    x.append(prediction_limit)\n",
    "    y.append(precision_score((preds>prediction_limit),labels))\n",
    "    y2.append(recall_score((preds>prediction_limit),labels))"
   ]
  },
  {
   "cell_type": "code",
   "execution_count": 275,
   "metadata": {},
   "outputs": [
    {
     "data": {
      "image/png": "[encoded data removed]",
      "text/plain": [
       "<Figure size 432x288 with 1 Axes>"
      ]
     },
     "metadata": {
      "needs_background": "light"
     },
     "output_type": "display_data"
    }
   ],
   "source": [
    "plt.scatter(x,y,label=\"Precision score\",s=5)\n",
    "plt.scatter(x,y2,label=\"Recall score\",s=5)\n",
    "plt.title(\"Precision and recall on the test dataset\")\n",
    "plt.legend();"
   ]
  },
  {
   "cell_type": "code",
   "execution_count": null,
   "metadata": {},
   "outputs": [],
   "source": []
  }
 ],
 "metadata": {
  "celltoolbar": "Aucun(e)",
  "kernelspec": {
   "display_name": "Python 3",
   "language": "python",
   "name": "python3"
  },
  "language_info": {
   "codemirror_mode": {
    "name": "ipython",
    "version": 3
   },
   "file_extension": ".py",
   "mimetype": "text/x-python",
   "name": "python",
   "nbconvert_exporter": "python",
   "pygments_lexer": "ipython3",
   "version": "3.7.0"
  }
 },
 "nbformat": 4,
 "nbformat_minor": 2
}
