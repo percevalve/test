{
 "cells": [
  {
   "cell_type": "code",
   "execution_count": 1,
   "metadata": {},
   "outputs": [],
   "source": [
    "%matplotlib inline\n",
    "%reload_ext autoreload\n",
    "%autoreload 2"
   ]
  },
  {
   "cell_type": "code",
   "execution_count": 2,
   "metadata": {},
   "outputs": [
    {
     "name": "stdout",
     "output_type": "stream",
     "text": [
      "Pixiedust database opened successfully\n"
     ]
    },
    {
     "data": {
      "text/html": [
       "\n",
       "        <div style=\"margin:10px\">\n",
       "            <a href=\"https://github.com/ibm-watson-data-lab/pixiedust\" target=\"_new\">\n",
       "                <img src=\"https://github.com/ibm-watson-data-lab/pixiedust/raw/master/docs/_static/pd_icon32.png\" style=\"float:left;margin-right:10px\"/>\n",
       "            </a>\n",
       "            <span>Pixiedust version 1.1.14</span>\n",
       "        </div>\n",
       "        "
      ],
      "text/plain": [
       "<IPython.core.display.HTML object>"
      ]
     },
     "metadata": {},
     "output_type": "display_data"
    }
   ],
   "source": [
    "import pixiedust\n",
    "import pandas as pd\n",
    "import numpy as np\n",
    "import seaborn as sns\n",
    "import os\n",
    "from matplotlib import pyplot as plt\n",
    "import numpy as np\n",
    "from sklearn import linear_model\n",
    "from sklearn.model_selection import train_test_split\n",
    "from matplotlib.mlab import PCA as mlabPCA\n",
    "from sklearn.preprocessing import StandardScaler\n",
    "from sklearn.decomposition import PCA \n",
    "%matplotlib inline\n",
    "pd.options.display.float_format = '{:.3f}'.format\n",
    "from scipy.stats import norm\n",
    "from sklearn.preprocessing import StandardScaler\n",
    "from scipy import stats\n",
    "import statsmodels.formula.api as smf\n",
    "from sklearn.model_selection import cross_val_score\n",
    "from sklearn import neighbors\n",
    "\n",
    "\n",
    "\n",
    "\n",
    "# Suppress annoying harmless error.\n",
    "import warnings\n",
    "warnings.filterwarnings(action=\"ignore\", module=\"scipy\", message=\"^internal gelsd\")\n",
    "plt.rcParams['figure.figsize'] = (20.0, 10.0)"
   ]
  },
  {
   "cell_type": "code",
   "execution_count": 3,
   "metadata": {},
   "outputs": [],
   "source": [
    "house = pd.read_csv(\"house_price.csv\")"
   ]
  },
  {
   "cell_type": "code",
   "execution_count": 13,
   "metadata": {},
   "outputs": [],
   "source": [
    "from sklearn import ensemble\n",
    "from sklearn.model_selection import cross_val_score\n",
    "\n",
    "rfc = ensemble.AdaBoostRegressor()"
   ]
  },
  {
   "cell_type": "code",
   "execution_count": 14,
   "metadata": {},
   "outputs": [
    {
     "name": "stdout",
     "output_type": "stream",
     "text": [
      "Id 0\n",
      "MSSubClass 0\n",
      "MSZoning 0\n",
      "LotFrontage 259\n",
      "LotArea 0\n",
      "Street 0\n",
      "Alley 1369\n",
      "LotShape 0\n",
      "LandContour 0\n",
      "Utilities 0\n",
      "LotConfig 0\n",
      "LandSlope 0\n",
      "Neighborhood 0\n",
      "Condition1 0\n",
      "Condition2 0\n",
      "BldgType 0\n",
      "HouseStyle 0\n",
      "OverallQual 0\n",
      "OverallCond 0\n",
      "YearBuilt 0\n",
      "YearRemodAdd 0\n",
      "RoofStyle 0\n",
      "RoofMatl 0\n",
      "Exterior1st 0\n",
      "Exterior2nd 0\n",
      "MasVnrType 8\n",
      "MasVnrArea 8\n",
      "ExterQual 0\n",
      "ExterCond 0\n",
      "Foundation 0\n",
      "BsmtQual 37\n",
      "BsmtCond 37\n",
      "BsmtExposure 38\n",
      "BsmtFinType1 37\n",
      "BsmtFinSF1 0\n",
      "BsmtFinType2 38\n",
      "BsmtFinSF2 0\n",
      "BsmtUnfSF 0\n",
      "TotalBsmtSF 0\n",
      "Heating 0\n",
      "HeatingQC 0\n",
      "CentralAir 0\n",
      "Electrical 1\n",
      "1stFlrSF 0\n",
      "2ndFlrSF 0\n",
      "LowQualFinSF 0\n",
      "GrLivArea 0\n",
      "BsmtFullBath 0\n",
      "BsmtHalfBath 0\n",
      "FullBath 0\n",
      "HalfBath 0\n",
      "BedroomAbvGr 0\n",
      "KitchenAbvGr 0\n",
      "KitchenQual 0\n",
      "TotRmsAbvGrd 0\n",
      "Functional 0\n",
      "Fireplaces 0\n",
      "FireplaceQu 690\n",
      "GarageType 81\n",
      "GarageYrBlt 81\n",
      "GarageFinish 81\n",
      "GarageCars 0\n",
      "GarageArea 0\n",
      "GarageQual 81\n",
      "GarageCond 81\n",
      "PavedDrive 0\n",
      "WoodDeckSF 0\n",
      "OpenPorchSF 0\n",
      "EnclosedPorch 0\n",
      "3SsnPorch 0\n",
      "ScreenPorch 0\n",
      "PoolArea 0\n",
      "PoolQC 1453\n",
      "Fence 1179\n",
      "MiscFeature 1406\n",
      "MiscVal 0\n",
      "MoSold 0\n",
      "YrSold 0\n",
      "SaleType 0\n",
      "SaleCondition 0\n",
      "SalePrice 0\n"
     ]
    }
   ],
   "source": [
    "for col in house.columns:\n",
    "    print(col,sum(house[col].isna()))"
   ]
  },
  {
   "cell_type": "code",
   "execution_count": null,
   "metadata": {},
   "outputs": [],
   "source": []
  },
  {
   "cell_type": "code",
   "execution_count": 15,
   "metadata": {},
   "outputs": [],
   "source": [
    "this_ens = house.fillna(0)\n",
    "X= this_ens.drop([\"SalePrice\"],axis=1)\n",
    "X = pd.get_dummies(X)"
   ]
  },
  {
   "cell_type": "code",
   "execution_count": 16,
   "metadata": {},
   "outputs": [],
   "source": [
    "Y = this_ens[[\"SalePrice\"]].copy()"
   ]
  },
  {
   "cell_type": "code",
   "execution_count": 20,
   "metadata": {},
   "outputs": [
    {
     "ename": "TypeError",
     "evalue": "estimator should be an estimator implementing 'fit' method, <module 'xgboost' from '/Users/severinhatt/Virtualenvs/thinkful/base_plotting/lib/python3.7/site-packages/xgboost/__init__.py'> was passed",
     "output_type": "error",
     "traceback": [
      "\u001b[0;31m---------------------------------------------------------------------------\u001b[0m",
      "\u001b[0;31mTypeError\u001b[0m                                 Traceback (most recent call last)",
      "\u001b[0;32m<ipython-input-20-57cbe13f5592>\u001b[0m in \u001b[0;36m<module>\u001b[0;34m()\u001b[0m\n\u001b[0;32m----> 1\u001b[0;31m \u001b[0mcross_val_score\u001b[0m\u001b[0;34m(\u001b[0m\u001b[0mxgb\u001b[0m\u001b[0;34m,\u001b[0m \u001b[0mX\u001b[0m\u001b[0;34m,\u001b[0m \u001b[0mY\u001b[0m\u001b[0;34m,\u001b[0m \u001b[0mcv\u001b[0m\u001b[0;34m=\u001b[0m\u001b[0;36m5\u001b[0m\u001b[0;34m)\u001b[0m\u001b[0;34m\u001b[0m\u001b[0m\n\u001b[0m",
      "\u001b[0;32m~/Virtualenvs/thinkful/base_plotting/lib/python3.7/site-packages/sklearn/model_selection/_validation.py\u001b[0m in \u001b[0;36mcross_val_score\u001b[0;34m(estimator, X, y, groups, scoring, cv, n_jobs, verbose, fit_params, pre_dispatch)\u001b[0m\n\u001b[1;32m    333\u001b[0m     \"\"\"\n\u001b[1;32m    334\u001b[0m     \u001b[0;31m# To ensure multimetric format is not supported\u001b[0m\u001b[0;34m\u001b[0m\u001b[0;34m\u001b[0m\u001b[0m\n\u001b[0;32m--> 335\u001b[0;31m     \u001b[0mscorer\u001b[0m \u001b[0;34m=\u001b[0m \u001b[0mcheck_scoring\u001b[0m\u001b[0;34m(\u001b[0m\u001b[0mestimator\u001b[0m\u001b[0;34m,\u001b[0m \u001b[0mscoring\u001b[0m\u001b[0;34m=\u001b[0m\u001b[0mscoring\u001b[0m\u001b[0;34m)\u001b[0m\u001b[0;34m\u001b[0m\u001b[0m\n\u001b[0m\u001b[1;32m    336\u001b[0m \u001b[0;34m\u001b[0m\u001b[0m\n\u001b[1;32m    337\u001b[0m     cv_results = cross_validate(estimator=estimator, X=X, y=y, groups=groups,\n",
      "\u001b[0;32m~/Virtualenvs/thinkful/base_plotting/lib/python3.7/site-packages/sklearn/metrics/scorer.py\u001b[0m in \u001b[0;36mcheck_scoring\u001b[0;34m(estimator, scoring, allow_none)\u001b[0m\n\u001b[1;32m    272\u001b[0m     \u001b[0;32mif\u001b[0m \u001b[0;32mnot\u001b[0m \u001b[0mhasattr\u001b[0m\u001b[0;34m(\u001b[0m\u001b[0mestimator\u001b[0m\u001b[0;34m,\u001b[0m \u001b[0;34m'fit'\u001b[0m\u001b[0;34m)\u001b[0m\u001b[0;34m:\u001b[0m\u001b[0;34m\u001b[0m\u001b[0m\n\u001b[1;32m    273\u001b[0m         raise TypeError(\"estimator should be an estimator implementing \"\n\u001b[0;32m--> 274\u001b[0;31m                         \"'fit' method, %r was passed\" % estimator)\n\u001b[0m\u001b[1;32m    275\u001b[0m     \u001b[0;32mif\u001b[0m \u001b[0misinstance\u001b[0m\u001b[0;34m(\u001b[0m\u001b[0mscoring\u001b[0m\u001b[0;34m,\u001b[0m \u001b[0msix\u001b[0m\u001b[0;34m.\u001b[0m\u001b[0mstring_types\u001b[0m\u001b[0;34m)\u001b[0m\u001b[0;34m:\u001b[0m\u001b[0;34m\u001b[0m\u001b[0m\n\u001b[1;32m    276\u001b[0m         \u001b[0;32mreturn\u001b[0m \u001b[0mget_scorer\u001b[0m\u001b[0;34m(\u001b[0m\u001b[0mscoring\u001b[0m\u001b[0;34m)\u001b[0m\u001b[0;34m\u001b[0m\u001b[0m\n",
      "\u001b[0;31mTypeError\u001b[0m: estimator should be an estimator implementing 'fit' method, <module 'xgboost' from '/Users/severinhatt/Virtualenvs/thinkful/base_plotting/lib/python3.7/site-packages/xgboost/__init__.py'> was passed"
     ]
    }
   ],
   "source": [
    "cross_val_score(xgb, X, Y, cv=5)"
   ]
  },
  {
   "cell_type": "code",
   "execution_count": 19,
   "metadata": {},
   "outputs": [],
   "source": [
    "import xgboost as xgb\n"
   ]
  },
  {
   "cell_type": "code",
   "execution_count": 25,
   "metadata": {},
   "outputs": [
    {
     "data": {
      "text/plain": [
       "Index(['Id', 'MSSubClass', 'MSZoning', 'LotFrontage', 'LotArea', 'Street',\n",
       "       'Alley', 'LotShape', 'LandContour', 'Utilities', 'LotConfig',\n",
       "       'LandSlope', 'Neighborhood', 'Condition1', 'Condition2', 'BldgType',\n",
       "       'HouseStyle', 'OverallQual', 'OverallCond', 'YearBuilt', 'YearRemodAdd',\n",
       "       'RoofStyle', 'RoofMatl', 'Exterior1st', 'Exterior2nd', 'MasVnrType',\n",
       "       'MasVnrArea', 'ExterQual', 'ExterCond', 'Foundation', 'BsmtQual',\n",
       "       'BsmtCond', 'BsmtExposure', 'BsmtFinType1', 'BsmtFinSF1',\n",
       "       'BsmtFinType2', 'BsmtFinSF2', 'BsmtUnfSF', 'TotalBsmtSF', 'Heating',\n",
       "       'HeatingQC', 'CentralAir', 'Electrical', '1stFlrSF', '2ndFlrSF',\n",
       "       'LowQualFinSF', 'GrLivArea', 'BsmtFullBath', 'BsmtHalfBath', 'FullBath',\n",
       "       'HalfBath', 'BedroomAbvGr', 'KitchenAbvGr', 'KitchenQual',\n",
       "       'TotRmsAbvGrd', 'Functional', 'Fireplaces', 'FireplaceQu', 'GarageType',\n",
       "       'GarageYrBlt', 'GarageFinish', 'GarageCars', 'GarageArea', 'GarageQual',\n",
       "       'GarageCond', 'PavedDrive', 'WoodDeckSF', 'OpenPorchSF',\n",
       "       'EnclosedPorch', '3SsnPorch', 'ScreenPorch', 'PoolArea', 'PoolQC',\n",
       "       'Fence', 'MiscFeature', 'MiscVal', 'MoSold', 'YrSold', 'SaleType',\n",
       "       'SaleCondition', 'SalePrice'],\n",
       "      dtype='object')"
      ]
     },
     "execution_count": 25,
     "metadata": {},
     "output_type": "execute_result"
    }
   ],
   "source": [
    "house.columns"
   ]
  },
  {
   "cell_type": "markdown",
   "metadata": {},
   "source": [
    "# The main feature: Sale Price"
   ]
  },
  {
   "cell_type": "code",
   "execution_count": 5,
   "metadata": {},
   "outputs": [],
   "source": [
    "house[\"SalePrice_log\"] = np.log10(house.SalePrice)\n"
   ]
  },
  {
   "cell_type": "markdown",
   "metadata": {},
   "source": [
    "# Square space variables"
   ]
  },
  {
   "cell_type": "code",
   "execution_count": 6,
   "metadata": {},
   "outputs": [
    {
     "data": {
      "text/html": [
       "<div>\n",
       "<style scoped>\n",
       "    .dataframe tbody tr th:only-of-type {\n",
       "        vertical-align: middle;\n",
       "    }\n",
       "\n",
       "    .dataframe tbody tr th {\n",
       "        vertical-align: top;\n",
       "    }\n",
       "\n",
       "    .dataframe thead th {\n",
       "        text-align: right;\n",
       "    }\n",
       "</style>\n",
       "<table border=\"1\" class=\"dataframe\">\n",
       "  <thead>\n",
       "    <tr style=\"text-align: right;\">\n",
       "      <th></th>\n",
       "      <th>BsmtFinSF1</th>\n",
       "      <th>BsmtFinSF2</th>\n",
       "      <th>BsmtUnfSF</th>\n",
       "      <th>TotalBsmtSF</th>\n",
       "      <th>1stFlrSF</th>\n",
       "      <th>2ndFlrSF</th>\n",
       "      <th>LowQualFinSF</th>\n",
       "      <th>GrLivArea</th>\n",
       "      <th>_Total_SF</th>\n",
       "    </tr>\n",
       "  </thead>\n",
       "  <tbody>\n",
       "    <tr>\n",
       "      <th>0</th>\n",
       "      <td>706</td>\n",
       "      <td>0</td>\n",
       "      <td>150</td>\n",
       "      <td>856</td>\n",
       "      <td>856</td>\n",
       "      <td>854</td>\n",
       "      <td>0</td>\n",
       "      <td>1710</td>\n",
       "      <td>2566</td>\n",
       "    </tr>\n",
       "    <tr>\n",
       "      <th>1</th>\n",
       "      <td>978</td>\n",
       "      <td>0</td>\n",
       "      <td>284</td>\n",
       "      <td>1262</td>\n",
       "      <td>1262</td>\n",
       "      <td>0</td>\n",
       "      <td>0</td>\n",
       "      <td>1262</td>\n",
       "      <td>2524</td>\n",
       "    </tr>\n",
       "    <tr>\n",
       "      <th>2</th>\n",
       "      <td>486</td>\n",
       "      <td>0</td>\n",
       "      <td>434</td>\n",
       "      <td>920</td>\n",
       "      <td>920</td>\n",
       "      <td>866</td>\n",
       "      <td>0</td>\n",
       "      <td>1786</td>\n",
       "      <td>2706</td>\n",
       "    </tr>\n",
       "    <tr>\n",
       "      <th>3</th>\n",
       "      <td>216</td>\n",
       "      <td>0</td>\n",
       "      <td>540</td>\n",
       "      <td>756</td>\n",
       "      <td>961</td>\n",
       "      <td>756</td>\n",
       "      <td>0</td>\n",
       "      <td>1717</td>\n",
       "      <td>2473</td>\n",
       "    </tr>\n",
       "    <tr>\n",
       "      <th>4</th>\n",
       "      <td>655</td>\n",
       "      <td>0</td>\n",
       "      <td>490</td>\n",
       "      <td>1145</td>\n",
       "      <td>1145</td>\n",
       "      <td>1053</td>\n",
       "      <td>0</td>\n",
       "      <td>2198</td>\n",
       "      <td>3343</td>\n",
       "    </tr>\n",
       "  </tbody>\n",
       "</table>\n",
       "</div>"
      ],
      "text/plain": [
       "   BsmtFinSF1  BsmtFinSF2  BsmtUnfSF  TotalBsmtSF  1stFlrSF  2ndFlrSF  \\\n",
       "0         706           0        150          856       856       854   \n",
       "1         978           0        284         1262      1262         0   \n",
       "2         486           0        434          920       920       866   \n",
       "3         216           0        540          756       961       756   \n",
       "4         655           0        490         1145      1145      1053   \n",
       "\n",
       "   LowQualFinSF  GrLivArea  _Total_SF  \n",
       "0             0       1710       2566  \n",
       "1             0       1262       2524  \n",
       "2             0       1786       2706  \n",
       "3             0       1717       2473  \n",
       "4             0       2198       3343  "
      ]
     },
     "execution_count": 6,
     "metadata": {},
     "output_type": "execute_result"
    }
   ],
   "source": [
    "house[\"_Total_SF\"] = house.TotalBsmtSF + house.GrLivArea\n",
    "square_space = ['BsmtFinSF1', 'BsmtFinSF2', 'BsmtUnfSF', 'TotalBsmtSF','1stFlrSF', '2ndFlrSF',\n",
    "       'LowQualFinSF', 'GrLivArea',\"_Total_SF\"]\n",
    "house[square_space].head(5)"
   ]
  },
  {
   "cell_type": "code",
   "execution_count": 7,
   "metadata": {},
   "outputs": [
    {
     "name": "stderr",
     "output_type": "stream",
     "text": [
      "/Users/severinhatt/Virtualenvs/thinkful/base_plotting/lib/python3.7/site-packages/ipykernel_launcher.py:1: UserWarning: Boolean Series key will be reindexed to match DataFrame index.\n",
      "  \"\"\"Entry point for launching an IPython kernel.\n"
     ]
    }
   ],
   "source": [
    "house = house[house.Functional==\"Typ\"][house._Total_SF < 6000].copy()"
   ]
  },
  {
   "cell_type": "code",
   "execution_count": 8,
   "metadata": {},
   "outputs": [
    {
     "data": {
      "text/plain": [
       "(1355, 83)"
      ]
     },
     "execution_count": 8,
     "metadata": {},
     "output_type": "execute_result"
    }
   ],
   "source": [
    "house.shape"
   ]
  },
  {
   "cell_type": "code",
   "execution_count": 9,
   "metadata": {},
   "outputs": [
    {
     "data": {
      "text/plain": [
       "0   3.409\n",
       "1   3.402\n",
       "2   3.432\n",
       "3   3.393\n",
       "4   3.524\n",
       "Name: _Total_SF_log, dtype: float64"
      ]
     },
     "execution_count": 9,
     "metadata": {},
     "output_type": "execute_result"
    }
   ],
   "source": [
    "house[\"_Total_SF_log\"] = np.log10(house._Total_SF)\n",
    "house[\"GrLivArea_log\"] = np.log10(house.GrLivArea)\n",
    "y = house.SalePrice_log\n",
    "X = house._Total_SF_log\n",
    "X.head()"
   ]
  },
  {
   "cell_type": "code",
   "execution_count": 10,
   "metadata": {},
   "outputs": [],
   "source": [
    "def standardize(variable):\n",
    "      return (variable - np.mean(variable)) / np.std(variable)"
   ]
  },
  {
   "cell_type": "code",
   "execution_count": 11,
   "metadata": {},
   "outputs": [],
   "source": [
    "columns_to_categorize = list(house.select_dtypes(include='object').columns)\n",
    "for col in columns_to_categorize:\n",
    "    house[col] = pd.Categorical(house[col])"
   ]
  },
  {
   "cell_type": "markdown",
   "metadata": {},
   "source": [
    "# Per square feet price\n",
    "\n",
    "Another way to interpret the current regression is that we are tryring to measure the price per square feet."
   ]
  },
  {
   "cell_type": "code",
   "execution_count": 12,
   "metadata": {},
   "outputs": [],
   "source": [
    "house[\"per_SF\"] = house.SalePrice/house._Total_SF\n"
   ]
  },
  {
   "cell_type": "code",
   "execution_count": 13,
   "metadata": {},
   "outputs": [
    {
     "data": {
      "text/plain": [
       "Index(['Abnorml', 'AdjLand', 'Alloca', 'Family', 'Normal', 'Partial'], dtype='object')"
      ]
     },
     "execution_count": 13,
     "metadata": {},
     "output_type": "execute_result"
    }
   ],
   "source": [
    "house['SaleCondition'].cat.categories"
   ]
  },
  {
   "cell_type": "markdown",
   "metadata": {},
   "source": [
    "\n",
    "# Neighbourhoods\n",
    "\n",
    "Let's create dummy variable for the neighbourhood, using the neighbourhood **NAmes** as the reference, as it is the place where there is the most sales."
   ]
  },
  {
   "cell_type": "code",
   "execution_count": 14,
   "metadata": {},
   "outputs": [],
   "source": [
    "#house = pd.concat([house,pd.get_dummies(house['SaleCondition'], prefix = 'SaleCondition',drop_first=True)], axis=1)\n",
    "house = pd.concat([house,pd.get_dummies(house['Neighborhood'], prefix = 'Neighborhood')], axis=1)\n",
    "house = house.drop(\"Neighborhood_NAmes\",axis=1)"
   ]
  },
  {
   "cell_type": "code",
   "execution_count": 15,
   "metadata": {},
   "outputs": [],
   "source": [
    "neigh = {'Neighborhood_Blmngtn', 'Neighborhood_Blueste', 'Neighborhood_BrDale',\n",
    "       'Neighborhood_BrkSide', 'Neighborhood_ClearCr', 'Neighborhood_CollgCr',\n",
    "       'Neighborhood_Crawfor', 'Neighborhood_Edwards', 'Neighborhood_Gilbert',\n",
    "       'Neighborhood_IDOTRR', 'Neighborhood_MeadowV', 'Neighborhood_Mitchel',\n",
    "       'Neighborhood_NPkVill', 'Neighborhood_NWAmes', 'Neighborhood_NoRidge',\n",
    "       'Neighborhood_NridgHt', 'Neighborhood_OldTown', 'Neighborhood_SWISU',\n",
    "       'Neighborhood_Sawyer', 'Neighborhood_SawyerW', 'Neighborhood_Somerst',\n",
    "       'Neighborhood_StoneBr', 'Neighborhood_Timber', 'Neighborhood_Veenker'}"
   ]
  },
  {
   "cell_type": "code",
   "execution_count": 16,
   "metadata": {},
   "outputs": [],
   "source": [
    "not_relevant = {'Neighborhood_Blueste','Neighborhood_BrkSide','Neighborhood_Mitchel'\n",
    "                ,'Neighborhood_Sawyer','Neighborhood_NPkVill'}"
   ]
  },
  {
   "cell_type": "code",
   "execution_count": null,
   "metadata": {},
   "outputs": [],
   "source": []
  },
  {
   "cell_type": "code",
   "execution_count": 17,
   "metadata": {},
   "outputs": [],
   "source": [
    "house[\"Total_Bath\"] = sum(house[c] for c in house.columns if \"ath\" in c)\n",
    "baths = [c for c in house.columns if \"ath\" in c]\n",
    "house.Total_Bath = house.Total_Bath.apply(lambda x: x if x < 5 else 4)\n",
    "\n"
   ]
  },
  {
   "cell_type": "code",
   "execution_count": 18,
   "metadata": {},
   "outputs": [],
   "source": [
    "house[\"isNew\"]= (house.SaleType==\"New\")\n",
    "house[\"isCBlock\"]= (house.Foundation==\"isCBlock\")\n"
   ]
  },
  {
   "cell_type": "code",
   "execution_count": 19,
   "metadata": {},
   "outputs": [
    {
     "data": {
      "text/html": [
       "<table class=\"simpletable\">\n",
       "<caption>OLS Regression Results</caption>\n",
       "<tr>\n",
       "  <th>Dep. Variable:</th>      <td>SalePrice_log</td>  <th>  R-squared:         </th> <td>   0.894</td>\n",
       "</tr>\n",
       "<tr>\n",
       "  <th>Model:</th>                   <td>OLS</td>       <th>  Adj. R-squared:    </th> <td>   0.892</td>\n",
       "</tr>\n",
       "<tr>\n",
       "  <th>Method:</th>             <td>Least Squares</td>  <th>  F-statistic:       </th> <td>   448.7</td>\n",
       "</tr>\n",
       "<tr>\n",
       "  <th>Date:</th>             <td>Tue, 27 Nov 2018</td> <th>  Prob (F-statistic):</th>  <td>  0.00</td> \n",
       "</tr>\n",
       "<tr>\n",
       "  <th>Time:</th>                 <td>16:49:32</td>     <th>  Log-Likelihood:    </th> <td>  1992.1</td>\n",
       "</tr>\n",
       "<tr>\n",
       "  <th>No. Observations:</th>      <td>  1355</td>      <th>  AIC:               </th> <td>  -3932.</td>\n",
       "</tr>\n",
       "<tr>\n",
       "  <th>Df Residuals:</th>          <td>  1329</td>      <th>  BIC:               </th> <td>  -3797.</td>\n",
       "</tr>\n",
       "<tr>\n",
       "  <th>Df Model:</th>              <td>    25</td>      <th>                     </th>     <td> </td>   \n",
       "</tr>\n",
       "<tr>\n",
       "  <th>Covariance Type:</th>      <td>nonrobust</td>    <th>                     </th>     <td> </td>   \n",
       "</tr>\n",
       "</table>\n",
       "<table class=\"simpletable\">\n",
       "<tr>\n",
       "            <td></td>              <th>coef</th>     <th>std err</th>      <th>t</th>      <th>P>|t|</th>  <th>[0.025</th>    <th>0.975]</th>  \n",
       "</tr>\n",
       "<tr>\n",
       "  <th>Intercept</th>            <td>    3.0867</td> <td>    0.057</td> <td>   54.029</td> <td> 0.000</td> <td>    2.975</td> <td>    3.199</td>\n",
       "</tr>\n",
       "<tr>\n",
       "  <th>isNew[T.True]</th>        <td>    0.0379</td> <td>    0.006</td> <td>    6.168</td> <td> 0.000</td> <td>    0.026</td> <td>    0.050</td>\n",
       "</tr>\n",
       "<tr>\n",
       "  <th>_Total_SF_log</th>        <td>    0.4942</td> <td>    0.018</td> <td>   26.794</td> <td> 0.000</td> <td>    0.458</td> <td>    0.530</td>\n",
       "</tr>\n",
       "<tr>\n",
       "  <th>OverallQual</th>          <td>    0.0344</td> <td>    0.002</td> <td>   17.296</td> <td> 0.000</td> <td>    0.030</td> <td>    0.038</td>\n",
       "</tr>\n",
       "<tr>\n",
       "  <th>OverallCond</th>          <td>    0.0209</td> <td>    0.002</td> <td>   13.133</td> <td> 0.000</td> <td>    0.018</td> <td>    0.024</td>\n",
       "</tr>\n",
       "<tr>\n",
       "  <th>GarageCars</th>           <td>    0.0323</td> <td>    0.003</td> <td>   11.263</td> <td> 0.000</td> <td>    0.027</td> <td>    0.038</td>\n",
       "</tr>\n",
       "<tr>\n",
       "  <th>Total_Bath</th>           <td>    0.0278</td> <td>    0.002</td> <td>   11.777</td> <td> 0.000</td> <td>    0.023</td> <td>    0.032</td>\n",
       "</tr>\n",
       "<tr>\n",
       "  <th>Neighborhood_ClearCr</th> <td>    0.0542</td> <td>    0.013</td> <td>    4.231</td> <td> 0.000</td> <td>    0.029</td> <td>    0.079</td>\n",
       "</tr>\n",
       "<tr>\n",
       "  <th>Neighborhood_NWAmes</th>  <td>   -0.0136</td> <td>    0.008</td> <td>   -1.756</td> <td> 0.079</td> <td>   -0.029</td> <td>    0.002</td>\n",
       "</tr>\n",
       "<tr>\n",
       "  <th>Neighborhood_Crawfor</th> <td>    0.0461</td> <td>    0.009</td> <td>    5.153</td> <td> 0.000</td> <td>    0.029</td> <td>    0.064</td>\n",
       "</tr>\n",
       "<tr>\n",
       "  <th>Neighborhood_Veenker</th> <td>    0.0525</td> <td>    0.017</td> <td>    3.013</td> <td> 0.003</td> <td>    0.018</td> <td>    0.087</td>\n",
       "</tr>\n",
       "<tr>\n",
       "  <th>Neighborhood_BrDale</th>  <td>   -0.0838</td> <td>    0.016</td> <td>   -5.352</td> <td> 0.000</td> <td>   -0.114</td> <td>   -0.053</td>\n",
       "</tr>\n",
       "<tr>\n",
       "  <th>Neighborhood_NoRidge</th> <td>    0.0668</td> <td>    0.011</td> <td>    6.193</td> <td> 0.000</td> <td>    0.046</td> <td>    0.088</td>\n",
       "</tr>\n",
       "<tr>\n",
       "  <th>Neighborhood_Somerst</th> <td>    0.0349</td> <td>    0.008</td> <td>    4.350</td> <td> 0.000</td> <td>    0.019</td> <td>    0.051</td>\n",
       "</tr>\n",
       "<tr>\n",
       "  <th>Neighborhood_Blmngtn</th> <td>   -0.0030</td> <td>    0.014</td> <td>   -0.210</td> <td> 0.834</td> <td>   -0.031</td> <td>    0.025</td>\n",
       "</tr>\n",
       "<tr>\n",
       "  <th>Neighborhood_CollgCr</th> <td>    0.0302</td> <td>    0.006</td> <td>    5.006</td> <td> 0.000</td> <td>    0.018</td> <td>    0.042</td>\n",
       "</tr>\n",
       "<tr>\n",
       "  <th>Neighborhood_OldTown</th> <td>   -0.0651</td> <td>    0.007</td> <td>   -9.992</td> <td> 0.000</td> <td>   -0.078</td> <td>   -0.052</td>\n",
       "</tr>\n",
       "<tr>\n",
       "  <th>Neighborhood_Timber</th>  <td>    0.0431</td> <td>    0.011</td> <td>    4.097</td> <td> 0.000</td> <td>    0.022</td> <td>    0.064</td>\n",
       "</tr>\n",
       "<tr>\n",
       "  <th>Neighborhood_StoneBr</th> <td>    0.0760</td> <td>    0.013</td> <td>    5.753</td> <td> 0.000</td> <td>    0.050</td> <td>    0.102</td>\n",
       "</tr>\n",
       "<tr>\n",
       "  <th>Neighborhood_Gilbert</th> <td>    0.0252</td> <td>    0.008</td> <td>    3.295</td> <td> 0.001</td> <td>    0.010</td> <td>    0.040</td>\n",
       "</tr>\n",
       "<tr>\n",
       "  <th>Neighborhood_IDOTRR</th>  <td>   -0.0745</td> <td>    0.010</td> <td>   -7.393</td> <td> 0.000</td> <td>   -0.094</td> <td>   -0.055</td>\n",
       "</tr>\n",
       "<tr>\n",
       "  <th>Neighborhood_NridgHt</th> <td>    0.0709</td> <td>    0.009</td> <td>    7.864</td> <td> 0.000</td> <td>    0.053</td> <td>    0.089</td>\n",
       "</tr>\n",
       "<tr>\n",
       "  <th>Neighborhood_SawyerW</th> <td>    0.0141</td> <td>    0.008</td> <td>    1.703</td> <td> 0.089</td> <td>   -0.002</td> <td>    0.030</td>\n",
       "</tr>\n",
       "<tr>\n",
       "  <th>Neighborhood_Edwards</th> <td>   -0.0102</td> <td>    0.007</td> <td>   -1.483</td> <td> 0.138</td> <td>   -0.024</td> <td>    0.003</td>\n",
       "</tr>\n",
       "<tr>\n",
       "  <th>Neighborhood_MeadowV</th> <td>   -0.0465</td> <td>    0.015</td> <td>   -3.186</td> <td> 0.001</td> <td>   -0.075</td> <td>   -0.018</td>\n",
       "</tr>\n",
       "<tr>\n",
       "  <th>Neighborhood_SWISU</th>   <td>   -0.0292</td> <td>    0.013</td> <td>   -2.333</td> <td> 0.020</td> <td>   -0.054</td> <td>   -0.005</td>\n",
       "</tr>\n",
       "</table>\n",
       "<table class=\"simpletable\">\n",
       "<tr>\n",
       "  <th>Omnibus:</th>       <td>229.695</td> <th>  Durbin-Watson:     </th> <td>   1.952</td> \n",
       "</tr>\n",
       "<tr>\n",
       "  <th>Prob(Omnibus):</th> <td> 0.000</td>  <th>  Jarque-Bera (JB):  </th> <td> 881.089</td> \n",
       "</tr>\n",
       "<tr>\n",
       "  <th>Skew:</th>          <td>-0.778</td>  <th>  Prob(JB):          </th> <td>4.72e-192</td>\n",
       "</tr>\n",
       "<tr>\n",
       "  <th>Kurtosis:</th>      <td> 6.631</td>  <th>  Cond. No.          </th> <td>    378.</td> \n",
       "</tr>\n",
       "</table><br/><br/>Warnings:<br/>[1] Standard Errors assume that the covariance matrix of the errors is correctly specified."
      ],
      "text/plain": [
       "<class 'statsmodels.iolib.summary.Summary'>\n",
       "\"\"\"\n",
       "                            OLS Regression Results                            \n",
       "==============================================================================\n",
       "Dep. Variable:          SalePrice_log   R-squared:                       0.894\n",
       "Model:                            OLS   Adj. R-squared:                  0.892\n",
       "Method:                 Least Squares   F-statistic:                     448.7\n",
       "Date:                Tue, 27 Nov 2018   Prob (F-statistic):               0.00\n",
       "Time:                        16:49:32   Log-Likelihood:                 1992.1\n",
       "No. Observations:                1355   AIC:                            -3932.\n",
       "Df Residuals:                    1329   BIC:                            -3797.\n",
       "Df Model:                          25                                         \n",
       "Covariance Type:            nonrobust                                         \n",
       "========================================================================================\n",
       "                           coef    std err          t      P>|t|      [0.025      0.975]\n",
       "----------------------------------------------------------------------------------------\n",
       "Intercept                3.0867      0.057     54.029      0.000       2.975       3.199\n",
       "isNew[T.True]            0.0379      0.006      6.168      0.000       0.026       0.050\n",
       "_Total_SF_log            0.4942      0.018     26.794      0.000       0.458       0.530\n",
       "OverallQual              0.0344      0.002     17.296      0.000       0.030       0.038\n",
       "OverallCond              0.0209      0.002     13.133      0.000       0.018       0.024\n",
       "GarageCars               0.0323      0.003     11.263      0.000       0.027       0.038\n",
       "Total_Bath               0.0278      0.002     11.777      0.000       0.023       0.032\n",
       "Neighborhood_ClearCr     0.0542      0.013      4.231      0.000       0.029       0.079\n",
       "Neighborhood_NWAmes     -0.0136      0.008     -1.756      0.079      -0.029       0.002\n",
       "Neighborhood_Crawfor     0.0461      0.009      5.153      0.000       0.029       0.064\n",
       "Neighborhood_Veenker     0.0525      0.017      3.013      0.003       0.018       0.087\n",
       "Neighborhood_BrDale     -0.0838      0.016     -5.352      0.000      -0.114      -0.053\n",
       "Neighborhood_NoRidge     0.0668      0.011      6.193      0.000       0.046       0.088\n",
       "Neighborhood_Somerst     0.0349      0.008      4.350      0.000       0.019       0.051\n",
       "Neighborhood_Blmngtn    -0.0030      0.014     -0.210      0.834      -0.031       0.025\n",
       "Neighborhood_CollgCr     0.0302      0.006      5.006      0.000       0.018       0.042\n",
       "Neighborhood_OldTown    -0.0651      0.007     -9.992      0.000      -0.078      -0.052\n",
       "Neighborhood_Timber      0.0431      0.011      4.097      0.000       0.022       0.064\n",
       "Neighborhood_StoneBr     0.0760      0.013      5.753      0.000       0.050       0.102\n",
       "Neighborhood_Gilbert     0.0252      0.008      3.295      0.001       0.010       0.040\n",
       "Neighborhood_IDOTRR     -0.0745      0.010     -7.393      0.000      -0.094      -0.055\n",
       "Neighborhood_NridgHt     0.0709      0.009      7.864      0.000       0.053       0.089\n",
       "Neighborhood_SawyerW     0.0141      0.008      1.703      0.089      -0.002       0.030\n",
       "Neighborhood_Edwards    -0.0102      0.007     -1.483      0.138      -0.024       0.003\n",
       "Neighborhood_MeadowV    -0.0465      0.015     -3.186      0.001      -0.075      -0.018\n",
       "Neighborhood_SWISU      -0.0292      0.013     -2.333      0.020      -0.054      -0.005\n",
       "==============================================================================\n",
       "Omnibus:                      229.695   Durbin-Watson:                   1.952\n",
       "Prob(Omnibus):                  0.000   Jarque-Bera (JB):              881.089\n",
       "Skew:                          -0.778   Prob(JB):                    4.72e-192\n",
       "Kurtosis:                       6.631   Cond. No.                         378.\n",
       "==============================================================================\n",
       "\n",
       "Warnings:\n",
       "[1] Standard Errors assume that the covariance matrix of the errors is correctly specified.\n",
       "\"\"\""
      ]
     },
     "execution_count": 19,
     "metadata": {},
     "output_type": "execute_result"
    }
   ],
   "source": [
    "base = \" + \".join([\"_Total_SF_log\",\"OverallQual\",\"OverallCond\",\"GarageCars\",\"isNew\",\"Total_Bath\"])\n",
    "linear_regression_neigh = smf.ols(formula='SalePrice_log ~ '+ base + \"+\" + \" + \".join(neigh-not_relevant)\n",
    "                                  , data=house)\n",
    "fitted_model_neigh = linear_regression_neigh.fit()\n",
    "fitted_model_neigh.summary()"
   ]
  },
  {
   "cell_type": "code",
   "execution_count": 20,
   "metadata": {},
   "outputs": [],
   "source": [
    "other =['MSSubClass', 'MSZoning', 'Utilities', 'LotConfig',\n",
    "       'LandSlope', 'Neighborhood', 'Condition1', 'Condition2', 'BldgType',\n",
    "       'HouseStyle', 'OverallQual', 'OverallCond',\n",
    "       'RoofStyle', 'RoofMatl', 'Exterior1st', 'Exterior2nd', 'MasVnrType',\n",
    "       'MasVnrArea', 'ExterQual', 'ExterCond', 'Foundation', 'BsmtQual',\n",
    "       'BsmtCond', 'BsmtExposure', 'BsmtFinType1', 'BsmtFinSF1',\n",
    "       'BsmtFinType2',  'Heating',\n",
    "       'HeatingQC', 'CentralAir', 'Electrical',\n",
    "       'LowQualFinSF', 'BsmtFullBath', 'BsmtHalfBath', 'FullBath',\n",
    "       'HalfBath', 'BedroomAbvGr', 'KitchenAbvGr', 'KitchenQual',\n",
    "       'TotRmsAbvGrd', 'Functional', 'Fireplaces', 'FireplaceQu', 'GarageType',\n",
    "       'GarageFinish', 'GarageCars','GarageQual',\n",
    "       'GarageCond', 'PavedDrive', 'WoodDeckSF', 'OpenPorchSF',\n",
    "       'EnclosedPorch', '3SsnPorch', 'ScreenPorch', 'PoolArea', 'PoolQC',\n",
    "       'Fence', 'MiscFeature', 'MiscVal', 'SaleType',\n",
    "       'SaleCondition','Total_Bath']"
   ]
  },
  {
   "cell_type": "code",
   "execution_count": 21,
   "metadata": {},
   "outputs": [
    {
     "name": "stdout",
     "output_type": "stream",
     "text": [
      "Accuracy : 0.89 (+/- 0.02)\n"
     ]
    },
    {
     "name": "stderr",
     "output_type": "stream",
     "text": [
      "/Users/severinhatt/Virtualenvs/thinkful/base_plotting/lib/python3.7/site-packages/sklearn/linear_model/base.py:509: RuntimeWarning: internal gelsd driver lwork query error, required iwork dimension not returned. This is likely the result of LAPACK bug 0038, fixed in LAPACK 3.2.2 (released July 21, 2010). Falling back to 'gelss' driver.\n",
      "  linalg.lstsq(X, y)\n"
     ]
    }
   ],
   "source": [
    "\n",
    "\n",
    "regr = linear_model.LinearRegression()\n",
    "other_for_reg = list(house[other].select_dtypes(include='int64').columns) + [\"isNew\",\"isCBlock\"]\n",
    "for_reg = house[list(neigh-not_relevant)+[\"_Total_SF_log\",\"SalePrice_log\"]+other_for_reg].fillna(0)\n",
    "base_set = set([\"_Total_SF_log\",\"OverallQual\",\"OverallCond\",\"GarageCars\",\"isNew\",\"Total_Bath\"])\n",
    "\n",
    "x = for_reg[list(base_set)+list(neigh-not_relevant)]\n",
    "y = for_reg[[\"SalePrice_log\"]]\n",
    "score = cross_val_score(regr, x, y, cv=5)\n",
    "print(\"Accuracy : %0.2f (+/- %0.2f)\" % (score.mean(), score.std() * 2))"
   ]
  },
  {
   "cell_type": "markdown",
   "metadata": {},
   "source": [
    "# KNN Regression"
   ]
  },
  {
   "cell_type": "code",
   "execution_count": 44,
   "metadata": {},
   "outputs": [
    {
     "name": "stdout",
     "output_type": "stream",
     "text": [
      "Accuracy for 1: 0.76 (+/- 0.05)\n",
      "Accuracy for 5: 0.84 (+/- 0.02)\n",
      "Accuracy for 10: 0.84 (+/- 0.02)\n",
      "Accuracy for 15: 0.83 (+/- 0.02)\n",
      "Accuracy for 20: 0.83 (+/- 0.02)\n",
      "Accuracy for 25: 0.82 (+/- 0.01)\n",
      "Accuracy for 30: 0.82 (+/- 0.02)\n",
      "Accuracy for 35: 0.81 (+/- 0.02)\n",
      "Accuracy for 40: 0.81 (+/- 0.02)\n",
      "Accuracy for 45: 0.80 (+/- 0.02)\n",
      "Accuracy for 50: 0.80 (+/- 0.02)\n",
      "Accuracy for 55: 0.80 (+/- 0.02)\n",
      "Accuracy for 60: 0.80 (+/- 0.02)\n",
      "Accuracy for 65: 0.79 (+/- 0.02)\n",
      "Accuracy for 70: 0.79 (+/- 0.02)\n",
      "Accuracy for 75: 0.79 (+/- 0.02)\n",
      "Accuracy for 80: 0.78 (+/- 0.02)\n",
      "Accuracy for 85: 0.78 (+/- 0.02)\n",
      "Accuracy for 90: 0.78 (+/- 0.02)\n",
      "Accuracy for 95: 0.78 (+/- 0.02)\n"
     ]
    }
   ],
   "source": [
    "for k in [1]+list(range(5,100,5)):\n",
    "    knn = neighbors.KNeighborsRegressor(n_neighbors=k)#,weights=power_(n,10**(-off)))\n",
    "    #score = cross_val_score(knn, x, y, cv=3)\n",
    "    score = cross_val_score(knn, x,y, cv=5)\n",
    "    print(\"Accuracy for %i: %0.2f (+/- %0.2f)\" % (k,score.mean(), score.std() * 2))\n"
   ]
  },
  {
   "cell_type": "code",
   "execution_count": 45,
   "metadata": {},
   "outputs": [],
   "source": [
    "def power_(n,offset):\n",
    "    return lambda x:np.power(x+offset,-n)"
   ]
  },
  {
   "cell_type": "code",
   "execution_count": 49,
   "metadata": {},
   "outputs": [
    {
     "name": "stdout",
     "output_type": "stream",
     "text": [
      "Accuracy for 5 1 0: 0.83 (+/- 0.02)\n",
      "Accuracy for 5 1 1: 0.82 (+/- 0.02)\n",
      "Accuracy for 5 1 2: 0.82 (+/- 0.02)\n",
      "Accuracy for 5 2 0: 0.82 (+/- 0.02)\n",
      "Accuracy for 5 2 1: 0.81 (+/- 0.02)\n",
      "Accuracy for 5 2 2: 0.80 (+/- 0.02)\n",
      "Accuracy for 5 3 0: 0.82 (+/- 0.02)\n",
      "Accuracy for 5 3 1: 0.80 (+/- 0.02)\n",
      "Accuracy for 5 3 2: 0.80 (+/- 0.02)\n",
      "Accuracy for 10 1 0: 0.83 (+/- 0.02)\n",
      "Accuracy for 10 1 1: 0.83 (+/- 0.02)\n",
      "Accuracy for 10 1 2: 0.83 (+/- 0.02)\n",
      "Accuracy for 10 2 0: 0.83 (+/- 0.02)\n",
      "Accuracy for 10 2 1: 0.82 (+/- 0.02)\n",
      "Accuracy for 10 2 2: 0.81 (+/- 0.02)\n",
      "Accuracy for 10 3 0: 0.83 (+/- 0.02)\n",
      "Accuracy for 10 3 1: 0.81 (+/- 0.03)\n",
      "Accuracy for 10 3 2: 0.80 (+/- 0.02)\n",
      "Accuracy for 15 1 0: 0.83 (+/- 0.03)\n",
      "Accuracy for 15 1 1: 0.83 (+/- 0.03)\n",
      "Accuracy for 15 1 2: 0.83 (+/- 0.02)\n",
      "Accuracy for 15 2 0: 0.83 (+/- 0.03)\n",
      "Accuracy for 15 2 1: 0.82 (+/- 0.03)\n",
      "Accuracy for 15 2 2: 0.81 (+/- 0.02)\n",
      "Accuracy for 15 3 0: 0.82 (+/- 0.03)\n",
      "Accuracy for 15 3 1: 0.81 (+/- 0.03)\n",
      "Accuracy for 15 3 2: 0.80 (+/- 0.03)\n",
      "Accuracy for 20 1 0: 0.82 (+/- 0.03)\n",
      "Accuracy for 20 1 1: 0.83 (+/- 0.03)\n",
      "Accuracy for 20 1 2: 0.83 (+/- 0.02)\n",
      "Accuracy for 20 2 0: 0.82 (+/- 0.03)\n",
      "Accuracy for 20 2 1: 0.81 (+/- 0.03)\n",
      "Accuracy for 20 2 2: 0.81 (+/- 0.02)\n",
      "Accuracy for 20 3 0: 0.82 (+/- 0.03)\n",
      "Accuracy for 20 3 1: 0.80 (+/- 0.03)\n",
      "Accuracy for 20 3 2: 0.80 (+/- 0.02)\n",
      "Accuracy for 25 1 0: 0.82 (+/- 0.03)\n",
      "Accuracy for 25 1 1: 0.82 (+/- 0.03)\n",
      "Accuracy for 25 1 2: 0.82 (+/- 0.02)\n",
      "Accuracy for 25 2 0: 0.82 (+/- 0.03)\n",
      "Accuracy for 25 2 1: 0.81 (+/- 0.02)\n",
      "Accuracy for 25 2 2: 0.80 (+/- 0.02)\n",
      "Accuracy for 25 3 0: 0.82 (+/- 0.03)\n",
      "Accuracy for 25 3 1: 0.80 (+/- 0.02)\n",
      "Accuracy for 25 3 2: 0.80 (+/- 0.02)\n",
      "Accuracy for 30 1 0: 0.81 (+/- 0.03)\n",
      "Accuracy for 30 1 1: 0.81 (+/- 0.03)\n",
      "Accuracy for 30 1 2: 0.82 (+/- 0.02)\n",
      "Accuracy for 30 2 0: 0.81 (+/- 0.03)\n",
      "Accuracy for 30 2 1: 0.81 (+/- 0.02)\n",
      "Accuracy for 30 2 2: 0.80 (+/- 0.02)\n",
      "Accuracy for 30 3 0: 0.81 (+/- 0.03)\n",
      "Accuracy for 30 3 1: 0.80 (+/- 0.02)\n",
      "Accuracy for 30 3 2: 0.79 (+/- 0.02)\n",
      "Accuracy for 35 1 0: 0.80 (+/- 0.03)\n",
      "Accuracy for 35 1 1: 0.81 (+/- 0.03)\n",
      "Accuracy for 35 1 2: 0.82 (+/- 0.02)\n",
      "Accuracy for 35 2 0: 0.81 (+/- 0.03)\n",
      "Accuracy for 35 2 1: 0.81 (+/- 0.02)\n",
      "Accuracy for 35 2 2: 0.80 (+/- 0.02)\n",
      "Accuracy for 35 3 0: 0.81 (+/- 0.03)\n",
      "Accuracy for 35 3 1: 0.80 (+/- 0.02)\n",
      "Accuracy for 35 3 2: 0.79 (+/- 0.02)\n",
      "Accuracy for 40 1 0: 0.80 (+/- 0.03)\n",
      "Accuracy for 40 1 1: 0.81 (+/- 0.02)\n",
      "Accuracy for 40 1 2: 0.81 (+/- 0.02)\n",
      "Accuracy for 40 2 0: 0.80 (+/- 0.03)\n",
      "Accuracy for 40 2 1: 0.81 (+/- 0.02)\n",
      "Accuracy for 40 2 2: 0.80 (+/- 0.01)\n",
      "Accuracy for 40 3 0: 0.81 (+/- 0.02)\n",
      "Accuracy for 40 3 1: 0.80 (+/- 0.02)\n",
      "Accuracy for 40 3 2: 0.79 (+/- 0.02)\n",
      "Accuracy for 45 1 0: 0.80 (+/- 0.03)\n",
      "Accuracy for 45 1 1: 0.81 (+/- 0.02)\n",
      "Accuracy for 45 1 2: 0.81 (+/- 0.02)\n",
      "Accuracy for 45 2 0: 0.80 (+/- 0.03)\n",
      "Accuracy for 45 2 1: 0.81 (+/- 0.02)\n",
      "Accuracy for 45 2 2: 0.80 (+/- 0.01)\n",
      "Accuracy for 45 3 0: 0.81 (+/- 0.02)\n",
      "Accuracy for 45 3 1: 0.80 (+/- 0.02)\n",
      "Accuracy for 45 3 2: 0.79 (+/- 0.02)\n"
     ]
    }
   ],
   "source": [
    "for k in range(5,50,5):\n",
    "    for n in range(1,4):\n",
    "        for off in range(3):\n",
    "            knn = neighbors.KNeighborsRegressor(n_neighbors=k,weights=power_(n,10**(-off)))\n",
    "            score = cross_val_score(knn, x, y, cv=3)\n",
    "            print(\"Accuracy for %i %i %i: %0.2f (+/- %0.2f)\" % (k,n,off,score.mean(), score.std() * 2))"
   ]
  },
  {
   "cell_type": "code",
   "execution_count": 48,
   "metadata": {},
   "outputs": [
    {
     "name": "stdout",
     "output_type": "stream",
     "text": [
      "Accuracy for 5: 0.82 (+/- 0.02)\n",
      "Accuracy for 10: 0.83 (+/- 0.02)\n",
      "Accuracy for 15: 0.83 (+/- 0.02)\n",
      "Accuracy for 20: 0.82 (+/- 0.02)\n",
      "Accuracy for 25: 0.82 (+/- 0.02)\n",
      "Accuracy for 30: 0.82 (+/- 0.02)\n",
      "Accuracy for 35: 0.81 (+/- 0.02)\n",
      "Accuracy for 40: 0.81 (+/- 0.02)\n",
      "Accuracy for 45: 0.81 (+/- 0.02)\n"
     ]
    }
   ],
   "source": [
    "for k in range(5,50,5):\n",
    "    knn = neighbors.KNeighborsRegressor(n_neighbors=k,weights=\"distance\")\n",
    "    score = cross_val_score(knn, x, y, cv=3)\n",
    "    print(\"Accuracy for %i: %0.2f (+/- %0.2f)\" % (k,score.mean(), score.std() * 2))"
   ]
  },
  {
   "cell_type": "markdown",
   "metadata": {},
   "source": [
    "In this context, where the features where selected for the performances of a lienar regressions, the results are better for the linear regression, but they are still very goods the the KNN regression.\n",
    "\n",
    "The obvious advantage of KNN is that there is less requirements on the data to be able to apply.\n",
    "\n",
    "This being said, we lose with the KNN the explanatory power of the regression. \n",
    "\n",
    "Building on that, it seems that KNN will not be able to perform very well if there are not enough example in the training dataset that are similar to the point that need to be predicted (like points that are not in the same range, with with different range value).\n",
    "\n",
    "For example, the regression being able to evaluate the influence of each feature it will be able to predict in this exmaple a house of bad quality in a Neighbourhood that only have houses of good quality.\n",
    "\n",
    "In general, KNN should be able to give accurate prediction in cases where the data is not linear and the variable that need to be predicted is close to the data in the train set.\n"
   ]
  }
 ],
 "metadata": {
  "kernelspec": {
   "display_name": "Python 3",
   "language": "python",
   "name": "python3"
  },
  "language_info": {
   "codemirror_mode": {
    "name": "ipython",
    "version": 3
   },
   "file_extension": ".py",
   "mimetype": "text/x-python",
   "name": "python",
   "nbconvert_exporter": "python",
   "pygments_lexer": "ipython3",
   "version": "3.7.0"
  }
 },
 "nbformat": 4,
 "nbformat_minor": 2
}
